{
 "cells": [
  {
   "cell_type": "markdown",
   "id": "5fbc2d16-59f9-4be3-b93e-1a5440c7efd0",
   "metadata": {},
   "source": [
    "# Tutorial 3 - Physics-Informed Neural Networks"
   ]
  },
  {
   "cell_type": "markdown",
   "id": "1afe6a1e-3ab4-4f3f-ad47-f6cd66419504",
   "metadata": {},
   "source": [
    "One of the areas where KANs have found a lot of applications is PDE solving by replacing MLPs as the underlying architecture for Physics-Informed Neural Networks (PINNs)."
   ]
  },
  {
   "cell_type": "code",
   "execution_count": 6,
   "id": "0a2ef2a6-f681-427f-8252-ade2111ce0e6",
   "metadata": {},
   "outputs": [],
   "source": [
    "import os\n",
    "import sys\n",
    "\n",
    "# Workaround to import jaxKAN\n",
    "project_root = os.path.abspath(\"..\")\n",
    "sys.path.append(project_root)\n",
    "\n",
    "from jaxkan.KAN import KAN\n",
    "\n",
    "import jax\n",
    "import jax.numpy as jnp\n",
    "\n",
    "from jaxkan.utils.PIKAN import sobol_sample, gradf, train_PIKAN\n",
    "\n",
    "from flax import nnx\n",
    "import optax\n",
    "\n",
    "import matplotlib.pyplot as plt\n",
    "import numpy as np"
   ]
  },
  {
   "cell_type": "markdown",
   "id": "60e70a5d-0340-4bdc-af4e-150d0098a87e",
   "metadata": {},
   "source": [
    "## Data Generation"
   ]
  },
  {
   "cell_type": "markdown",
   "id": "166ad90d-430e-45ca-86a8-e6e4dbc1c943",
   "metadata": {},
   "source": [
    "For the purposes of this example, we will be solving Burgers' Equation,\n",
    "\n",
    "$$ \\frac{\\partial u}{\\partial t} + u\\frac{\\partial u}{\\partial x} - \\nu \\frac{\\partial^2 u}{\\partial x^2} = 0,$$\n",
    "\n",
    "for $\\nu = \\pi/100$ in the $\\Omega = [0,1]\\times [-1, 1]$ domain, subject to the boundary conditions\n",
    "\n",
    "$$ u\\left(t=0, x\\right) = -\\sin\\left(\\pi x\\right), $$\n",
    "\n",
    "$$ u\\left(t, x=-1\\right) = u\\left(t, x=1\\right) = 0. $$\n",
    "\n",
    "To this end, we must first define appropriate collocation points. Note that in the following we are using the `sobol_sample` method from `jaxkan.utils.PIKAN`, to perform Sobol sampling for the collocation points used to enforce the PDE."
   ]
  },
  {
   "cell_type": "code",
   "execution_count": 3,
   "id": "b986e75a-6d4a-402f-bea7-36d13f4a7866",
   "metadata": {},
   "outputs": [],
   "source": [
    "seed = 42\n",
    "\n",
    "# Generate Collocation points for PDE\n",
    "N = 2**12\n",
    "collocs = jnp.array(sobol_sample(np.array([0,-1]), np.array([1,1]), N, seed)) # (4096, 2)\n",
    "\n",
    "# Generate Collocation points for BCs\n",
    "N = 2**6\n",
    "\n",
    "BC1_colloc = jnp.array(sobol_sample(np.array([0,-1]), np.array([0,1]), N)) # (64, 2)\n",
    "BC1_data = - jnp.sin(np.pi*BC1_colloc[:,1]).reshape(-1,1) # (64, 1)\n",
    "\n",
    "BC2_colloc = jnp.array(sobol_sample(np.array([0,-1]), np.array([1,-1]), N)) # (64, 2)\n",
    "BC2_data = jnp.zeros(BC2_colloc.shape[0]).reshape(-1,1) # (64, 1)\n",
    "\n",
    "BC3_colloc = jnp.array(sobol_sample(np.array([0,1]), np.array([1,1]), N)) # (64, 2)\n",
    "BC3_data = jnp.zeros(BC3_colloc.shape[0]).reshape(-1,1) # (64, 1)\n",
    "\n",
    "# Create lists for BCs\n",
    "bc_collocs = [BC1_colloc, BC2_colloc, BC3_colloc]\n",
    "bc_data = [BC1_data, BC2_data, BC3_data]"
   ]
  },
  {
   "cell_type": "code",
   "execution_count": 9,
   "id": "9da80dc4",
   "metadata": {},
   "outputs": [
    {
     "data": {
      "text/plain": [
       "3"
      ]
     },
     "execution_count": 9,
     "metadata": {},
     "output_type": "execute_result"
    }
   ],
   "source": [
    "len(bc_collocs)"
   ]
  },
  {
   "cell_type": "markdown",
   "id": "4e9d9bba-71e2-4d5b-95b1-36167fb70c1a",
   "metadata": {},
   "source": [
    "## KAN Model"
   ]
  },
  {
   "cell_type": "markdown",
   "id": "2fd54c6c-3d28-4864-af38-3b22875d0f0a",
   "metadata": {},
   "source": [
    "We covered KAN Model selection in the first tutorial, so feel free to refer to it for more info. For this example, we will be using a Modified Chebychev KAN Layer."
   ]
  },
  {
   "cell_type": "code",
   "execution_count": 13,
   "id": "b350b56f-5daa-411f-9090-b544760c34ef",
   "metadata": {},
   "outputs": [
    {
     "name": "stdout",
     "output_type": "stream",
     "text": [
      "KAN(\n",
      "  add_bias=True,\n",
      "  layer_type='mod-cheby',\n",
      "  layers=[ModifiedChebyLayer(\n",
      "    n_in=2,\n",
      "    n_out=6,\n",
      "    k=5,\n",
      "    c_basis=Param(\n",
      "      value=Array(shape=(6, 2, 6), dtype=float32)\n",
      "    ),\n",
      "    c_act=Param(\n",
      "      value=Array(shape=(6, 2), dtype=float32)\n",
      "    )\n",
      "  ), ModifiedChebyLayer(\n",
      "    n_in=6,\n",
      "    n_out=6,\n",
      "    k=5,\n",
      "    c_basis=Param(\n",
      "      value=Array(shape=(6, 6, 6), dtype=float32)\n",
      "    ),\n",
      "    c_act=Param(\n",
      "      value=Array(shape=(6, 6), dtype=float32)\n",
      "    )\n",
      "  ), ModifiedChebyLayer(\n",
      "    n_in=6,\n",
      "    n_out=1,\n",
      "    k=5,\n",
      "    c_basis=Param(\n",
      "      value=Array(shape=(1, 6, 6), dtype=float32)\n",
      "    ),\n",
      "    c_act=Param(\n",
      "      value=Array(shape=(1, 6), dtype=float32)\n",
      "    )\n",
      "  )],\n",
      "  biases=[Param(\n",
      "    value=Array(shape=(6,), dtype=float32)\n",
      "  ), Param(\n",
      "    value=Array(shape=(6,), dtype=float32)\n",
      "  ), Param(\n",
      "    value=Array([0.], dtype=float32)\n",
      "  )]\n",
      ")\n"
     ]
    }
   ],
   "source": [
    "# Initialize a KAN model\n",
    "n_in = collocs.shape[1]\n",
    "n_out = 1\n",
    "n_hidden = 6\n",
    "\n",
    "layer_dims = [n_in, n_hidden, n_hidden, n_out]\n",
    "req_params = {'k': 5}\n",
    "\n",
    "model = KAN(layer_dims = layer_dims,\n",
    "            layer_type = 'mod-cheby',\n",
    "            required_parameters = req_params,\n",
    "            add_bias = True,\n",
    "            rngs = nnx.Rngs(seed)\n",
    "           )\n",
    "\n",
    "print(model)"
   ]
  },
  {
   "cell_type": "markdown",
   "id": "f681d135-c885-4e59-87d7-1ea16a157c50",
   "metadata": {},
   "source": [
    "## Training"
   ]
  },
  {
   "cell_type": "code",
   "execution_count": 14,
   "id": "6723a412-c313-453c-aa88-9274687ee54e",
   "metadata": {},
   "outputs": [],
   "source": [
    "opt_type = optax.adam(learning_rate=0.001)\n",
    "\n",
    "optimizer = nnx.Optimizer(model, opt_type)"
   ]
  },
  {
   "cell_type": "markdown",
   "id": "eaac2ddc-ad53-40db-804b-7f54f3000476",
   "metadata": {},
   "source": [
    "This problem does not correspond to supervised training. We simply need to define a loss term that enforces the PDE as well as a loss term that enforces the boundary conditions. Note that we utilize the `gradf` method from `jaxkan.utils.PIKAN`, which provides a straightforward way of defining derivatives of arbitrary order for $u$."
   ]
  },
  {
   "cell_type": "code",
   "execution_count": 15,
   "id": "f18ab849-3c05-418a-a30b-3928f77c332d",
   "metadata": {},
   "outputs": [],
   "source": [
    "# PDE Loss\n",
    "def pde_loss(model, collocs):\n",
    "    # Eq. parameter\n",
    "    v = jnp.array(0.01/jnp.pi, dtype=float)\n",
    "\n",
    "    def u(x):\n",
    "        y = model(x)\n",
    "        return y\n",
    "        \n",
    "    # Physics Loss Terms\n",
    "    u_t = gradf(u, 0, 1)\n",
    "    u_x = gradf(u, 1, 1)\n",
    "    u_xx = gradf(u, 1, 2)\n",
    "    \n",
    "    # Residual\n",
    "    pde_res = u_t(collocs) + model(collocs)*u_x(collocs) - v*u_xx(collocs)\n",
    "    \n",
    "    return pde_res\n",
    "\n",
    "# Define train loop\n",
    "@nnx.jit\n",
    "def train_step(model, optimizer, collocs, bc_collocs, bc_data):\n",
    "\n",
    "    def loss_fn(model):\n",
    "        pde_res = pde_loss(model, collocs)\n",
    "        total_loss = jnp.mean((pde_res)**2)\n",
    "\n",
    "        # Boundary losses\n",
    "        for idx, colloc in enumerate(bc_collocs):\n",
    "            # Residual = Model's prediction - Ground Truth\n",
    "            residual = model(colloc)\n",
    "            residual -= bc_data[idx]\n",
    "            # Loss\n",
    "            total_loss += jnp.mean(residual**2)\n",
    "\n",
    "        return total_loss\n",
    "    \n",
    "    loss, grads = nnx.value_and_grad(loss_fn)(model)\n",
    "    optimizer.update(grads)\n",
    "    \n",
    "    return loss"
   ]
  },
  {
   "cell_type": "code",
   "execution_count": 6,
   "id": "b06282a5-8899-4801-9c9e-d8b73b55d74a",
   "metadata": {},
   "outputs": [],
   "source": [
    "# Initialize train_losses\n",
    "num_epochs = 5000\n",
    "train_losses = jnp.zeros((num_epochs,))\n",
    "\n",
    "for epoch in range(num_epochs):\n",
    "    # Calculate the loss\n",
    "    loss = train_step(model, optimizer, collocs, bc_collocs, bc_data)\n",
    "    \n",
    "    # Append the loss\n",
    "    train_losses = train_losses.at[epoch].set(loss)"
   ]
  },
  {
   "cell_type": "code",
   "execution_count": 21,
   "id": "13c52c19",
   "metadata": {},
   "outputs": [
    {
     "data": {
      "text/plain": [
       "[ModifiedChebyLayer(\n",
       "   n_in=2,\n",
       "   n_out=6,\n",
       "   k=5,\n",
       "   c_basis=Param(\n",
       "     value=Array(shape=(6, 2, 6), dtype=float32)\n",
       "   ),\n",
       "   c_act=Param(\n",
       "     value=Array(shape=(6, 2), dtype=float32)\n",
       "   )\n",
       " ),\n",
       " ModifiedChebyLayer(\n",
       "   n_in=6,\n",
       "   n_out=6,\n",
       "   k=5,\n",
       "   c_basis=Param(\n",
       "     value=Array(shape=(6, 6, 6), dtype=float32)\n",
       "   ),\n",
       "   c_act=Param(\n",
       "     value=Array(shape=(6, 6), dtype=float32)\n",
       "   )\n",
       " ),\n",
       " ModifiedChebyLayer(\n",
       "   n_in=6,\n",
       "   n_out=1,\n",
       "   k=5,\n",
       "   c_basis=Param(\n",
       "     value=Array(shape=(1, 6, 6), dtype=float32)\n",
       "   ),\n",
       "   c_act=Param(\n",
       "     value=Array(shape=(1, 6), dtype=float32)\n",
       "   )\n",
       " )]"
      ]
     },
     "execution_count": 21,
     "metadata": {},
     "output_type": "execute_result"
    }
   ],
   "source": [
    "model.layers"
   ]
  },
  {
   "cell_type": "code",
   "execution_count": 37,
   "id": "74120ded",
   "metadata": {},
   "outputs": [],
   "source": [
    "def get_vanilla_loss_(pde_loss, model):\n",
    "    '''\n",
    "        Wrapper that returns the loss function for a vanilla PIKAN\n",
    "        \n",
    "        Args:\n",
    "        -----\n",
    "            pde_loss (function): loss function corresponding to the PDE\n",
    "            model: model from the models module TODO: check if it can be removed, as it is not constant\n",
    "        \n",
    "        Returns:\n",
    "        --------\n",
    "            vanilla_loss_fn (function): loss function for the PIKAN\n",
    "    '''\n",
    "    \n",
    "    @nnx.jit\n",
    "    def vanilla_loss_fn(model, collocs, bc_collocs, bc_data, glob_w, loc_w, state):\n",
    "        '''\n",
    "            Loss function for a vanilla PIKAN\n",
    "            \n",
    "            Args:\n",
    "            -----\n",
    "                model (jaxkan.KAN.KAN): jaxkan type model\n",
    "                collocs (jnp.array): collocation points for the PDE loss\n",
    "                bc_collocs (List[jnp.array]): list of collocation points for the boundary losses\n",
    "                bc_data (List[jnp.array]): list of data corresponding to bc_collocs\n",
    "                glob_w (List[jnp.array]): global weights for each loss function's term\n",
    "                loc_w (NoneType): placeholder to ensure a uniform train_step()\n",
    "                state (dict): non-trainable parameters of the model\n",
    "                \n",
    "            Returns:\n",
    "            --------\n",
    "                total_loss (float): the loss function's value\n",
    "                None (NoneType): placeholder to ensure a uniform train_step()\n",
    "        '''     \n",
    "        # Calculate PDE loss\n",
    "        pde_res = pde_loss(model, collocs)\n",
    "        total_loss = glob_w[0]*jnp.mean((pde_res)**2)\n",
    "\n",
    "         # Boundary losses\n",
    "        for idx, colloc in enumerate(bc_collocs):\n",
    "            # Residual = Model's prediction - Ground Truth\n",
    "            residual = model(colloc)\n",
    "            residual -= bc_data[idx]\n",
    "            # Loss\n",
    "            total_loss += glob_w[idx+1]*jnp.mean(residual**2)\n",
    "        \n",
    "        return total_loss\n",
    "        \n",
    "    return vanilla_loss_fn"
   ]
  },
  {
   "cell_type": "code",
   "execution_count": 38,
   "id": "1e049ba8",
   "metadata": {},
   "outputs": [],
   "source": [
    "loss_fn = get_vanilla_loss_(pde_loss, model)"
   ]
  },
  {
   "cell_type": "code",
   "execution_count": 30,
   "id": "d00932e2",
   "metadata": {},
   "outputs": [
    {
     "data": {
      "text/plain": [
       "Array([[-0.0281404 ],\n",
       "       [ 0.07633308],\n",
       "       [ 0.01814028],\n",
       "       ...,\n",
       "       [ 0.02013156],\n",
       "       [ 0.08230258],\n",
       "       [ 0.00591262]], dtype=float32)"
      ]
     },
     "execution_count": 30,
     "metadata": {},
     "output_type": "execute_result"
    }
   ],
   "source": [
    "pde_loss(model, collocs)"
   ]
  },
  {
   "cell_type": "code",
   "execution_count": 39,
   "id": "4d8cf8b0",
   "metadata": {},
   "outputs": [
    {
     "data": {
      "text/plain": [
       "Array(0.63434386, dtype=float32)"
      ]
     },
     "execution_count": 39,
     "metadata": {},
     "output_type": "execute_result"
    }
   ],
   "source": [
    "loss_fn(model,collocs=collocs,bc_collocs=bc_collocs, bc_data=bc_data, glob_w=jnp.array([1.0]*len(bc_collocs)), loc_w=None, state=None)"
   ]
  },
  {
   "cell_type": "code",
   "execution_count": null,
   "id": "d516421e",
   "metadata": {},
   "outputs": [],
   "source": [
    "# Define loss function\n",
    "if loc_w is None: #loc_w (List[jnp.array]): local RBA weights for each loss function's term\n",
    "    loss_fn = get_vanilla_loss(pde_loss, model, variables)\n",
    "else:\n",
    "    loss_fn = get_adapt_loss(pde_loss, model, variables)"
   ]
  },
  {
   "cell_type": "markdown",
   "id": "faab949e-dadb-4cec-bc13-63b10cb609c5",
   "metadata": {},
   "source": [
    "## Evaluation"
   ]
  },
  {
   "cell_type": "code",
   "execution_count": 7,
   "id": "86630d29-9b9f-452a-b2f1-399b02768829",
   "metadata": {},
   "outputs": [
    {
     "data": {
      "image/png": "[encoded data removed]",
      "text/plain": [
       "<Figure size 700x400 with 1 Axes>"
      ]
     },
     "metadata": {},
     "output_type": "display_data"
    }
   ],
   "source": [
    "plt.figure(figsize=(7, 4))\n",
    "\n",
    "plt.plot(np.array(train_losses), label='Train Loss', marker='o', color='#25599c', markersize=1)\n",
    "\n",
    "plt.xlabel('Epochs')\n",
    "plt.ylabel('Loss')\n",
    "plt.title('Training Loss Over Epochs')\n",
    "plt.yscale('log')\n",
    "\n",
    "plt.legend()\n",
    "plt.grid(True, which='both', linestyle='--', linewidth=0.5) \n",
    "\n",
    "plt.show()"
   ]
  },
  {
   "cell_type": "markdown",
   "id": "5ef7d214-6efa-4124-a587-b47e98cac7d6",
   "metadata": {},
   "source": [
    "The following plot shows the trained neural network on the entire domain, approximating the solution, $u$, of the equation."
   ]
  },
  {
   "cell_type": "code",
   "execution_count": 8,
   "id": "7798eb68-d6b5-47ec-b845-cf3d60dccf23",
   "metadata": {},
   "outputs": [
    {
     "data": {
      "image/png": "[encoded data removed]",
      "text/plain": [
       "<Figure size 700x400 with 2 Axes>"
      ]
     },
     "metadata": {},
     "output_type": "display_data"
    }
   ],
   "source": [
    "N_t, N_x = 100, 256\n",
    "\n",
    "t = np.linspace(0.0, 1.0, N_t)\n",
    "x = np.linspace(-1.0, 1.0, N_x)\n",
    "T, X = np.meshgrid(t, x, indexing='ij')\n",
    "coords = np.stack([T.flatten(), X.flatten()], axis=1)\n",
    "\n",
    "output = model(jnp.array(coords))\n",
    "resplot = np.array(output).reshape(N_t, N_x)\n",
    "\n",
    "plt.figure(figsize=(7, 4))\n",
    "plt.pcolormesh(T, X, resplot, shading='auto', cmap='Spectral_r')\n",
    "plt.colorbar()\n",
    "\n",
    "plt.title('Solution of Burgers Equation')\n",
    "plt.xlabel('t')\n",
    "\n",
    "plt.ylabel('x')\n",
    "\n",
    "plt.tight_layout()\n",
    "plt.show()"
   ]
  },
  {
   "cell_type": "code",
   "execution_count": null,
   "id": "88cc341a-8869-4dd9-be77-ef9bf2d8b5c1",
   "metadata": {},
   "outputs": [],
   "source": []
  }
 ],
 "metadata": {
  "kernelspec": {
   "display_name": "Python 3 (ipykernel)",
   "language": "python",
   "name": "python3"
  },
  "language_info": {
   "codemirror_mode": {
    "name": "ipython",
    "version": 3
   },
   "file_extension": ".py",
   "mimetype": "text/x-python",
   "name": "python",
   "nbconvert_exporter": "python",
   "pygments_lexer": "ipython3",
   "version": "3.10.14"
  }
 },
 "nbformat": 4,
 "nbformat_minor": 5
}
