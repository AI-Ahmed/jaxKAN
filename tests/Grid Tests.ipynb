{
 "cells": [
  {
   "cell_type": "markdown",
   "id": "3378339a-5a70-4377-9814-07340b0361c5",
   "metadata": {},
   "source": [
    "# Tests on Grid generation & extension\n",
    "\n",
    "What follows are jax samples based on pykan or efficientkan, as far as the grid generation and extension process is concerned, to get a better understanding of what's going on."
   ]
  },
  {
   "cell_type": "code",
   "execution_count": 4,
   "id": "954075f8-8edb-440f-a79a-03613bd7b7cc",
   "metadata": {},
   "outputs": [],
   "source": [
    "import jax.numpy as jnp"
   ]
  },
  {
   "cell_type": "code",
   "execution_count": 2,
   "id": "e72f9874-3b72-4bc3-b5cd-1b09380e85d6",
   "metadata": {},
   "outputs": [],
   "source": [
    "# Input parameters relevant to grid\n",
    "k = 3 # splines order\n",
    "G = 5 # grid size (number of knot vector elements)\n",
    "n_in = 2 # number of layer's input nodes\n",
    "n_out = 3 # number of layer's output nodes"
   ]
  },
  {
   "cell_type": "markdown",
   "id": "a4751280-5ece-4b2a-b702-7fbabd4408f7",
   "metadata": {},
   "source": [
    "**<span style=\"color:red\">Open Question: Why are we starting with a grid defined only by its range?</span>**"
   ]
  },
  {
   "cell_type": "code",
   "execution_count": 3,
   "id": "a16f6db2-f43d-46f3-a725-9568243a7b2d",
   "metadata": {},
   "outputs": [],
   "source": [
    "# Grid Initialization - the grid is originally just a knot vector\n",
    "grid_range = [-1, 1]"
   ]
  },
  {
   "cell_type": "markdown",
   "id": "7a991868-8e3e-4f10-af25-e8545661e410",
   "metadata": {},
   "source": [
    "**<span style=\"color:red\">Open Question: Why are we augmenting the grid like this instead of appending the first and last entries k times at the start and end?</span>**"
   ]
  },
  {
   "cell_type": "code",
   "execution_count": 4,
   "id": "b42b651b-65d3-47ac-b324-1f48de0128e3",
   "metadata": {},
   "outputs": [
    {
     "data": {
      "text/plain": [
       "Array([-2.5, -2. , -1.5, -1. , -0.5,  0. ,  0.5,  1. ,  1.5,  2. ,  2.5,\n",
       "        3. ], dtype=float32)"
      ]
     },
     "execution_count": 4,
     "metadata": {},
     "output_type": "execute_result"
    }
   ],
   "source": [
    "# Grid augmentation\n",
    "h = (grid_range[-1] - grid_range[0]) / (G-1)\n",
    "grid = (jnp.arange(-k, G + k + 1, dtype=jnp.float32) * h + grid_range[0])\n",
    "\n",
    "grid"
   ]
  },
  {
   "cell_type": "code",
   "execution_count": 5,
   "id": "e71cddbd-f6ae-4dac-b49e-b45d51e632d1",
   "metadata": {},
   "outputs": [
    {
     "data": {
      "text/plain": [
       "Array([[-2.5, -2. , -1.5, -1. , -0.5,  0. ,  0.5,  1. ,  1.5,  2. ,  2.5,\n",
       "         3. ],\n",
       "       [-2.5, -2. , -1.5, -1. , -0.5,  0. ,  0.5,  1. ,  1.5,  2. ,  2.5,\n",
       "         3. ],\n",
       "       [-2.5, -2. , -1.5, -1. , -0.5,  0. ,  0.5,  1. ,  1.5,  2. ,  2.5,\n",
       "         3. ],\n",
       "       [-2.5, -2. , -1.5, -1. , -0.5,  0. ,  0.5,  1. ,  1.5,  2. ,  2.5,\n",
       "         3. ],\n",
       "       [-2.5, -2. , -1.5, -1. , -0.5,  0. ,  0.5,  1. ,  1.5,  2. ,  2.5,\n",
       "         3. ],\n",
       "       [-2.5, -2. , -1.5, -1. , -0.5,  0. ,  0.5,  1. ,  1.5,  2. ,  2.5,\n",
       "         3. ]], dtype=float32)"
      ]
     },
     "execution_count": 5,
     "metadata": {},
     "output_type": "execute_result"
    }
   ],
   "source": [
    "# Expand for broadcasting - the shape must be (layer_size, G + k), so that the grid\n",
    "# can be passed in get_spline_basis and return a Bi(x) array, where we need only multiply\n",
    "# with the coefficients to get the full spline(x), for each layer's spline (n_in * n_out total).\n",
    "grid = jnp.expand_dims(grid, axis=0)\n",
    "grid = jnp.tile(grid, (n_in*n_out, 1))\n",
    "\n",
    "grid"
   ]
  },
  {
   "cell_type": "markdown",
   "id": "47725051-e46d-4cd6-9b10-774f4ff4a68d",
   "metadata": {},
   "source": [
    "This is the initialization of the grid per layer (registered at `self.`). Then, we have the `upgrade_grid` routine, which is supposed to perform an update for each layer's grid (**can be trainable or not in the future**)."
   ]
  },
  {
   "cell_type": "markdown",
   "id": "7a3cb6aa-c32b-48d6-a779-a269b5cec0c2",
   "metadata": {},
   "source": [
    "In pykan, the `update_grid_from_samples` routine simply performs the mix of adaptive and uniform sampling, given the current grid and the batch. It is the `initialize_grid_from_parent` routine that performs the grid extension. On the other hand, in efficientkan both are handled together in the `update_grid` routine. In what follows, we try to follow the approach of efficientkan, however working with grids of shape $(n_{in}\\cdot n_{out},\\text{batch})$ instead of $(n_{in},\\text{batch})$."
   ]
  },
  {
   "cell_type": "markdown",
   "id": "4baeb3e3-7cc8-4417-8519-03a544b7154f",
   "metadata": {},
   "source": [
    "**<span style=\"color:red\">IDEA: Keep splines as model param function, same as efficientkan, because the grid is also. Then $k$ can be inherited from self too, and the whole thing can normally be jitted.</span>** "
   ]
  },
  {
   "cell_type": "markdown",
   "id": "7eb4c7b4-0f92-43e7-9a39-3ff204fc2794",
   "metadata": {},
   "source": [
    "## Updating the Grid\n",
    "\n",
    "Steps:\n",
    "\n",
    "* "
   ]
  },
  {
   "cell_type": "code",
   "execution_count": null,
   "id": "5c8dc130-3430-4857-a84b-dfdb54bc7d00",
   "metadata": {},
   "outputs": [],
   "source": []
  },
  {
   "cell_type": "code",
   "execution_count": 2,
   "id": "4f7c0027-c2df-4a97-ad65-ff7841b100e0",
   "metadata": {},
   "outputs": [],
   "source": [
    "import torch"
   ]
  },
  {
   "cell_type": "code",
   "execution_count": 5,
   "id": "f091e41c-eb02-47f6-aa86-f2e3275b6581",
   "metadata": {},
   "outputs": [],
   "source": [
    "batch = 300\n",
    "\n",
    "x = jnp.array([[1,2,4,6,8],[1,3,9,66,33]])"
   ]
  },
  {
   "cell_type": "code",
   "execution_count": 7,
   "id": "8a5aeddb-1429-4666-aa27-0cdc1c34f9fb",
   "metadata": {},
   "outputs": [
    {
     "data": {
      "text/plain": [
       "jaxlib.xla_extension.ArrayImpl"
      ]
     },
     "execution_count": 7,
     "metadata": {},
     "output_type": "execute_result"
    }
   ],
   "source": [
    "type(x)"
   ]
  },
  {
   "cell_type": "code",
   "execution_count": null,
   "id": "01ebb07c-701a-416b-945c-397829d2cf07",
   "metadata": {},
   "outputs": [],
   "source": []
  },
  {
   "cell_type": "code",
   "execution_count": null,
   "id": "2211e1c0-7318-48d0-bfa8-008fbf80440f",
   "metadata": {},
   "outputs": [],
   "source": [
    "def curve2coeff(self, x: torch.Tensor, y: torch.Tensor):\n",
    "    \"\"\"\n",
    "    Compute the coefficients of the curve that interpolates the given points.\n",
    "\n",
    "    Args:\n",
    "        x (torch.Tensor): Input tensor of shape (batch_size, in_features).\n",
    "        y (torch.Tensor): Output tensor of shape (batch_size, in_features, out_features).\n",
    "\n",
    "    Returns:\n",
    "        torch.Tensor: Coefficients tensor of shape (out_features, in_features, grid_size + spline_order).\n",
    "    \"\"\"\n",
    "    assert x.dim() == 2 and x.size(1) == self.in_features\n",
    "    assert y.size() == (x.size(0), self.in_features, self.out_features)\n",
    "\n",
    "    A = self.b_splines(x).transpose(\n",
    "        0, 1\n",
    "    )  # (in_features, batch_size, grid_size + spline_order)\n",
    "    B = y.transpose(0, 1)  # (in_features, batch_size, out_features)\n",
    "    solution = torch.linalg.lstsq(\n",
    "        A, B\n",
    "    ).solution  # (in_features, grid_size + spline_order, out_features)\n",
    "    result = solution.permute(\n",
    "        2, 0, 1\n",
    "    )  # (out_features, in_features, grid_size + spline_order)\n",
    "\n",
    "    assert result.size() == (\n",
    "        self.out_features,\n",
    "        self.in_features,\n",
    "        self.grid_size + self.spline_order,\n",
    "    )\n",
    "    \n",
    "    return result"
   ]
  },
  {
   "cell_type": "code",
   "execution_count": null,
   "id": "e0755a6a-4e2d-490b-bcbe-080258467e09",
   "metadata": {},
   "outputs": [],
   "source": []
  },
  {
   "cell_type": "code",
   "execution_count": null,
   "id": "5154c0d5-31ae-41a3-8cc7-6a55ea77d3f0",
   "metadata": {},
   "outputs": [],
   "source": [
    "def curve2coef(x_eval, y_eval, grid, k, device=\"cpu\"):\n",
    "    '''\n",
    "    converting B-spline curves to B-spline coefficients using least squares.\n",
    "    \n",
    "    Args:\n",
    "    -----\n",
    "        x_eval : 2D torch.tensor\n",
    "            shape (number of splines, number of samples)\n",
    "        y_eval : 2D torch.tensor\n",
    "            shape (number of splines, number of samples)\n",
    "        grid : 2D torch.tensor\n",
    "            shape (number of splines, number of grid points)\n",
    "        k : int\n",
    "            the piecewise polynomial order of splines.\n",
    "        device : str\n",
    "            devicde\n",
    "    '''\n",
    "    # x_eval: (size, batch); y_eval: (size, batch); grid: (size, grid); k: scalar\n",
    "    mat = B_batch(x_eval, grid, k, device=device).permute(0, 2, 1)\n",
    "    # coef = torch.linalg.lstsq(mat, y_eval.unsqueeze(dim=2)).solution[:, :, 0]\n",
    "    coef = torch.linalg.lstsq(mat.to(device), y_eval.unsqueeze(dim=2).to(device),\n",
    "                              driver='gelsy' if device == 'cpu' else 'gels').solution[:, :, 0]\n",
    "    return coef.to(device)\n",
    "\n",
    "def curve2coeff(x: torch.Tensor, y: torch.Tensor):\n",
    "    \"\"\"\n",
    "    Compute the coefficients of the curve that interpolates the given points.\n",
    "\n",
    "    Args:\n",
    "        x (torch.Tensor): Input tensor of shape (batch_size, in_features).\n",
    "        y (torch.Tensor): Output tensor of shape (batch_size, in_features, out_features).\n",
    "\n",
    "    Returns:\n",
    "        torch.Tensor: Coefficients tensor of shape (out_features, in_features, grid_size + spline_order).\n",
    "    \"\"\"\n",
    "    assert x.dim() == 2 and x.size(1) == self.in_features\n",
    "    assert y.size() == (x.size(0), self.in_features, self.out_features)\n",
    "\n",
    "    A = self.b_splines(x).transpose(\n",
    "        0, 1\n",
    "    )  # (in_features, batch_size, grid_size + spline_order)\n",
    "    B = y.transpose(0, 1)  # (in_features, batch_size, out_features)\n",
    "    solution = torch.linalg.lstsq(\n",
    "        A, B\n",
    "    ).solution  # (in_features, grid_size + spline_order, out_features)\n",
    "    result = solution.permute(\n",
    "        2, 0, 1\n",
    "    )  # (out_features, in_features, grid_size + spline_order)\n",
    "\n",
    "    assert result.size() == (\n",
    "        self.out_features,\n",
    "        self.in_features,\n",
    "        self.grid_size + self.spline_order,\n",
    "    )\n",
    "    return result.contiguous()"
   ]
  },
  {
   "cell_type": "code",
   "execution_count": null,
   "id": "aa3769ff-f390-42ca-b83c-c938e6167463",
   "metadata": {},
   "outputs": [],
   "source": []
  },
  {
   "cell_type": "code",
   "execution_count": 19,
   "id": "54abdf07-5c1d-49a8-9a39-7b3d0a65bb9f",
   "metadata": {},
   "outputs": [],
   "source": [
    "c_basis = self.param('c_basis', lambda rng, shape: self.noise_std * jax.random.normal(rng, shape), (self.n_in * self.n_out, self.G + self.k))"
   ]
  },
  {
   "cell_type": "code",
   "execution_count": 22,
   "id": "90bebc66-46e4-46d4-ab40-68d24b183355",
   "metadata": {},
   "outputs": [
    {
     "data": {
      "text/plain": [
       "tensor([[ 0.0058,  0.0021,  0.0076,  0.0028, -0.0005,  0.0089,  0.0088,  0.0095,\n",
       "          0.0024,  0.0081, -0.0098, -0.0083],\n",
       "        [-0.0080,  0.0051, -0.0024, -0.0011,  0.0025,  0.0066, -0.0058,  0.0025,\n",
       "         -0.0008,  0.0042,  0.0055, -0.0026],\n",
       "        [ 0.0077,  0.0016,  0.0033, -0.0017,  0.0016,  0.0061,  0.0098,  0.0029,\n",
       "         -0.0022,  0.0065,  0.0022, -0.0014],\n",
       "        [-0.0082, -0.0047, -0.0081,  0.0032,  0.0077,  0.0088,  0.0060,  0.0032,\n",
       "         -0.0013, -0.0062,  0.0018, -0.0087],\n",
       "        [-0.0060,  0.0015, -0.0003,  0.0037,  0.0091,  0.0044,  0.0088, -0.0012,\n",
       "         -0.0011,  0.0041,  0.0025, -0.0051],\n",
       "        [-0.0078,  0.0031,  0.0060, -0.0075,  0.0048,  0.0054, -0.0027,  0.0076,\n",
       "         -0.0004,  0.0037, -0.0088,  0.0054],\n",
       "        [-0.0032, -0.0082, -0.0009, -0.0058, -0.0040, -0.0002,  0.0004,  0.0067,\n",
       "         -0.0006, -0.0057,  0.0079,  0.0091],\n",
       "        [-0.0100, -0.0012,  0.0075,  0.0058,  0.0074,  0.0092, -0.0081, -0.0080,\n",
       "         -0.0025, -0.0071,  0.0023, -0.0067],\n",
       "        [ 0.0083, -0.0056, -0.0098, -0.0037,  0.0029, -0.0095,  0.0071,  0.0094,\n",
       "          0.0030, -0.0073,  0.0038,  0.0013],\n",
       "        [-0.0001, -0.0077,  0.0034, -0.0047,  0.0036, -0.0050, -0.0060,  0.0003,\n",
       "         -0.0012,  0.0048,  0.0010,  0.0021]])"
      ]
     },
     "execution_count": 22,
     "metadata": {},
     "output_type": "execute_result"
    }
   ],
   "source": [
    "noises"
   ]
  },
  {
   "cell_type": "code",
   "execution_count": null,
   "id": "7a88e4f7-fa17-4058-842c-35d6bfc6ebea",
   "metadata": {},
   "outputs": [],
   "source": []
  },
  {
   "cell_type": "code",
   "execution_count": null,
   "id": "5042bd46-63f3-4c92-a52d-fa34d6844d01",
   "metadata": {},
   "outputs": [],
   "source": []
  },
  {
   "cell_type": "code",
   "execution_count": null,
   "id": "bb90618d-819f-48c3-be28-0a33e7ed71a4",
   "metadata": {},
   "outputs": [],
   "source": []
  },
  {
   "cell_type": "code",
   "execution_count": 1,
   "id": "7b633bdd-3170-498a-9e43-f2e3d86f6ca6",
   "metadata": {},
   "outputs": [],
   "source": [
    "import jax\n",
    "import jax.numpy as jnp\n",
    "import math\n",
    "from flax import linen as nn\n",
    "from flax.training import train_state\n",
    "from flax.linen import initializers\n",
    "\n",
    "class KANLayer(nn.Module):\n",
    "    \n",
    "    n_in: int = 2\n",
    "    n_out: int = 5\n",
    "    G: int = 5\n",
    "    grid_range: tuple = (-1, 1)\n",
    "    k: int = 3\n",
    "\n",
    "    const_spl: float or bool = False\n",
    "    const_res: float or bool = False\n",
    "    residual: nn.Module = nn.swish\n",
    "    \n",
    "    noise_std: float = 0.1\n",
    "    grid_e: float = 0.02\n",
    "\n",
    "    \n",
    "    def setup(self):\n",
    "        # Calculate the step size for the knot vector based on its end values\n",
    "        h = (self.grid_range[1] - self.grid_range[0]) / (self.G - 1)\n",
    "\n",
    "        # Create the initial knot vector and perform augmentation\n",
    "        # Now it is expanded from G+1 points to G+1 + 2k points, because k points are appended at each of its ends\n",
    "        grid = jnp.arange(-self.k, self.G + self.k + 1, dtype=jnp.float32) * h + self.grid_range[0]\n",
    "        \n",
    "        # Expand for broadcasting - the shape becomes (n_in*n_out, G + 2k + 1), so that the grid\n",
    "        # can be passed in all n_in*n_out spline basis functions simultaneously\n",
    "        grid = jnp.expand_dims(grid, axis=0)\n",
    "        grid = jnp.tile(grid, (self.n_in*self.n_out, 1))\n",
    "\n",
    "        # Store the grid as a non trainable variable\n",
    "        self.grid = self.variable('state', 'grid', lambda: grid)\n",
    "        \n",
    "        # Register & initialize the spline basis functions' coefficients as trainable parameters\n",
    "        # They are drawn from a normal distribution with zero mean and an std of noise_std\n",
    "        self.c_basis = self.param('c_basis', initializers.normal(stddev=self.noise_std), (self.n_in * self.n_out, self.G + self.k))\n",
    "        \n",
    "        # If const_spl is set as a float value, treat it as non trainable and pass it to the c_spl array with shape (n_in*n_out)\n",
    "        # Otherwise register it as a trainable parameter of the same size and initialize it\n",
    "        if isinstance(self.const_spl, float):\n",
    "            self.c_spl = jnp.ones(self.n_in*self.n_out) * self.const_spl\n",
    "        elif self.const_spl is False:\n",
    "            self.c_spl = self.param('c_spl', initializers.constant(1.0), (self.n_in * self.n_out,))\n",
    "\n",
    "        # If const_res is set as a float value, treat it as non trainable and pass it to the c_res array with shape (n_in*n_out)\n",
    "        # Otherwise register it as a trainable parameter of the same size and initialize it\n",
    "        if isinstance(self.const_res, float):\n",
    "            self.c_res = jnp.ones(self.n_in * self.n_out) * self.const_res\n",
    "        elif self.const_res is False:\n",
    "            self.c_res = self.param('c_res', initializers.constant(1.0), (self.n_in * self.n_out,))\n",
    "\n",
    "    def update_grid(self):\n",
    "        # Example update function\n",
    "        self.grid.value = self.grid.value*2.25\n",
    "\n",
    "    def __call__(self, x):\n",
    "        # Dummy to see correct grid update\n",
    "        return x*self.grid.value[0][0]\n"
   ]
  },
  {
   "cell_type": "code",
   "execution_count": 3,
   "id": "1517482b-a0cc-4f8b-bab5-2a970977e31a",
   "metadata": {},
   "outputs": [
    {
     "name": "stdout",
     "output_type": "stream",
     "text": [
      "Trainable parameters:\n",
      "{'c_basis': Array([[ 0.02399894,  0.1846351 , -0.00519568, -0.00863923,  0.0585282 ,\n",
      "        -0.15037541, -0.01022594, -0.02914488],\n",
      "       [ 0.04935711,  0.03238467, -0.15360688,  0.12719317,  0.04799316,\n",
      "         0.05530524, -0.02173939,  0.19702375],\n",
      "       [-0.06749373,  0.0200477 ,  0.23864464, -0.1581935 ,  0.0072664 ,\n",
      "        -0.10175776,  0.00515934,  0.01749068],\n",
      "       [-0.00339971, -0.09349852,  0.07724477,  0.04379462,  0.09954414,\n",
      "         0.04300999,  0.02973044, -0.01073924],\n",
      "       [ 0.05613207, -0.06796809,  0.07379916, -0.0517869 , -0.0697948 ,\n",
      "         0.00100837,  0.05920225, -0.07538771],\n",
      "       [-0.01342505, -0.02973855, -0.00334156, -0.09072405,  0.01592094,\n",
      "        -0.04852676,  0.02748392, -0.06365392]], dtype=float32), 'c_spl': Array([1., 1., 1., 1., 1., 1.], dtype=float32), 'c_res': Array([1., 1., 1., 1., 1., 1.], dtype=float32)}\n",
      "\n",
      "Non-trainable state variables:\n",
      "{'grid': Array([[-2.5, -2. , -1.5, -1. , -0.5,  0. ,  0.5,  1. ,  1.5,  2. ,  2.5,\n",
      "         3. ],\n",
      "       [-2.5, -2. , -1.5, -1. , -0.5,  0. ,  0.5,  1. ,  1.5,  2. ,  2.5,\n",
      "         3. ],\n",
      "       [-2.5, -2. , -1.5, -1. , -0.5,  0. ,  0.5,  1. ,  1.5,  2. ,  2.5,\n",
      "         3. ],\n",
      "       [-2.5, -2. , -1.5, -1. , -0.5,  0. ,  0.5,  1. ,  1.5,  2. ,  2.5,\n",
      "         3. ],\n",
      "       [-2.5, -2. , -1.5, -1. , -0.5,  0. ,  0.5,  1. ,  1.5,  2. ,  2.5,\n",
      "         3. ],\n",
      "       [-2.5, -2. , -1.5, -1. , -0.5,  0. ,  0.5,  1. ,  1.5,  2. ,  2.5,\n",
      "         3. ]], dtype=float32)}\n"
     ]
    }
   ],
   "source": [
    "# Instantiate a layer\n",
    "kan_layer = KANLayer(n_in=2, n_out=3, G=5, grid_range=(-1,1), k=3)\n",
    "\n",
    "# Initialization\n",
    "rng = jax.random.PRNGKey(0)\n",
    "variables = kan_layer.init(rng, jnp.ones((2, 3)))\n",
    "\n",
    "# Print the trainable parameters and non-trainable state\n",
    "print(\"Trainable parameters:\")\n",
    "print(variables['params'])\n",
    "\n",
    "print(\"\\nNon-trainable state variables:\")\n",
    "print(variables['state'])"
   ]
  },
  {
   "cell_type": "code",
   "execution_count": 4,
   "id": "ebde89f2-ab8e-4810-bde4-a80239a0b9c2",
   "metadata": {},
   "outputs": [
    {
     "name": "stdout",
     "output_type": "stream",
     "text": [
      "[-2.5 -2.5 -2.5]\n"
     ]
    }
   ],
   "source": [
    "# Simple forward pass\n",
    "x, _ = kan_layer.apply(variables, jnp.ones((2,3)))\n",
    "\n",
    "print(x)"
   ]
  },
  {
   "cell_type": "code",
   "execution_count": 5,
   "id": "78f41cb8-c8a0-4543-a4ff-15901c00e931",
   "metadata": {},
   "outputs": [
    {
     "name": "stdout",
     "output_type": "stream",
     "text": [
      "{'state': {'grid': Array([[-5.625, -4.5  , -3.375, -2.25 , -1.125,  0.   ,  1.125,  2.25 ,\n",
      "         3.375,  4.5  ,  5.625,  6.75 ],\n",
      "       [-5.625, -4.5  , -3.375, -2.25 , -1.125,  0.   ,  1.125,  2.25 ,\n",
      "         3.375,  4.5  ,  5.625,  6.75 ],\n",
      "       [-5.625, -4.5  , -3.375, -2.25 , -1.125,  0.   ,  1.125,  2.25 ,\n",
      "         3.375,  4.5  ,  5.625,  6.75 ],\n",
      "       [-5.625, -4.5  , -3.375, -2.25 , -1.125,  0.   ,  1.125,  2.25 ,\n",
      "         3.375,  4.5  ,  5.625,  6.75 ],\n",
      "       [-5.625, -4.5  , -3.375, -2.25 , -1.125,  0.   ,  1.125,  2.25 ,\n",
      "         3.375,  4.5  ,  5.625,  6.75 ],\n",
      "       [-5.625, -4.5  , -3.375, -2.25 , -1.125,  0.   ,  1.125,  2.25 ,\n",
      "         3.375,  4.5  ,  5.625,  6.75 ]], dtype=float32)}}\n"
     ]
    }
   ],
   "source": [
    "# No forward pass, but applying the update_grid function\n",
    "x, new_state = kan_layer.apply(variables, method=kan_layer.update_grid, mutable=['state'])\n",
    "\n",
    "print(new_state)"
   ]
  },
  {
   "cell_type": "code",
   "execution_count": 6,
   "id": "0f244569-ccf7-4b62-b590-2f02762351fb",
   "metadata": {},
   "outputs": [
    {
     "name": "stdout",
     "output_type": "stream",
     "text": [
      "[-5.625 -5.625 -5.625]\n"
     ]
    }
   ],
   "source": [
    "# Update variables, pass to the model and retry forward pass with new grid\n",
    "variables['state'] = new_state['state']\n",
    "\n",
    "x, state = kan_layer.apply(variables, jnp.ones((2, 3)))\n",
    "\n",
    "print(x)"
   ]
  },
  {
   "cell_type": "code",
   "execution_count": 7,
   "id": "f210e04b-1090-4b4e-8476-81c6381ed5d1",
   "metadata": {},
   "outputs": [
    {
     "name": "stdout",
     "output_type": "stream",
     "text": [
      "{'state': {'grid': Array([[-12.65625, -10.125  ,  -7.59375,  -5.0625 ,  -2.53125,   0.     ,\n",
      "          2.53125,   5.0625 ,   7.59375,  10.125  ,  12.65625,  15.1875 ],\n",
      "       [-12.65625, -10.125  ,  -7.59375,  -5.0625 ,  -2.53125,   0.     ,\n",
      "          2.53125,   5.0625 ,   7.59375,  10.125  ,  12.65625,  15.1875 ],\n",
      "       [-12.65625, -10.125  ,  -7.59375,  -5.0625 ,  -2.53125,   0.     ,\n",
      "          2.53125,   5.0625 ,   7.59375,  10.125  ,  12.65625,  15.1875 ],\n",
      "       [-12.65625, -10.125  ,  -7.59375,  -5.0625 ,  -2.53125,   0.     ,\n",
      "          2.53125,   5.0625 ,   7.59375,  10.125  ,  12.65625,  15.1875 ],\n",
      "       [-12.65625, -10.125  ,  -7.59375,  -5.0625 ,  -2.53125,   0.     ,\n",
      "          2.53125,   5.0625 ,   7.59375,  10.125  ,  12.65625,  15.1875 ],\n",
      "       [-12.65625, -10.125  ,  -7.59375,  -5.0625 ,  -2.53125,   0.     ,\n",
      "          2.53125,   5.0625 ,   7.59375,  10.125  ,  12.65625,  15.1875 ]],      dtype=float32)}}\n"
     ]
    }
   ],
   "source": [
    "# Apply the update again\n",
    "x, new_state = kan_layer.apply(variables, method=kan_layer.update_grid, mutable=['state'])\n",
    "\n",
    "print(new_state)"
   ]
  },
  {
   "cell_type": "code",
   "execution_count": 8,
   "id": "47fbe5c3-026c-4c6c-a1af-ca2354824e55",
   "metadata": {},
   "outputs": [
    {
     "ename": "ModifyScopeVariableError",
     "evalue": "Cannot update variable \"grid\" in \"/\" because collection \"state\" is immutable. (https://flax.readthedocs.io/en/latest/api_reference/flax.errors.html#flax.errors.ModifyScopeVariableError)",
     "output_type": "error",
     "traceback": [
      "\u001b[1;31m---------------------------------------------------------------------------\u001b[0m",
      "\u001b[1;31mModifyScopeVariableError\u001b[0m                  Traceback (most recent call last)",
      "Cell \u001b[1;32mIn[8], line 2\u001b[0m\n\u001b[0;32m      1\u001b[0m \u001b[38;5;66;03m# What happens if we do not pass mutable=['state'] ?\u001b[39;00m\n\u001b[1;32m----> 2\u001b[0m x, new_state \u001b[38;5;241m=\u001b[39m \u001b[43mkan_layer\u001b[49m\u001b[38;5;241;43m.\u001b[39;49m\u001b[43mapply\u001b[49m\u001b[43m(\u001b[49m\u001b[43mvariables\u001b[49m\u001b[43m,\u001b[49m\u001b[43m \u001b[49m\u001b[43mmethod\u001b[49m\u001b[38;5;241;43m=\u001b[39;49m\u001b[43mkan_layer\u001b[49m\u001b[38;5;241;43m.\u001b[39;49m\u001b[43mupdate_grid\u001b[49m\u001b[43m)\u001b[49m\n",
      "    \u001b[1;31m[... skipping hidden 6 frame]\u001b[0m\n",
      "Cell \u001b[1;32mIn[1], line 60\u001b[0m, in \u001b[0;36mKANLayer.update_grid\u001b[1;34m(self)\u001b[0m\n\u001b[0;32m     58\u001b[0m \u001b[38;5;28;01mdef\u001b[39;00m \u001b[38;5;21mupdate_grid\u001b[39m(\u001b[38;5;28mself\u001b[39m):\n\u001b[0;32m     59\u001b[0m     \u001b[38;5;66;03m# Example update function\u001b[39;00m\n\u001b[1;32m---> 60\u001b[0m     \u001b[38;5;28;43mself\u001b[39;49m\u001b[38;5;241;43m.\u001b[39;49m\u001b[43mgrid\u001b[49m\u001b[38;5;241;43m.\u001b[39;49m\u001b[43mvalue\u001b[49m \u001b[38;5;241m=\u001b[39m \u001b[38;5;28mself\u001b[39m\u001b[38;5;241m.\u001b[39mgrid\u001b[38;5;241m.\u001b[39mvalue\u001b[38;5;241m*\u001b[39m\u001b[38;5;241m2.25\u001b[39m\n",
      "    \u001b[1;31m[... skipping hidden 1 frame]\u001b[0m\n",
      "File \u001b[1;32m~\\Desktop\\jaxKAN\\env\\Lib\\site-packages\\flax\\core\\scope.py:798\u001b[0m, in \u001b[0;36mScope.put_variable\u001b[1;34m(self, col, name, value)\u001b[0m\n\u001b[0;32m    796\u001b[0m \u001b[38;5;28mself\u001b[39m\u001b[38;5;241m.\u001b[39m_validate_trace_level()\n\u001b[0;32m    797\u001b[0m \u001b[38;5;28;01mif\u001b[39;00m \u001b[38;5;129;01mnot\u001b[39;00m \u001b[38;5;28mself\u001b[39m\u001b[38;5;241m.\u001b[39mis_mutable_collection(col):\n\u001b[1;32m--> 798\u001b[0m   \u001b[38;5;28;01mraise\u001b[39;00m errors\u001b[38;5;241m.\u001b[39mModifyScopeVariableError(col, name, \u001b[38;5;28mself\u001b[39m\u001b[38;5;241m.\u001b[39mpath_text)\n\u001b[0;32m    799\u001b[0m variables \u001b[38;5;241m=\u001b[39m \u001b[38;5;28mself\u001b[39m\u001b[38;5;241m.\u001b[39m_mutable_collection(col)\n\u001b[0;32m    801\u001b[0m \u001b[38;5;66;03m# Make sure reference sharing of child variable dictionaries isn't broken.\u001b[39;00m\n\u001b[0;32m    802\u001b[0m \u001b[38;5;66;03m# See https://github.com/google/flax/issues/2022 for more details.\u001b[39;00m\n",
      "\u001b[1;31mModifyScopeVariableError\u001b[0m: Cannot update variable \"grid\" in \"/\" because collection \"state\" is immutable. (https://flax.readthedocs.io/en/latest/api_reference/flax.errors.html#flax.errors.ModifyScopeVariableError)"
     ]
    }
   ],
   "source": [
    "# What happens if we do not pass mutable=['state'] ?\n",
    "x, new_state = kan_layer.apply(variables, method=kan_layer.update_grid)"
   ]
  },
  {
   "cell_type": "markdown",
   "id": "0f10701e-bd43-41db-8236-220db043be1b",
   "metadata": {},
   "source": [
    "### A very rough example on how this would look during training"
   ]
  },
  {
   "cell_type": "markdown",
   "id": "f3b45bf0-3acc-4efc-9d4a-39191eb63303",
   "metadata": {},
   "source": [
    "```\n",
    "import optax  # For the optimizer\n",
    "from flax.training import train_state\n",
    "\n",
    "class TrainState(train_state.TrainState):\n",
    "    grid: jnp.ndarray\n",
    "\n",
    "def create_train_state(rng, model, learning_rate):\n",
    "    variables = model.init(rng, jnp.ones((1, 2)), mutable=['non_trainable'])\n",
    "    params = variables['params']\n",
    "    grid = variables['non_trainable']['grid']\n",
    "    tx = optax.adam(learning_rate)\n",
    "    return TrainState.create(apply_fn=model.apply, params=params, tx=tx, grid=grid)\n",
    "\n",
    "def train_model(state, model, epochs, data_loader):\n",
    "    for epoch in range(epochs):\n",
    "        for batch in data_loader:\n",
    "            state = train_step(state, batch)\n",
    "        \n",
    "        if (epoch + 1) % 5 == 0:\n",
    "            state = update_grid_state(state, model)\n",
    "            print(f\"Grid updated at epoch {epoch + 1}\")\n",
    "\n",
    "    return state\n",
    "\n",
    "@jax.jit\n",
    "def train_step(state, batch):\n",
    "    def loss_fn(params):\n",
    "        logits = state.apply_fn({'params': params}, batch['x'])\n",
    "        loss = jnp.mean((logits - batch['y']) ** 2)\n",
    "        return loss\n",
    "    grads = jax.grad(loss_fn)(state.params)\n",
    "    state = state.apply_gradients(grads=grads)\n",
    "    return state\n",
    "\n",
    "@jax.jit\n",
    "def update_grid_state(state, model):\n",
    "    variables = {'params': state.params, 'non_trainable': {'grid': state.grid}}\n",
    "    _, updated_state = model.apply(variables, jnp.ones((1, 2)), method=model.update_grid, mutable=['non_trainable'])\n",
    "    state = state.replace(grid=updated_state['non_trainable']['grid'])\n",
    "    return state\n",
    "\n",
    "# Example data loader\n",
    "data_loader = [{'x': jnp.ones((1, 2)), 'y': jnp.ones((1, 2))} for _ in range(10)]\n",
    "\n",
    "# Initialize model and state\n",
    "rng = jax.random.PRNGKey(0)\n",
    "kan_layer = KANLayer(n_in=2, n_out=3, G=5, grid_range=(-1, 1), k=3)\n",
    "state = create_train_state(rng, kan_layer, learning_rate=0.001)\n",
    "\n",
    "# Train the model\n",
    "state = train_model(state, kan_layer, epochs=20, data_loader=data_loader)\n",
    "\n",
    "# Check final grid value\n",
    "print(\"Final Grid shape:\", state.grid.shape)\n",
    "print(state.grid)\n",
    "```"
   ]
  },
  {
   "cell_type": "code",
   "execution_count": null,
   "id": "ac754775-48cb-4083-a7e7-5253236a84b4",
   "metadata": {},
   "outputs": [],
   "source": []
  }
 ],
 "metadata": {
  "kernelspec": {
   "display_name": "Python 3 (ipykernel)",
   "language": "python",
   "name": "python3"
  },
  "language_info": {
   "codemirror_mode": {
    "name": "ipython",
    "version": 3
   },
   "file_extension": ".py",
   "mimetype": "text/x-python",
   "name": "python",
   "nbconvert_exporter": "python",
   "pygments_lexer": "ipython3",
   "version": "3.11.4"
  }
 },
 "nbformat": 4,
 "nbformat_minor": 5
}
