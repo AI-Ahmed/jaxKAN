{
 "cells": [
  {
   "cell_type": "markdown",
   "id": "3378339a-5a70-4377-9814-07340b0361c5",
   "metadata": {},
   "source": [
    "# Tests on Grid generation & extension\n",
    "\n",
    "What follows are jax samples based on pykan or efficientkan, as far as the grid generation and extension process is concerned, to get a better understanding of what's going on."
   ]
  },
  {
   "cell_type": "code",
   "execution_count": 4,
   "id": "954075f8-8edb-440f-a79a-03613bd7b7cc",
   "metadata": {},
   "outputs": [],
   "source": [
    "import jax.numpy as jnp"
   ]
  },
  {
   "cell_type": "code",
   "execution_count": 2,
   "id": "e72f9874-3b72-4bc3-b5cd-1b09380e85d6",
   "metadata": {},
   "outputs": [],
   "source": [
    "# Input parameters relevant to grid\n",
    "k = 3 # splines order\n",
    "G = 5 # grid size (number of knot vector elements)\n",
    "n_in = 2 # number of layer's input nodes\n",
    "n_out = 3 # number of layer's output nodes"
   ]
  },
  {
   "cell_type": "markdown",
   "id": "a4751280-5ece-4b2a-b702-7fbabd4408f7",
   "metadata": {},
   "source": [
    "**<span style=\"color:red\">Open Question: Why are we starting with a grid defined only by its range?</span>**"
   ]
  },
  {
   "cell_type": "code",
   "execution_count": 3,
   "id": "a16f6db2-f43d-46f3-a725-9568243a7b2d",
   "metadata": {},
   "outputs": [],
   "source": [
    "# Grid Initialization - the grid is originally just a knot vector\n",
    "grid_range = [-1, 1]"
   ]
  },
  {
   "cell_type": "markdown",
   "id": "7a991868-8e3e-4f10-af25-e8545661e410",
   "metadata": {},
   "source": [
    "**<span style=\"color:red\">Open Question: Why are we augmenting the grid like this instead of appending the first and last entries k times at the start and end?</span>**"
   ]
  },
  {
   "cell_type": "code",
   "execution_count": 4,
   "id": "b42b651b-65d3-47ac-b324-1f48de0128e3",
   "metadata": {},
   "outputs": [
    {
     "data": {
      "text/plain": [
       "Array([-2.5, -2. , -1.5, -1. , -0.5,  0. ,  0.5,  1. ,  1.5,  2. ,  2.5,\n",
       "        3. ], dtype=float32)"
      ]
     },
     "execution_count": 4,
     "metadata": {},
     "output_type": "execute_result"
    }
   ],
   "source": [
    "# Grid augmentation\n",
    "h = (grid_range[-1] - grid_range[0]) / (G-1)\n",
    "grid = (jnp.arange(-k, G + k + 1, dtype=jnp.float32) * h + grid_range[0])\n",
    "\n",
    "grid"
   ]
  },
  {
   "cell_type": "code",
   "execution_count": 5,
   "id": "e71cddbd-f6ae-4dac-b49e-b45d51e632d1",
   "metadata": {},
   "outputs": [
    {
     "data": {
      "text/plain": [
       "Array([[-2.5, -2. , -1.5, -1. , -0.5,  0. ,  0.5,  1. ,  1.5,  2. ,  2.5,\n",
       "         3. ],\n",
       "       [-2.5, -2. , -1.5, -1. , -0.5,  0. ,  0.5,  1. ,  1.5,  2. ,  2.5,\n",
       "         3. ],\n",
       "       [-2.5, -2. , -1.5, -1. , -0.5,  0. ,  0.5,  1. ,  1.5,  2. ,  2.5,\n",
       "         3. ],\n",
       "       [-2.5, -2. , -1.5, -1. , -0.5,  0. ,  0.5,  1. ,  1.5,  2. ,  2.5,\n",
       "         3. ],\n",
       "       [-2.5, -2. , -1.5, -1. , -0.5,  0. ,  0.5,  1. ,  1.5,  2. ,  2.5,\n",
       "         3. ],\n",
       "       [-2.5, -2. , -1.5, -1. , -0.5,  0. ,  0.5,  1. ,  1.5,  2. ,  2.5,\n",
       "         3. ]], dtype=float32)"
      ]
     },
     "execution_count": 5,
     "metadata": {},
     "output_type": "execute_result"
    }
   ],
   "source": [
    "# Expand for broadcasting - the shape must be (layer_size, G + k), so that the grid\n",
    "# can be passed in get_spline_basis and return a Bi(x) array, where we need only multiply\n",
    "# with the coefficients to get the full spline(x), for each layer's spline (n_in * n_out total).\n",
    "grid = jnp.expand_dims(grid, axis=0)\n",
    "grid = jnp.tile(grid, (n_in*n_out, 1))\n",
    "\n",
    "grid"
   ]
  },
  {
   "cell_type": "markdown",
   "id": "47725051-e46d-4cd6-9b10-774f4ff4a68d",
   "metadata": {},
   "source": [
    "This is the initialization of the grid per layer (registered at `self.`). Then, we have the `upgrade_grid` routine, which is supposed to perform an update for each layer's grid (**can be trainable or not in the future**)."
   ]
  },
  {
   "cell_type": "markdown",
   "id": "7a3cb6aa-c32b-48d6-a779-a269b5cec0c2",
   "metadata": {},
   "source": [
    "In pykan, the `update_grid_from_samples` routine simply performs the mix of adaptive and uniform sampling, given the current grid and the batch. It is the `initialize_grid_from_parent` routine that performs the grid extension. On the other hand, in efficientkan both are handled together in the `update_grid` routine. In what follows, we try to follow the approach of efficientkan, however working with grids of shape $(n_{in}\\cdot n_{out},\\text{batch})$ instead of $(n_{in},\\text{batch})$."
   ]
  },
  {
   "cell_type": "markdown",
   "id": "4baeb3e3-7cc8-4417-8519-03a544b7154f",
   "metadata": {},
   "source": [
    "**<span style=\"color:red\">IDEA: Keep splines as model param function, same as efficientkan, because the grid is also. Then $k$ can be inherited from self too, and the whole thing can normally be jitted.</span>** "
   ]
  },
  {
   "cell_type": "markdown",
   "id": "7eb4c7b4-0f92-43e7-9a39-3ff204fc2794",
   "metadata": {},
   "source": [
    "## efficientkan grid update\n",
    "\n",
    "TLDR; It appears that they don't really upgrade their grid in terms of expansion."
   ]
  },
  {
   "cell_type": "code",
   "execution_count": 1,
   "id": "5c8dc130-3430-4857-a84b-dfdb54bc7d00",
   "metadata": {},
   "outputs": [],
   "source": [
    "import torch\n",
    "\n",
    "from copy import copy"
   ]
  },
  {
   "cell_type": "code",
   "execution_count": 23,
   "id": "4f7c0027-c2df-4a97-ad65-ff7841b100e0",
   "metadata": {},
   "outputs": [],
   "source": [
    "spline_order = 3\n",
    "\n",
    "in_features = 2\n",
    "out_features = 5\n",
    "batch_size = 300\n",
    "grid_eps = 1.0\n",
    "\n",
    "grid_size = 10\n",
    "grid_range = [-1,1]\n",
    "h = (grid_range[1] - grid_range[0]) / (grid_size-1)\n",
    "\n",
    "grid = (torch.arange(-spline_order, grid_size + spline_order + 1) * h + grid_range[0]).expand(in_features, -1)\n",
    "\n",
    "\n",
    "torch.manual_seed(42)\n",
    "x = torch.randn((batch_size,in_features))\n",
    "spline_weight = torch.randn((out_features, in_features, grid_size + spline_order))\n"
   ]
  },
  {
   "cell_type": "code",
   "execution_count": 24,
   "id": "8a5aeddb-1429-4666-aa27-0cdc1c34f9fb",
   "metadata": {},
   "outputs": [],
   "source": [
    "margin = 0.01\n",
    "\n",
    "# Get a copy of the original grid\n",
    "old_grid = copy(grid)\n",
    "#print(f\"Old grid shape: {old_grid.shape}\\n\")\n",
    "\n",
    "# -------------------------------------\n",
    "# Things done to calculate Sum(ciBi)\n",
    "# -------------------------------------\n",
    "batch = x.size(0)\n",
    "\n",
    "#print(f\"Shape of Sum(ciBi), i.e. y: {unreduced_spline_output.shape}\\n\")\n",
    "\n",
    "# ----------------------\n",
    "# Calculate a new grid\n",
    "# ----------------------\n",
    "# sort each channel individually to collect data distribution\n",
    "x_sorted = torch.sort(x, dim=0)[0]\n",
    "grid_adaptive = x_sorted[\n",
    "    torch.linspace(\n",
    "        0, batch - 1, grid_size + 1, dtype=torch.int64\n",
    "    )\n",
    "]\n",
    "\n",
    "uniform_step = (x_sorted[-1] - x_sorted[0] + 2 * margin) / grid_size\n",
    "grid_uniform = (\n",
    "    torch.arange(\n",
    "        grid_size + 1, dtype=torch.float32\n",
    "    ).unsqueeze(1)\n",
    "    * uniform_step\n",
    "    + x_sorted[0]\n",
    "    - margin\n",
    ")\n",
    "\n",
    "grid = grid_eps * grid_uniform + (1 - grid_eps) * grid_adaptive\n",
    "\n",
    "#print(f\"Grid shape after performing interpolation between adaptive and uniform: {grid.shape}\\n\")\n",
    "\n",
    "grid = torch.concatenate(\n",
    "    [\n",
    "        grid[:1]\n",
    "        - uniform_step\n",
    "        * torch.arange(spline_order, 0, -1).unsqueeze(1),\n",
    "        grid,\n",
    "        grid[-1:]\n",
    "        + uniform_step\n",
    "        * torch.arange(1, spline_order + 1).unsqueeze(1),\n",
    "    ],\n",
    "    dim=0,\n",
    ")\n",
    "\n",
    "#print(f\"Grid shape after concatenation: {grid.shape}\\n\")\n",
    "\n",
    "# --------------------------------\n",
    "# Use new grid to calculate cj\n",
    "# --------------------------------\n",
    "\n",
    "grid = grid.T\n",
    "#print(f\"Grid shape after transposition: {grid.shape}\\n\")\n",
    "\n",
    "#print(f\"Shape of new coeffs: {ccoeff.shape}\\n\")"
   ]
  },
  {
   "cell_type": "code",
   "execution_count": 29,
   "id": "a11832a3-cfc9-49d9-a0fa-d6cd493452c1",
   "metadata": {},
   "outputs": [
    {
     "data": {
      "text/plain": [
       "tensor([[-4.2266, -3.6827, -3.1388, -2.5950, -2.0511, -1.5072, -0.9633, -0.4194,\n",
       "          0.1245,  0.6684,  1.2123,  1.7562,  2.3001,  2.8440,  3.3879,  3.9318,\n",
       "          4.4756],\n",
       "        [-4.2444, -3.7154, -3.1865, -2.6575, -2.1285, -1.5996, -1.0706, -0.5416,\n",
       "         -0.0127,  0.5163,  1.0453,  1.5742,  2.1032,  2.6321,  3.1611,  3.6901,\n",
       "          4.2190]])"
      ]
     },
     "execution_count": 29,
     "metadata": {},
     "output_type": "execute_result"
    }
   ],
   "source": [
    "grid"
   ]
  },
  {
   "cell_type": "markdown",
   "id": "906deb63-3e23-491e-84ab-1116eb478220",
   "metadata": {},
   "source": [
    "## pykan grid update\n",
    "\n",
    "TLDR; TODO"
   ]
  },
  {
   "cell_type": "code",
   "execution_count": 35,
   "id": "6c6e783e-f200-4591-8855-982410e4e904",
   "metadata": {},
   "outputs": [],
   "source": [
    "import torch\n",
    "import numpy as np\n",
    "\n",
    "from copy import copy"
   ]
  },
  {
   "cell_type": "code",
   "execution_count": 36,
   "id": "cbaa3c73-8506-43aa-b3d7-c588f6c64448",
   "metadata": {},
   "outputs": [],
   "source": [
    "spline_order = 3\n",
    "\n",
    "in_features = 3\n",
    "out_features = 5\n",
    "batch_size = 300\n",
    "grid_eps = 1.0\n",
    "\n",
    "size = in_features*out_features\n",
    "grid_size = 10\n",
    "grid_range = [-1,1]\n",
    "h = (grid_range[1] - grid_range[0]) / (grid_size-1)\n",
    "\n",
    "grid = (torch.arange(-spline_order, grid_size + spline_order + 1) * h + grid_range[0]).expand(in_features, -1)\n",
    "\n",
    "\n",
    "torch.manual_seed(42)\n",
    "x = torch.randn((batch_size,in_features))\n",
    "spline_weight = torch.randn((out_features, in_features, grid_size + spline_order))"
   ]
  },
  {
   "cell_type": "code",
   "execution_count": null,
   "id": "0c62b2a6-2bff-42dc-abcc-cb6f43384659",
   "metadata": {},
   "outputs": [],
   "source": []
  },
  {
   "cell_type": "code",
   "execution_count": 32,
   "id": "ce04d1f3-e674-490f-be11-b2542e02d532",
   "metadata": {},
   "outputs": [
    {
     "name": "stdout",
     "output_type": "stream",
     "text": [
      "torch.Size([15, 300])\n"
     ]
    }
   ],
   "source": [
    "batch = x.shape[0]\n",
    "\n",
    "x = torch.einsum('ij,k->ikj', x, torch.ones(out_features, )).reshape(batch, size).permute(1, 0)\n",
    "print(x.shape)\n",
    "# Sort on the batch dimension\n",
    "x_pos = torch.sort(x, dim=1)[0]\n",
    "\n",
    "###y_eval = coef2curve(x_pos, self.grid, self.coef, self.k, device=self.device)\n",
    "\n",
    "# G - 1\n",
    "num_interval = grid.shape[1] - 1\n",
    "ids = [int(batch / num_interval * i) for i in range(num_interval)] + [-1]\n",
    "grid_adaptive = x_pos[:, ids]\n",
    "margin = 0.01\n",
    "grid_eps  = 0.05\n",
    "grid_uniform = torch.cat([grid_adaptive[:, [0]] - margin + (grid_adaptive[:, [-1]] - grid_adaptive[:, [0]] + 2 * margin) * a for a in np.linspace(0, 1, num=grid.shape[1])], dim=1)\n",
    "new_grid = grid_eps * grid_uniform + (1 - grid_eps) * grid_adaptive\n",
    "\n",
    "# We must also augment it\n"
   ]
  },
  {
   "cell_type": "code",
   "execution_count": 37,
   "id": "11f1bfb4-244d-4b0e-ae8c-313cb6d1d5a7",
   "metadata": {},
   "outputs": [
    {
     "data": {
      "text/plain": [
       "tensor([[-1.6667, -1.4444, -1.2222, -1.0000, -0.7778, -0.5556, -0.3333, -0.1111,\n",
       "          0.1111,  0.3333,  0.5556,  0.7778,  1.0000,  1.2222,  1.4444,  1.6667,\n",
       "          1.8889],\n",
       "        [-1.6667, -1.4444, -1.2222, -1.0000, -0.7778, -0.5556, -0.3333, -0.1111,\n",
       "          0.1111,  0.3333,  0.5556,  0.7778,  1.0000,  1.2222,  1.4444,  1.6667,\n",
       "          1.8889],\n",
       "        [-1.6667, -1.4444, -1.2222, -1.0000, -0.7778, -0.5556, -0.3333, -0.1111,\n",
       "          0.1111,  0.3333,  0.5556,  0.7778,  1.0000,  1.2222,  1.4444,  1.6667,\n",
       "          1.8889]])"
      ]
     },
     "execution_count": 37,
     "metadata": {},
     "output_type": "execute_result"
    }
   ],
   "source": [
    "grid"
   ]
  },
  {
   "cell_type": "code",
   "execution_count": 40,
   "id": "b12e062a-b798-4a05-abdd-f3f729c388fe",
   "metadata": {},
   "outputs": [
    {
     "data": {
      "text/plain": [
       "tensor([[-2.5095, -1.4861, -1.0020, -0.8212, -0.6902, -0.4949, -0.3389, -0.1722,\n",
       "          0.0439,  0.1852,  0.3444,  0.4967,  0.7448,  0.9595,  1.2791,  1.7733,\n",
       "          2.8544],\n",
       "        [-3.1016, -1.6047, -1.2524, -0.9216, -0.6766, -0.5161, -0.3858, -0.1418,\n",
       "         -0.0305,  0.0950,  0.2762,  0.4880,  0.6378,  0.8539,  1.1799,  1.4703,\n",
       "          2.7312],\n",
       "        [-2.7936, -1.4534, -1.1702, -0.9061, -0.6185, -0.4292, -0.2076, -0.0271,\n",
       "          0.0803,  0.2320,  0.3892,  0.5636,  0.7118,  0.8436,  1.1914,  1.6192,\n",
       "          3.0250],\n",
       "        [-2.5095, -1.4861, -1.0020, -0.8212, -0.6902, -0.4949, -0.3389, -0.1722,\n",
       "          0.0439,  0.1852,  0.3444,  0.4967,  0.7448,  0.9595,  1.2791,  1.7733,\n",
       "          2.8544],\n",
       "        [-3.1016, -1.6047, -1.2524, -0.9216, -0.6766, -0.5161, -0.3858, -0.1418,\n",
       "         -0.0305,  0.0950,  0.2762,  0.4880,  0.6378,  0.8539,  1.1799,  1.4703,\n",
       "          2.7312],\n",
       "        [-2.7936, -1.4534, -1.1702, -0.9061, -0.6185, -0.4292, -0.2076, -0.0271,\n",
       "          0.0803,  0.2320,  0.3892,  0.5636,  0.7118,  0.8436,  1.1914,  1.6192,\n",
       "          3.0250],\n",
       "        [-2.5095, -1.4861, -1.0020, -0.8212, -0.6902, -0.4949, -0.3389, -0.1722,\n",
       "          0.0439,  0.1852,  0.3444,  0.4967,  0.7448,  0.9595,  1.2791,  1.7733,\n",
       "          2.8544],\n",
       "        [-3.1016, -1.6047, -1.2524, -0.9216, -0.6766, -0.5161, -0.3858, -0.1418,\n",
       "         -0.0305,  0.0950,  0.2762,  0.4880,  0.6378,  0.8539,  1.1799,  1.4703,\n",
       "          2.7312],\n",
       "        [-2.7936, -1.4534, -1.1702, -0.9061, -0.6185, -0.4292, -0.2076, -0.0271,\n",
       "          0.0803,  0.2320,  0.3892,  0.5636,  0.7118,  0.8436,  1.1914,  1.6192,\n",
       "          3.0250],\n",
       "        [-2.5095, -1.4861, -1.0020, -0.8212, -0.6902, -0.4949, -0.3389, -0.1722,\n",
       "          0.0439,  0.1852,  0.3444,  0.4967,  0.7448,  0.9595,  1.2791,  1.7733,\n",
       "          2.8544],\n",
       "        [-3.1016, -1.6047, -1.2524, -0.9216, -0.6766, -0.5161, -0.3858, -0.1418,\n",
       "         -0.0305,  0.0950,  0.2762,  0.4880,  0.6378,  0.8539,  1.1799,  1.4703,\n",
       "          2.7312],\n",
       "        [-2.7936, -1.4534, -1.1702, -0.9061, -0.6185, -0.4292, -0.2076, -0.0271,\n",
       "          0.0803,  0.2320,  0.3892,  0.5636,  0.7118,  0.8436,  1.1914,  1.6192,\n",
       "          3.0250],\n",
       "        [-2.5095, -1.4861, -1.0020, -0.8212, -0.6902, -0.4949, -0.3389, -0.1722,\n",
       "          0.0439,  0.1852,  0.3444,  0.4967,  0.7448,  0.9595,  1.2791,  1.7733,\n",
       "          2.8544],\n",
       "        [-3.1016, -1.6047, -1.2524, -0.9216, -0.6766, -0.5161, -0.3858, -0.1418,\n",
       "         -0.0305,  0.0950,  0.2762,  0.4880,  0.6378,  0.8539,  1.1799,  1.4703,\n",
       "          2.7312],\n",
       "        [-2.7936, -1.4534, -1.1702, -0.9061, -0.6185, -0.4292, -0.2076, -0.0271,\n",
       "          0.0803,  0.2320,  0.3892,  0.5636,  0.7118,  0.8436,  1.1914,  1.6192,\n",
       "          3.0250]])"
      ]
     },
     "execution_count": 40,
     "metadata": {},
     "output_type": "execute_result"
    }
   ],
   "source": [
    "x_pos[:, ids]"
   ]
  },
  {
   "cell_type": "code",
   "execution_count": null,
   "id": "5042bd46-63f3-4c92-a52d-fa34d6844d01",
   "metadata": {},
   "outputs": [],
   "source": []
  },
  {
   "cell_type": "markdown",
   "id": "df9ca263-6a90-4830-a588-76d3afd47527",
   "metadata": {},
   "source": [
    "## Personal grid update tests"
   ]
  },
  {
   "cell_type": "code",
   "execution_count": 1,
   "id": "7b633bdd-3170-498a-9e43-f2e3d86f6ca6",
   "metadata": {},
   "outputs": [],
   "source": [
    "import jax\n",
    "import jax.numpy as jnp\n",
    "import math\n",
    "from flax import linen as nn\n",
    "from flax.training import train_state\n",
    "from flax.linen import initializers\n",
    "\n",
    "class KANLayer(nn.Module):\n",
    "    \n",
    "    n_in: int = 2\n",
    "    n_out: int = 5\n",
    "    G: int = 5\n",
    "    grid_range: tuple = (-1, 1)\n",
    "    k: int = 3\n",
    "\n",
    "    const_spl: float or bool = False\n",
    "    const_res: float or bool = False\n",
    "    residual: nn.Module = nn.swish\n",
    "    \n",
    "    noise_std: float = 0.1\n",
    "    grid_e: float = 0.02\n",
    "\n",
    "    \n",
    "    def setup(self):\n",
    "        # Calculate the step size for the knot vector based on its end values\n",
    "        h = (self.grid_range[1] - self.grid_range[0]) / (self.G - 1)\n",
    "\n",
    "        # Create the initial knot vector and perform augmentation\n",
    "        # Now it is expanded from G+1 points to G+1 + 2k points, because k points are appended at each of its ends\n",
    "        grid = jnp.arange(-self.k, self.G + self.k + 1, dtype=jnp.float32) * h + self.grid_range[0]\n",
    "        \n",
    "        # Expand for broadcasting - the shape becomes (n_in*n_out, G + 2k + 1), so that the grid\n",
    "        # can be passed in all n_in*n_out spline basis functions simultaneously\n",
    "        grid = jnp.expand_dims(grid, axis=0)\n",
    "        grid = jnp.tile(grid, (self.n_in*self.n_out, 1))\n",
    "\n",
    "        # Store the grid as a non trainable variable\n",
    "        self.grid = self.variable('state', 'grid', lambda: grid)\n",
    "        \n",
    "        # Register & initialize the spline basis functions' coefficients as trainable parameters\n",
    "        # They are drawn from a normal distribution with zero mean and an std of noise_std\n",
    "        self.c_basis = self.param('c_basis', initializers.normal(stddev=self.noise_std), (self.n_in * self.n_out, self.G.value + self.k))\n",
    "        \n",
    "        # If const_spl is set as a float value, treat it as non trainable and pass it to the c_spl array with shape (n_in*n_out)\n",
    "        # Otherwise register it as a trainable parameter of the same size and initialize it\n",
    "        if isinstance(self.const_spl, float):\n",
    "            self.c_spl = jnp.ones(self.n_in*self.n_out) * self.const_spl\n",
    "        elif self.const_spl is False:\n",
    "            self.c_spl = self.param('c_spl', initializers.constant(1.0), (self.n_in * self.n_out,))\n",
    "\n",
    "        # If const_res is set as a float value, treat it as non trainable and pass it to the c_res array with shape (n_in*n_out)\n",
    "        # Otherwise register it as a trainable parameter of the same size and initialize it\n",
    "        if isinstance(self.const_res, float):\n",
    "            self.c_res = jnp.ones(self.n_in * self.n_out) * self.const_res\n",
    "        elif self.const_res is False:\n",
    "            self.c_res = self.param('c_res', initializers.constant(1.0), (self.n_in * self.n_out,))\n",
    "\n",
    "    def update_grid(self):\n",
    "        # Example update function\n",
    "        self.grid.value = self.grid.value*2.25\n",
    "\n",
    "    def __call__(self, x):\n",
    "        # Dummy to see correct grid update\n",
    "        return x*self.grid.value[0][0]\n"
   ]
  },
  {
   "cell_type": "code",
   "execution_count": 3,
   "id": "1517482b-a0cc-4f8b-bab5-2a970977e31a",
   "metadata": {},
   "outputs": [
    {
     "name": "stdout",
     "output_type": "stream",
     "text": [
      "Trainable parameters:\n",
      "{'c_basis': Array([[ 0.02399894,  0.1846351 , -0.00519568, -0.00863923,  0.0585282 ,\n",
      "        -0.15037541, -0.01022594, -0.02914488],\n",
      "       [ 0.04935711,  0.03238467, -0.15360688,  0.12719317,  0.04799316,\n",
      "         0.05530524, -0.02173939,  0.19702375],\n",
      "       [-0.06749373,  0.0200477 ,  0.23864464, -0.1581935 ,  0.0072664 ,\n",
      "        -0.10175776,  0.00515934,  0.01749068],\n",
      "       [-0.00339971, -0.09349852,  0.07724477,  0.04379462,  0.09954414,\n",
      "         0.04300999,  0.02973044, -0.01073924],\n",
      "       [ 0.05613207, -0.06796809,  0.07379916, -0.0517869 , -0.0697948 ,\n",
      "         0.00100837,  0.05920225, -0.07538771],\n",
      "       [-0.01342505, -0.02973855, -0.00334156, -0.09072405,  0.01592094,\n",
      "        -0.04852676,  0.02748392, -0.06365392]], dtype=float32), 'c_spl': Array([1., 1., 1., 1., 1., 1.], dtype=float32), 'c_res': Array([1., 1., 1., 1., 1., 1.], dtype=float32)}\n",
      "\n",
      "Non-trainable state variables:\n",
      "{'grid': Array([[-2.5, -2. , -1.5, -1. , -0.5,  0. ,  0.5,  1. ,  1.5,  2. ,  2.5,\n",
      "         3. ],\n",
      "       [-2.5, -2. , -1.5, -1. , -0.5,  0. ,  0.5,  1. ,  1.5,  2. ,  2.5,\n",
      "         3. ],\n",
      "       [-2.5, -2. , -1.5, -1. , -0.5,  0. ,  0.5,  1. ,  1.5,  2. ,  2.5,\n",
      "         3. ],\n",
      "       [-2.5, -2. , -1.5, -1. , -0.5,  0. ,  0.5,  1. ,  1.5,  2. ,  2.5,\n",
      "         3. ],\n",
      "       [-2.5, -2. , -1.5, -1. , -0.5,  0. ,  0.5,  1. ,  1.5,  2. ,  2.5,\n",
      "         3. ],\n",
      "       [-2.5, -2. , -1.5, -1. , -0.5,  0. ,  0.5,  1. ,  1.5,  2. ,  2.5,\n",
      "         3. ]], dtype=float32)}\n"
     ]
    }
   ],
   "source": [
    "# Instantiate a layer\n",
    "kan_layer = KANLayer(n_in=2, n_out=3, G=5, grid_range=(-1,1), k=3)\n",
    "\n",
    "# Initialization\n",
    "rng = jax.random.PRNGKey(0)\n",
    "variables = kan_layer.init(rng, jnp.ones((2, 3)))\n",
    "\n",
    "# Print the trainable parameters and non-trainable state\n",
    "print(\"Trainable parameters:\")\n",
    "print(variables['params'])\n",
    "\n",
    "print(\"\\nNon-trainable state variables:\")\n",
    "print(variables['state'])"
   ]
  },
  {
   "cell_type": "code",
   "execution_count": 4,
   "id": "ebde89f2-ab8e-4810-bde4-a80239a0b9c2",
   "metadata": {},
   "outputs": [
    {
     "name": "stdout",
     "output_type": "stream",
     "text": [
      "[-2.5 -2.5 -2.5]\n"
     ]
    }
   ],
   "source": [
    "# Simple forward pass\n",
    "x, _ = kan_layer.apply(variables, jnp.ones((2,3)))\n",
    "\n",
    "print(x)"
   ]
  },
  {
   "cell_type": "code",
   "execution_count": 5,
   "id": "78f41cb8-c8a0-4543-a4ff-15901c00e931",
   "metadata": {},
   "outputs": [
    {
     "name": "stdout",
     "output_type": "stream",
     "text": [
      "{'state': {'grid': Array([[-5.625, -4.5  , -3.375, -2.25 , -1.125,  0.   ,  1.125,  2.25 ,\n",
      "         3.375,  4.5  ,  5.625,  6.75 ],\n",
      "       [-5.625, -4.5  , -3.375, -2.25 , -1.125,  0.   ,  1.125,  2.25 ,\n",
      "         3.375,  4.5  ,  5.625,  6.75 ],\n",
      "       [-5.625, -4.5  , -3.375, -2.25 , -1.125,  0.   ,  1.125,  2.25 ,\n",
      "         3.375,  4.5  ,  5.625,  6.75 ],\n",
      "       [-5.625, -4.5  , -3.375, -2.25 , -1.125,  0.   ,  1.125,  2.25 ,\n",
      "         3.375,  4.5  ,  5.625,  6.75 ],\n",
      "       [-5.625, -4.5  , -3.375, -2.25 , -1.125,  0.   ,  1.125,  2.25 ,\n",
      "         3.375,  4.5  ,  5.625,  6.75 ],\n",
      "       [-5.625, -4.5  , -3.375, -2.25 , -1.125,  0.   ,  1.125,  2.25 ,\n",
      "         3.375,  4.5  ,  5.625,  6.75 ]], dtype=float32)}}\n"
     ]
    }
   ],
   "source": [
    "# No forward pass, but applying the update_grid function\n",
    "x, new_state = kan_layer.apply(variables, method=kan_layer.update_grid, mutable=['state'])\n",
    "\n",
    "print(new_state)"
   ]
  },
  {
   "cell_type": "code",
   "execution_count": 6,
   "id": "0f244569-ccf7-4b62-b590-2f02762351fb",
   "metadata": {},
   "outputs": [
    {
     "name": "stdout",
     "output_type": "stream",
     "text": [
      "[-5.625 -5.625 -5.625]\n"
     ]
    }
   ],
   "source": [
    "# Update variables, pass to the model and retry forward pass with new grid\n",
    "variables['state'] = new_state['state']\n",
    "\n",
    "x, state = kan_layer.apply(variables, jnp.ones((2, 3)))\n",
    "\n",
    "print(x)"
   ]
  },
  {
   "cell_type": "code",
   "execution_count": 7,
   "id": "f210e04b-1090-4b4e-8476-81c6381ed5d1",
   "metadata": {},
   "outputs": [
    {
     "name": "stdout",
     "output_type": "stream",
     "text": [
      "{'state': {'grid': Array([[-12.65625, -10.125  ,  -7.59375,  -5.0625 ,  -2.53125,   0.     ,\n",
      "          2.53125,   5.0625 ,   7.59375,  10.125  ,  12.65625,  15.1875 ],\n",
      "       [-12.65625, -10.125  ,  -7.59375,  -5.0625 ,  -2.53125,   0.     ,\n",
      "          2.53125,   5.0625 ,   7.59375,  10.125  ,  12.65625,  15.1875 ],\n",
      "       [-12.65625, -10.125  ,  -7.59375,  -5.0625 ,  -2.53125,   0.     ,\n",
      "          2.53125,   5.0625 ,   7.59375,  10.125  ,  12.65625,  15.1875 ],\n",
      "       [-12.65625, -10.125  ,  -7.59375,  -5.0625 ,  -2.53125,   0.     ,\n",
      "          2.53125,   5.0625 ,   7.59375,  10.125  ,  12.65625,  15.1875 ],\n",
      "       [-12.65625, -10.125  ,  -7.59375,  -5.0625 ,  -2.53125,   0.     ,\n",
      "          2.53125,   5.0625 ,   7.59375,  10.125  ,  12.65625,  15.1875 ],\n",
      "       [-12.65625, -10.125  ,  -7.59375,  -5.0625 ,  -2.53125,   0.     ,\n",
      "          2.53125,   5.0625 ,   7.59375,  10.125  ,  12.65625,  15.1875 ]],      dtype=float32)}}\n"
     ]
    }
   ],
   "source": [
    "# Apply the update again\n",
    "x, new_state = kan_layer.apply(variables, method=kan_layer.update_grid, mutable=['state'])\n",
    "\n",
    "print(new_state)"
   ]
  },
  {
   "cell_type": "code",
   "execution_count": 8,
   "id": "47fbe5c3-026c-4c6c-a1af-ca2354824e55",
   "metadata": {},
   "outputs": [
    {
     "ename": "ModifyScopeVariableError",
     "evalue": "Cannot update variable \"grid\" in \"/\" because collection \"state\" is immutable. (https://flax.readthedocs.io/en/latest/api_reference/flax.errors.html#flax.errors.ModifyScopeVariableError)",
     "output_type": "error",
     "traceback": [
      "\u001b[1;31m---------------------------------------------------------------------------\u001b[0m",
      "\u001b[1;31mModifyScopeVariableError\u001b[0m                  Traceback (most recent call last)",
      "Cell \u001b[1;32mIn[8], line 2\u001b[0m\n\u001b[0;32m      1\u001b[0m \u001b[38;5;66;03m# What happens if we do not pass mutable=['state'] ?\u001b[39;00m\n\u001b[1;32m----> 2\u001b[0m x, new_state \u001b[38;5;241m=\u001b[39m \u001b[43mkan_layer\u001b[49m\u001b[38;5;241;43m.\u001b[39;49m\u001b[43mapply\u001b[49m\u001b[43m(\u001b[49m\u001b[43mvariables\u001b[49m\u001b[43m,\u001b[49m\u001b[43m \u001b[49m\u001b[43mmethod\u001b[49m\u001b[38;5;241;43m=\u001b[39;49m\u001b[43mkan_layer\u001b[49m\u001b[38;5;241;43m.\u001b[39;49m\u001b[43mupdate_grid\u001b[49m\u001b[43m)\u001b[49m\n",
      "    \u001b[1;31m[... skipping hidden 6 frame]\u001b[0m\n",
      "Cell \u001b[1;32mIn[1], line 60\u001b[0m, in \u001b[0;36mKANLayer.update_grid\u001b[1;34m(self)\u001b[0m\n\u001b[0;32m     58\u001b[0m \u001b[38;5;28;01mdef\u001b[39;00m \u001b[38;5;21mupdate_grid\u001b[39m(\u001b[38;5;28mself\u001b[39m):\n\u001b[0;32m     59\u001b[0m     \u001b[38;5;66;03m# Example update function\u001b[39;00m\n\u001b[1;32m---> 60\u001b[0m     \u001b[38;5;28;43mself\u001b[39;49m\u001b[38;5;241;43m.\u001b[39;49m\u001b[43mgrid\u001b[49m\u001b[38;5;241;43m.\u001b[39;49m\u001b[43mvalue\u001b[49m \u001b[38;5;241m=\u001b[39m \u001b[38;5;28mself\u001b[39m\u001b[38;5;241m.\u001b[39mgrid\u001b[38;5;241m.\u001b[39mvalue\u001b[38;5;241m*\u001b[39m\u001b[38;5;241m2.25\u001b[39m\n",
      "    \u001b[1;31m[... skipping hidden 1 frame]\u001b[0m\n",
      "File \u001b[1;32m~\\Desktop\\jaxKAN\\env\\Lib\\site-packages\\flax\\core\\scope.py:798\u001b[0m, in \u001b[0;36mScope.put_variable\u001b[1;34m(self, col, name, value)\u001b[0m\n\u001b[0;32m    796\u001b[0m \u001b[38;5;28mself\u001b[39m\u001b[38;5;241m.\u001b[39m_validate_trace_level()\n\u001b[0;32m    797\u001b[0m \u001b[38;5;28;01mif\u001b[39;00m \u001b[38;5;129;01mnot\u001b[39;00m \u001b[38;5;28mself\u001b[39m\u001b[38;5;241m.\u001b[39mis_mutable_collection(col):\n\u001b[1;32m--> 798\u001b[0m   \u001b[38;5;28;01mraise\u001b[39;00m errors\u001b[38;5;241m.\u001b[39mModifyScopeVariableError(col, name, \u001b[38;5;28mself\u001b[39m\u001b[38;5;241m.\u001b[39mpath_text)\n\u001b[0;32m    799\u001b[0m variables \u001b[38;5;241m=\u001b[39m \u001b[38;5;28mself\u001b[39m\u001b[38;5;241m.\u001b[39m_mutable_collection(col)\n\u001b[0;32m    801\u001b[0m \u001b[38;5;66;03m# Make sure reference sharing of child variable dictionaries isn't broken.\u001b[39;00m\n\u001b[0;32m    802\u001b[0m \u001b[38;5;66;03m# See https://github.com/google/flax/issues/2022 for more details.\u001b[39;00m\n",
      "\u001b[1;31mModifyScopeVariableError\u001b[0m: Cannot update variable \"grid\" in \"/\" because collection \"state\" is immutable. (https://flax.readthedocs.io/en/latest/api_reference/flax.errors.html#flax.errors.ModifyScopeVariableError)"
     ]
    }
   ],
   "source": [
    "# What happens if we do not pass mutable=['state'] ?\n",
    "x, new_state = kan_layer.apply(variables, method=kan_layer.update_grid)"
   ]
  },
  {
   "cell_type": "markdown",
   "id": "0f10701e-bd43-41db-8236-220db043be1b",
   "metadata": {},
   "source": [
    "### A very rough example on how this would look during training"
   ]
  },
  {
   "cell_type": "markdown",
   "id": "f3b45bf0-3acc-4efc-9d4a-39191eb63303",
   "metadata": {},
   "source": [
    "```\n",
    "import optax  # For the optimizer\n",
    "from flax.training import train_state\n",
    "\n",
    "class TrainState(train_state.TrainState):\n",
    "    grid: jnp.ndarray\n",
    "\n",
    "def create_train_state(rng, model, learning_rate):\n",
    "    variables = model.init(rng, jnp.ones((1, 2)), mutable=['non_trainable'])\n",
    "    params = variables['params']\n",
    "    grid = variables['non_trainable']['grid']\n",
    "    tx = optax.adam(learning_rate)\n",
    "    return TrainState.create(apply_fn=model.apply, params=params, tx=tx, grid=grid)\n",
    "\n",
    "def train_model(state, model, epochs, data_loader):\n",
    "    for epoch in range(epochs):\n",
    "        for batch in data_loader:\n",
    "            state = train_step(state, batch)\n",
    "        \n",
    "        if (epoch + 1) % 5 == 0:\n",
    "            state = update_grid_state(state, model)\n",
    "            print(f\"Grid updated at epoch {epoch + 1}\")\n",
    "\n",
    "    return state\n",
    "\n",
    "@jax.jit\n",
    "def train_step(state, batch):\n",
    "    def loss_fn(params):\n",
    "        logits = state.apply_fn({'params': params}, batch['x'])\n",
    "        loss = jnp.mean((logits - batch['y']) ** 2)\n",
    "        return loss\n",
    "    grads = jax.grad(loss_fn)(state.params)\n",
    "    state = state.apply_gradients(grads=grads)\n",
    "    return state\n",
    "\n",
    "@jax.jit\n",
    "def update_grid_state(state, model):\n",
    "    variables = {'params': state.params, 'non_trainable': {'grid': state.grid}}\n",
    "    _, updated_state = model.apply(variables, jnp.ones((1, 2)), method=model.update_grid, mutable=['non_trainable'])\n",
    "    state = state.replace(grid=updated_state['non_trainable']['grid'])\n",
    "    return state\n",
    "\n",
    "# Example data loader\n",
    "data_loader = [{'x': jnp.ones((1, 2)), 'y': jnp.ones((1, 2))} for _ in range(10)]\n",
    "\n",
    "# Initialize model and state\n",
    "rng = jax.random.PRNGKey(0)\n",
    "kan_layer = KANLayer(n_in=2, n_out=3, G=5, grid_range=(-1, 1), k=3)\n",
    "state = create_train_state(rng, kan_layer, learning_rate=0.001)\n",
    "\n",
    "# Train the model\n",
    "state = train_model(state, kan_layer, epochs=20, data_loader=data_loader)\n",
    "\n",
    "# Check final grid value\n",
    "print(\"Final Grid shape:\", state.grid.shape)\n",
    "print(state.grid)\n",
    "```"
   ]
  },
  {
   "cell_type": "code",
   "execution_count": null,
   "id": "ac754775-48cb-4083-a7e7-5253236a84b4",
   "metadata": {},
   "outputs": [],
   "source": []
  }
 ],
 "metadata": {
  "kernelspec": {
   "display_name": "Python 3 (ipykernel)",
   "language": "python",
   "name": "python3"
  },
  "language_info": {
   "codemirror_mode": {
    "name": "ipython",
    "version": 3
   },
   "file_extension": ".py",
   "mimetype": "text/x-python",
   "name": "python",
   "nbconvert_exporter": "python",
   "pygments_lexer": "ipython3",
   "version": "3.11.4"
  }
 },
 "nbformat": 4,
 "nbformat_minor": 5
}
