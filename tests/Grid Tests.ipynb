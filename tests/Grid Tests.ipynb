{
 "cells": [
  {
   "cell_type": "markdown",
   "id": "3378339a-5a70-4377-9814-07340b0361c5",
   "metadata": {},
   "source": [
    "# Tests on Grid generation & extension\n",
    "\n",
    "What follows are jax samples based on pykan or efficientkan, as far as the grid generation and extension process is concerned, to get a better understanding of what's going on."
   ]
  },
  {
   "cell_type": "code",
   "execution_count": 1,
   "id": "954075f8-8edb-440f-a79a-03613bd7b7cc",
   "metadata": {},
   "outputs": [],
   "source": [
    "import jax.numpy as jnp"
   ]
  },
  {
   "cell_type": "code",
   "execution_count": 2,
   "id": "e72f9874-3b72-4bc3-b5cd-1b09380e85d6",
   "metadata": {},
   "outputs": [],
   "source": [
    "# Input parameters relevant to grid\n",
    "k = 3 # splines order\n",
    "G = 5 # grid size (number of knot vector elements)\n",
    "n_in = 2 # number of layer's input nodes\n",
    "n_out = 3 # number of layer's output nodes"
   ]
  },
  {
   "cell_type": "markdown",
   "id": "a4751280-5ece-4b2a-b702-7fbabd4408f7",
   "metadata": {},
   "source": [
    "**<span style=\"color:red\">Open Question: Why are we starting with a grid defined only by its range?</span>**"
   ]
  },
  {
   "cell_type": "code",
   "execution_count": 3,
   "id": "a16f6db2-f43d-46f3-a725-9568243a7b2d",
   "metadata": {},
   "outputs": [],
   "source": [
    "# Grid Initialization - the grid is originally just a knot vector\n",
    "grid_range = [-1, 1]"
   ]
  },
  {
   "cell_type": "markdown",
   "id": "7a991868-8e3e-4f10-af25-e8545661e410",
   "metadata": {},
   "source": [
    "**<span style=\"color:red\">Open Question: Why are we augmenting the grid like this instead of appending the first and last entries k times at the start and end?</span>**"
   ]
  },
  {
   "cell_type": "code",
   "execution_count": 4,
   "id": "b42b651b-65d3-47ac-b324-1f48de0128e3",
   "metadata": {},
   "outputs": [
    {
     "data": {
      "text/plain": [
       "Array([-2.5, -2. , -1.5, -1. , -0.5,  0. ,  0.5,  1. ,  1.5,  2. ,  2.5,\n",
       "        3. ], dtype=float32)"
      ]
     },
     "execution_count": 4,
     "metadata": {},
     "output_type": "execute_result"
    }
   ],
   "source": [
    "# Grid augmentation\n",
    "h = (grid_range[-1] - grid_range[0]) / (G-1)\n",
    "grid = (jnp.arange(-k, G + k + 1, dtype=jnp.float32) * h + grid_range[0])\n",
    "\n",
    "grid"
   ]
  },
  {
   "cell_type": "code",
   "execution_count": 5,
   "id": "e71cddbd-f6ae-4dac-b49e-b45d51e632d1",
   "metadata": {},
   "outputs": [
    {
     "data": {
      "text/plain": [
       "Array([[-2.5, -2. , -1.5, -1. , -0.5,  0. ,  0.5,  1. ,  1.5,  2. ,  2.5,\n",
       "         3. ],\n",
       "       [-2.5, -2. , -1.5, -1. , -0.5,  0. ,  0.5,  1. ,  1.5,  2. ,  2.5,\n",
       "         3. ],\n",
       "       [-2.5, -2. , -1.5, -1. , -0.5,  0. ,  0.5,  1. ,  1.5,  2. ,  2.5,\n",
       "         3. ],\n",
       "       [-2.5, -2. , -1.5, -1. , -0.5,  0. ,  0.5,  1. ,  1.5,  2. ,  2.5,\n",
       "         3. ],\n",
       "       [-2.5, -2. , -1.5, -1. , -0.5,  0. ,  0.5,  1. ,  1.5,  2. ,  2.5,\n",
       "         3. ],\n",
       "       [-2.5, -2. , -1.5, -1. , -0.5,  0. ,  0.5,  1. ,  1.5,  2. ,  2.5,\n",
       "         3. ]], dtype=float32)"
      ]
     },
     "execution_count": 5,
     "metadata": {},
     "output_type": "execute_result"
    }
   ],
   "source": [
    "# Expand for broadcasting - the shape must be (layer_size, G + k), so that the grid\n",
    "# can be passed in get_spline_basis and return a Bi(x) array, where we need only multiply\n",
    "# with the coefficients to get the full spline(x), for each layer's spline (n_in * n_out total).\n",
    "grid = jnp.expand_dims(grid, axis=0)\n",
    "grid = jnp.tile(grid, (n_in*n_out, 1))\n",
    "\n",
    "grid"
   ]
  },
  {
   "cell_type": "markdown",
   "id": "47725051-e46d-4cd6-9b10-774f4ff4a68d",
   "metadata": {},
   "source": [
    "This is the initialization of the grid per layer (registered at `self.`). Then, we have the `upgrade_grid` routine, which is supposed to perform an update for each layer's grid (**can be trainable or not in the future**)."
   ]
  },
  {
   "cell_type": "markdown",
   "id": "7a3cb6aa-c32b-48d6-a779-a269b5cec0c2",
   "metadata": {},
   "source": [
    "In pykan, the `update_grid_from_samples` routine simply performs the mix of adaptive and uniform sampling, given the current grid and the batch. It is the `initialize_grid_from_parent` routine that performs the grid extension. On the other hand, in efficientkan both are handled together in the `update_grid` routine. In what follows, we try to follow the approach of efficientkan, however working with grids of shape $(n_{in}\\cdot n_{out},\\text{batch})$ instead of $(n_{in},\\text{batch})$."
   ]
  },
  {
   "cell_type": "markdown",
   "id": "4baeb3e3-7cc8-4417-8519-03a544b7154f",
   "metadata": {},
   "source": [
    "**<span style=\"color:red\">IDEA: Keep splines as model param function, same as efficientkan, because the grid is also. Then $k$ can be inherited from self too, and the whole thing can normally be jitted.</span>** "
   ]
  },
  {
   "cell_type": "markdown",
   "id": "7eb4c7b4-0f92-43e7-9a39-3ff204fc2794",
   "metadata": {},
   "source": [
    "## Updating the Grid\n",
    "\n",
    "Steps:\n",
    "\n",
    "* "
   ]
  },
  {
   "cell_type": "code",
   "execution_count": null,
   "id": "5c8dc130-3430-4857-a84b-dfdb54bc7d00",
   "metadata": {},
   "outputs": [],
   "source": []
  },
  {
   "cell_type": "code",
   "execution_count": 7,
   "id": "4f7c0027-c2df-4a97-ad65-ff7841b100e0",
   "metadata": {},
   "outputs": [],
   "source": [
    "import torch"
   ]
  },
  {
   "cell_type": "code",
   "execution_count": 24,
   "id": "f091e41c-eb02-47f6-aa86-f2e3275b6581",
   "metadata": {},
   "outputs": [],
   "source": [
    "batch = 300\n"
   ]
  },
  {
   "cell_type": "code",
   "execution_count": null,
   "id": "01ebb07c-701a-416b-945c-397829d2cf07",
   "metadata": {},
   "outputs": [],
   "source": []
  },
  {
   "cell_type": "code",
   "execution_count": null,
   "id": "5154c0d5-31ae-41a3-8cc7-6a55ea77d3f0",
   "metadata": {},
   "outputs": [],
   "source": [
    "# efficient kan\n",
    "def update_grid(x, margin=0.01):\n",
    "    batch = x.size(0)\n",
    "\n",
    "    splines = self.b_splines(x)  # (batch, in, coeff)\n",
    "    splines = splines.permute(1, 0, 2)  # (in, batch, coeff)\n",
    "    orig_coeff = self.scaled_spline_weight  # (out, in, coeff)\n",
    "    orig_coeff = orig_coeff.permute(1, 2, 0)  # (in, coeff, out)\n",
    "    unreduced_spline_output = torch.bmm(splines, orig_coeff)  # (in, batch, out)\n",
    "    unreduced_spline_output = unreduced_spline_output.permute(\n",
    "        1, 0, 2\n",
    "    )  # (batch, in, out)\n",
    "\n",
    "    # sort each channel individually to collect data distribution\n",
    "    x_sorted = torch.sort(x, dim=0)[0]\n",
    "    grid_adaptive = x_sorted[\n",
    "        torch.linspace(\n",
    "            0, batch - 1, self.grid_size + 1, dtype=torch.int64, device=x.device\n",
    "        )\n",
    "    ]\n",
    "\n",
    "    uniform_step = (x_sorted[-1] - x_sorted[0] + 2 * margin) / self.grid_size\n",
    "    grid_uniform = (\n",
    "        torch.arange(\n",
    "            self.grid_size + 1, dtype=torch.float32, device=x.device\n",
    "        ).unsqueeze(1)\n",
    "        * uniform_step\n",
    "        + x_sorted[0]\n",
    "        - margin\n",
    "    )\n",
    "\n",
    "    grid = self.grid_eps * grid_uniform + (1 - self.grid_eps) * grid_adaptive\n",
    "    grid = torch.concatenate(\n",
    "        [\n",
    "            grid[:1]\n",
    "            - uniform_step\n",
    "            * torch.arange(self.spline_order, 0, -1, device=x.device).unsqueeze(1),\n",
    "            grid,\n",
    "            grid[-1:]\n",
    "            + uniform_step\n",
    "            * torch.arange(1, self.spline_order + 1, device=x.device).unsqueeze(1),\n",
    "        ],\n",
    "        dim=0,\n",
    "    )\n",
    "\n",
    "    self.grid.copy_(grid.T)\n",
    "    self.spline_weight.data.copy_(self.curve2coeff(x, unreduced_spline_output))"
   ]
  }
 ],
 "metadata": {
  "kernelspec": {
   "display_name": "Python 3 (ipykernel)",
   "language": "python",
   "name": "python3"
  },
  "language_info": {
   "codemirror_mode": {
    "name": "ipython",
    "version": 3
   },
   "file_extension": ".py",
   "mimetype": "text/x-python",
   "name": "python",
   "nbconvert_exporter": "python",
   "pygments_lexer": "ipython3",
   "version": "3.11.4"
  }
 },
 "nbformat": 4,
 "nbformat_minor": 5
}
