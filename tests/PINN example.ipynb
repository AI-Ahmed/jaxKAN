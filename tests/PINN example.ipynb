{
 "cells": [
  {
   "cell_type": "code",
   "execution_count": 1,
   "metadata": {},
   "outputs": [],
   "source": [
    "import optax\n",
    "import numpy as np\n",
    "import jax\n",
    "import jax.numpy as jnp\n",
    "from flax import linen as nn\n",
    "import matplotlib.pyplot as plt\n",
    "import sys\n",
    "import os\n",
    "\n",
    "# Add /src to path\n",
    "path_to_src = os.path.abspath(os.path.join(os.getcwd(), '../src'))\n",
    "if path_to_src not in sys.path:\n",
    "    sys.path.append(path_to_src)\n",
    "from sklearn.model_selection import train_test_split\n",
    "from KAN import KAN\n",
    "\n",
    "%load_ext autoreload\n",
    "%autoreload 2"
   ]
  },
  {
   "cell_type": "code",
   "execution_count": 2,
   "metadata": {},
   "outputs": [
    {
     "name": "stderr",
     "output_type": "stream",
     "text": [
      "Platform 'METAL' is experimental and not all JAX functionality may be correctly supported!\n",
      "WARNING: All log messages before absl::InitializeLog() is called are written to STDERR\n",
      "W0000 00:00:1716306349.829327 8927691 mps_client.cc:510] WARNING: JAX Apple GPU support is experimental and not all JAX functionality is correctly supported!\n",
      "I0000 00:00:1716306349.855536 8927691 service.cc:145] XLA service 0x147d9a130 initialized for platform METAL (this does not guarantee that XLA will be used). Devices:\n",
      "I0000 00:00:1716306349.855549 8927691 service.cc:153]   StreamExecutor device (0): Metal, <undefined>\n",
      "I0000 00:00:1716306349.858280 8927691 mps_client.cc:406] Using Simple allocator.\n",
      "I0000 00:00:1716306349.858297 8927691 mps_client.cc:384] XLA backend will use up to 11452858368 bytes on device 0 for SimpleAllocator.\n"
     ]
    },
    {
     "name": "stdout",
     "output_type": "stream",
     "text": [
      "Metal device set to: Apple M1\n",
      "\n",
      "systemMemory: 16.00 GB\n",
      "maxCacheSize: 5.33 GB\n",
      "\n"
     ]
    }
   ],
   "source": [
    "# Initialize model\n",
    "key = jax.random.PRNGKey(232)\n",
    "\n",
    "layer_dims = [1, 3, 2, 1]\n",
    "model = KAN(layer_dims=layer_dims, k=3, const_spl=False, const_res=False, add_bias=True, grid_e=0.02)\n",
    "variables = model.init(key, jnp.ones([1, 1]))"
   ]
  },
  {
   "cell_type": "code",
   "execution_count": 3,
   "metadata": {},
   "outputs": [
    {
     "name": "stdout",
     "output_type": "stream",
     "text": [
      "\n",
      "\u001b[3m                                  KAN Summary                                   \u001b[0m\n",
      "┏━━━━━━━━━━┳━━━━━━━━━━┳━━━━━━━━━━━━━┳━━━━━━━━━━━━━┳━━━━━━━━━━━━━━┳━━━━━━━━━━━━━┓\n",
      "┃\u001b[1m \u001b[0m\u001b[1mpath    \u001b[0m\u001b[1m \u001b[0m┃\u001b[1m \u001b[0m\u001b[1mmodule  \u001b[0m\u001b[1m \u001b[0m┃\u001b[1m \u001b[0m\u001b[1minputs     \u001b[0m\u001b[1m \u001b[0m┃\u001b[1m \u001b[0m\u001b[1moutputs    \u001b[0m\u001b[1m \u001b[0m┃\u001b[1m \u001b[0m\u001b[1mparams      \u001b[0m\u001b[1m \u001b[0m┃\u001b[1m \u001b[0m\u001b[1mstate      \u001b[0m\u001b[1m \u001b[0m┃\n",
      "┡━━━━━━━━━━╇━━━━━━━━━━╇━━━━━━━━━━━━━╇━━━━━━━━━━━━━╇━━━━━━━━━━━━━━╇━━━━━━━━━━━━━┩\n",
      "│          │ KAN      │ \u001b[2mfloat32\u001b[0m[5,… │ -           │ bias_0:      │             │\n",
      "│          │          │             │ \u001b[2mfloat32\u001b[0m[5,… │ \u001b[2mfloat32\u001b[0m[3]   │             │\n",
      "│          │          │             │ - -         │ bias_1:      │             │\n",
      "│          │          │             │ \u001b[2mfloat32\u001b[0m[3,… │ \u001b[2mfloat32\u001b[0m[2]   │             │\n",
      "│          │          │             │   -         │ bias_2:      │             │\n",
      "│          │          │             │ \u001b[2mfloat32\u001b[0m[2,… │ \u001b[2mfloat32\u001b[0m[1]   │             │\n",
      "│          │          │             │   -         │              │             │\n",
      "│          │          │             │ \u001b[2mfloat32\u001b[0m[1,… │ \u001b[1m6 \u001b[0m\u001b[1;2m(24 B)\u001b[0m     │             │\n",
      "├──────────┼──────────┼─────────────┼─────────────┼──────────────┼─────────────┤\n",
      "│ layers_0 │ KANLayer │ \u001b[2mfloat32\u001b[0m[5,… │ -           │ c_basis:     │ grid:       │\n",
      "│          │          │             │ \u001b[2mfloat32\u001b[0m[5,… │ \u001b[2mfloat32\u001b[0m[3,6] │ \u001b[2mfloat32\u001b[0m[3,… │\n",
      "│          │          │             │ -           │ c_res:       │             │\n",
      "│          │          │             │ \u001b[2mfloat32\u001b[0m[3,… │ \u001b[2mfloat32\u001b[0m[3]   │ \u001b[1m30 \u001b[0m\u001b[1;2m(120 B)\u001b[0m  │\n",
      "│          │          │             │             │ c_spl:       │             │\n",
      "│          │          │             │             │ \u001b[2mfloat32\u001b[0m[3]   │             │\n",
      "│          │          │             │             │              │             │\n",
      "│          │          │             │             │ \u001b[1m24 \u001b[0m\u001b[1;2m(96 B)\u001b[0m    │             │\n",
      "├──────────┼──────────┼─────────────┼─────────────┼──────────────┼─────────────┤\n",
      "│ layers_1 │ KANLayer │ \u001b[2mfloat32\u001b[0m[5,… │ -           │ c_basis:     │ grid:       │\n",
      "│          │          │             │ \u001b[2mfloat32\u001b[0m[5,… │ \u001b[2mfloat32\u001b[0m[6,6] │ \u001b[2mfloat32\u001b[0m[6,… │\n",
      "│          │          │             │ -           │ c_res:       │             │\n",
      "│          │          │             │ \u001b[2mfloat32\u001b[0m[2,… │ \u001b[2mfloat32\u001b[0m[6]   │ \u001b[1m60 \u001b[0m\u001b[1;2m(240 B)\u001b[0m  │\n",
      "│          │          │             │             │ c_spl:       │             │\n",
      "│          │          │             │             │ \u001b[2mfloat32\u001b[0m[6]   │             │\n",
      "│          │          │             │             │              │             │\n",
      "│          │          │             │             │ \u001b[1m48 \u001b[0m\u001b[1;2m(192 B)\u001b[0m   │             │\n",
      "├──────────┼──────────┼─────────────┼─────────────┼──────────────┼─────────────┤\n",
      "│ layers_2 │ KANLayer │ \u001b[2mfloat32\u001b[0m[5,… │ -           │ c_basis:     │ grid:       │\n",
      "│          │          │             │ \u001b[2mfloat32\u001b[0m[5,… │ \u001b[2mfloat32\u001b[0m[2,6] │ \u001b[2mfloat32\u001b[0m[2,… │\n",
      "│          │          │             │ -           │ c_res:       │             │\n",
      "│          │          │             │ \u001b[2mfloat32\u001b[0m[1,… │ \u001b[2mfloat32\u001b[0m[2]   │ \u001b[1m20 \u001b[0m\u001b[1;2m(80 B)\u001b[0m   │\n",
      "│          │          │             │             │ c_spl:       │             │\n",
      "│          │          │             │             │ \u001b[2mfloat32\u001b[0m[2]   │             │\n",
      "│          │          │             │             │              │             │\n",
      "│          │          │             │             │ \u001b[1m16 \u001b[0m\u001b[1;2m(64 B)\u001b[0m    │             │\n",
      "├──────────┼──────────┼─────────────┼─────────────┼──────────────┼─────────────┤\n",
      "│\u001b[1m \u001b[0m\u001b[1m        \u001b[0m\u001b[1m \u001b[0m│\u001b[1m \u001b[0m\u001b[1m        \u001b[0m\u001b[1m \u001b[0m│\u001b[1m \u001b[0m\u001b[1m           \u001b[0m\u001b[1m \u001b[0m│\u001b[1m \u001b[0m\u001b[1m      Total\u001b[0m\u001b[1m \u001b[0m│\u001b[1m \u001b[0m\u001b[1m94 \u001b[0m\u001b[1;2m(376 B)\u001b[0m\u001b[1m  \u001b[0m\u001b[1m \u001b[0m│\u001b[1m \u001b[0m\u001b[1m110 \u001b[0m\u001b[1;2m(440 B)\u001b[0m\u001b[1m \u001b[0m│\n",
      "└──────────┴──────────┴─────────────┴─────────────┴──────────────┴─────────────┘\n",
      "\u001b[1m                                                                                \u001b[0m\n",
      "\u001b[1m                         Total Parameters: 204 \u001b[0m\u001b[1;2m(816 B)\u001b[0m\u001b[1m                          \u001b[0m\n",
      "\n",
      "\n"
     ]
    }
   ],
   "source": [
    "tabulate_fn=nn.tabulate(model, jax.random.PRNGKey(11))\n",
    "tt = jnp.linspace(0,3,5).reshape(-1,1)\n",
    "table=tabulate_fn(tt)\n",
    "print(table)"
   ]
  },
  {
   "cell_type": "code",
   "execution_count": 4,
   "metadata": {},
   "outputs": [],
   "source": [
    "def _grad(f, idx, order=1):\n",
    "    \"\"\"\n",
    "    Compute the higher order gradient of f with respect to the idx-th column of the input.\n",
    "    \"\"\"\n",
    "    def grad_fn(g, idx):\n",
    "        return lambda tx: jax.grad(lambda tx: jnp.sum(g(tx)))(tx)[..., idx].reshape(-1,1)\n",
    "\n",
    "    g = lambda tx: f(tx)\n",
    "    for _ in range(order):\n",
    "        g = grad_fn(g, idx)\n",
    "\n",
    "    return g\n",
    "\n",
    "\n",
    "def create_los_mean(losses, datas, sigmas):\n",
    "    @jax.jit\n",
    "    def L(params, collocs, W):\n",
    "        los=0.0\n",
    "        for loss, colloc, data, sigma, w in zip(losses, collocs, datas, sigmas, W):\n",
    "            los+=w*jnp.mean(loss(params, colloc, data, sigma))\n",
    "        return los\n",
    "\n",
    "    @jax.jit\n",
    "    def L_no_W(params, collocs):\n",
    "        los=[]\n",
    "        for loss, colloc, data, sigma in zip(losses, collocs, datas, sigmas):\n",
    "            los.append(jnp.mean(loss(params, colloc, data, sigma)))\n",
    "        return jnp.array(los)\n",
    "    @jax.jit\n",
    "    def L_W(params, collocs,W):\n",
    "        los=[]\n",
    "        for loss, colloc, data, sigma, w in zip(losses, collocs, datas, sigmas, W):\n",
    "            los.append(w*jnp.mean(loss(params, colloc, data, sigma)))\n",
    "        return jnp.array(los)\n",
    "    return L,L_no_W,L_W\n",
    "\n",
    "m=1.0\n",
    "k=1.0\n",
    "def physics(params,colloc):\n",
    "  def x(t): return model.apply(params,t)[0]\n",
    "  ddx = _grad(x,0,2)\n",
    "  return m*ddx(colloc)+k*x(colloc)\n",
    "\n",
    "def physics_grad(params,colloc):\n",
    "    def x(t): return model.apply(params,t)[0]\n",
    "    ddx = _grad(x,0,2)\n",
    "    def eq(t): return m*ddx(t)+k*x(t)\n",
    "    deq = _grad(eq,0,1)\n",
    "    return deq(colloc)\n",
    "\n",
    "def physics_loss(params,colloc,data,sigma):\n",
    "    #def sigma(t): return model.apply(params,t)[1]\n",
    "    #sigma=params['params']['sigma']\n",
    "    return physics(params,colloc)**2\n",
    "\n",
    "def position_data_loss(params,colloc,data,sigma):\n",
    "    def x(t): return model.apply(params,t)[0]\n",
    "    return  (x(colloc)-data)**2\n",
    "\n",
    "def velocity_data_loss(params,colloc,data,sigma):\n",
    "    def x(t): return model.apply(params,t)[0]\n",
    "    dx = _grad(x,0,1)\n",
    "    return  (dx(colloc)-data)**2"
   ]
  },
  {
   "cell_type": "code",
   "execution_count": 5,
   "metadata": {},
   "outputs": [],
   "source": [
    "# Initial Physics\n",
    "#colloc_physics = jnp.linspace(0,1.5*np.pi).reshape(-1,1)\n",
    "# Data Points\n",
    "BC_colloc = jnp.zeros(1).reshape(-1,1)\n",
    "BC_data1 = jnp.ones(1).reshape(-1,1)\n",
    "BC_data2 = jnp.zeros(1).reshape(-1,1)\n",
    "BC_sigma1 = jnp.ones(1).reshape(-1,1) * 0.1\n",
    "BC_sigma2 = jnp.ones(1).reshape(-1,1) * 0.1"
   ]
  },
  {
   "cell_type": "code",
   "execution_count": 6,
   "metadata": {},
   "outputs": [],
   "source": [
    "Ncolloc = 128\n",
    "train_lims=[0,2.4*np.pi]\n",
    "val_lims=[2.4*np.pi,4*np.pi]\n",
    "#colloc_physics_ = jnp.linspace(train_lims[0],train_lims[1],2*Ncolloc).reshape(-1,1)\n",
    "#colloc_physics,colloc_physics_val= train_test_split(colloc_physics_,train_size=Ncolloc)\n",
    "\n",
    "colloc_physics = jnp.linspace(train_lims[0],train_lims[1],Ncolloc).reshape(-1,1)\n",
    "colloc_physics_val = jnp.linspace(val_lims[0],val_lims[1],Ncolloc).reshape(-1,1)"
   ]
  },
  {
   "cell_type": "code",
   "execution_count": 7,
   "metadata": {},
   "outputs": [],
   "source": [
    "collocs = [colloc_physics, BC_colloc, BC_colloc, colloc_physics] #this will change inside training\n",
    "collocs_val = collocs.copy(); collocs_val[0]=colloc_physics_val\n",
    "datas = [None, BC_data1, BC_data2, None]\n",
    "sigmas = [None, BC_sigma1, BC_sigma2, None]\n",
    "names = ['Physics','Position 0', 'Velocity 0']\n",
    "\n",
    "losses = [physics_loss, position_data_loss, velocity_data_loss]\n",
    "W0= np.ones(len(losses))"
   ]
  },
  {
   "cell_type": "code",
   "execution_count": 8,
   "metadata": {},
   "outputs": [],
   "source": [
    "L,L_no_W,L_W = create_los_mean(losses,datas,sigmas)"
   ]
  },
  {
   "cell_type": "code",
   "execution_count": 9,
   "metadata": {},
   "outputs": [
    {
     "data": {
      "text/plain": [
       "Array(18.80172, dtype=float32)"
      ]
     },
     "execution_count": 9,
     "metadata": {},
     "output_type": "execute_result"
    }
   ],
   "source": [
    "L(variables,collocs,W0)"
   ]
  },
  {
   "cell_type": "code",
   "execution_count": 10,
   "metadata": {},
   "outputs": [],
   "source": [
    "@jax.jit\n",
    "def smooth_state_transition(old_state, variables):\n",
    "\n",
    "    # Copy old state\n",
    "    adam_count, adam_mu, adam_nu = old_state[0].count, old_state[0].mu, old_state[0].nu\n",
    "\n",
    "    # Try a zero count\n",
    "    adam_count = jnp.array(0, dtype=jnp.int32)\n",
    "\n",
    "    # Get all layer-related keys, so that we do not touch the other parameters\n",
    "    layer_keys = {k for k in adam_mu.keys() if k.startswith('layers_')}\n",
    "    \n",
    "    for key in layer_keys:\n",
    "        # Find the c_basis shape for this layer\n",
    "        c_shape = variables['params'][key]['c_basis'].shape\n",
    "        # Find the c_basis for this layer and initialize its mu to zero\n",
    "        adam_mu[key]['c_basis'] = jnp.zeros(c_shape, dtype=jnp.float32)\n",
    "        # Find the c_basis for this layer and initialize its nu to zero\n",
    "        adam_nu[key]['c_basis'] = jnp.zeros(c_shape, dtype=jnp.float32)\n",
    "\n",
    "    # Make new adam state\n",
    "    adam_state = optax.ScaleByAdamState(adam_count, adam_mu, adam_nu)\n",
    "    # Make new empty state\n",
    "    empty_state = optax.EmptyState()\n",
    "    # Make new total state\n",
    "    new_state = (adam_state, empty_state)\n",
    "\n",
    "    return new_state"
   ]
  },
  {
   "cell_type": "code",
   "execution_count": 13,
   "metadata": {},
   "outputs": [
    {
     "name": "stdout",
     "output_type": "stream",
     "text": [
      "Epoch 1: Performing grid update\n"
     ]
    },
    {
     "ename": "NotImplementedError",
     "evalue": "MLIR translation rule for primitive 'eigh' not found for platform METAL",
     "output_type": "error",
     "traceback": [
      "\u001b[0;31m---------------------------------------------------------------------------\u001b[0m",
      "\u001b[0;31mJaxStackTraceBeforeTransformation\u001b[0m         Traceback (most recent call last)",
      "File \u001b[0;32m<frozen runpy>:198\u001b[0m, in \u001b[0;36m_run_module_as_main\u001b[0;34m()\u001b[0m\n",
      "File \u001b[0;32m<frozen runpy>:88\u001b[0m, in \u001b[0;36m_run_code\u001b[0;34m()\u001b[0m\n",
      "File \u001b[0;32m~/miniconda3/envs/metal/lib/python3.11/site-packages/ipykernel_launcher.py:17\u001b[0m\n\u001b[1;32m     15\u001b[0m \u001b[38;5;28;01mfrom\u001b[39;00m \u001b[38;5;21;01mipykernel\u001b[39;00m \u001b[38;5;28;01mimport\u001b[39;00m kernelapp \u001b[38;5;28;01mas\u001b[39;00m app\n\u001b[0;32m---> 17\u001b[0m app\u001b[38;5;241m.\u001b[39mlaunch_new_instance()\n",
      "File \u001b[0;32m~/miniconda3/envs/metal/lib/python3.11/site-packages/traitlets/config/application.py:1077\u001b[0m, in \u001b[0;36mlaunch_instance\u001b[0;34m()\u001b[0m\n\u001b[1;32m   1076\u001b[0m app\u001b[38;5;241m.\u001b[39minitialize(argv)\n\u001b[0;32m-> 1077\u001b[0m app\u001b[38;5;241m.\u001b[39mstart()\n",
      "File \u001b[0;32m~/miniconda3/envs/metal/lib/python3.11/site-packages/ipykernel/kernelapp.py:701\u001b[0m, in \u001b[0;36mstart\u001b[0;34m()\u001b[0m\n\u001b[1;32m    700\u001b[0m \u001b[38;5;28;01mtry\u001b[39;00m:\n\u001b[0;32m--> 701\u001b[0m     \u001b[38;5;28mself\u001b[39m\u001b[38;5;241m.\u001b[39mio_loop\u001b[38;5;241m.\u001b[39mstart()\n\u001b[1;32m    702\u001b[0m \u001b[38;5;28;01mexcept\u001b[39;00m \u001b[38;5;167;01mKeyboardInterrupt\u001b[39;00m:\n",
      "File \u001b[0;32m~/miniconda3/envs/metal/lib/python3.11/site-packages/tornado/platform/asyncio.py:195\u001b[0m, in \u001b[0;36mstart\u001b[0;34m()\u001b[0m\n\u001b[1;32m    194\u001b[0m \u001b[38;5;28;01mdef\u001b[39;00m \u001b[38;5;21mstart\u001b[39m(\u001b[38;5;28mself\u001b[39m) \u001b[38;5;241m-\u001b[39m\u001b[38;5;241m>\u001b[39m \u001b[38;5;28;01mNone\u001b[39;00m:\n\u001b[0;32m--> 195\u001b[0m     \u001b[38;5;28mself\u001b[39m\u001b[38;5;241m.\u001b[39masyncio_loop\u001b[38;5;241m.\u001b[39mrun_forever()\n",
      "File \u001b[0;32m~/miniconda3/envs/metal/lib/python3.11/asyncio/base_events.py:607\u001b[0m, in \u001b[0;36mrun_forever\u001b[0;34m()\u001b[0m\n\u001b[1;32m    606\u001b[0m \u001b[38;5;28;01mwhile\u001b[39;00m \u001b[38;5;28;01mTrue\u001b[39;00m:\n\u001b[0;32m--> 607\u001b[0m     \u001b[38;5;28mself\u001b[39m\u001b[38;5;241m.\u001b[39m_run_once()\n\u001b[1;32m    608\u001b[0m     \u001b[38;5;28;01mif\u001b[39;00m \u001b[38;5;28mself\u001b[39m\u001b[38;5;241m.\u001b[39m_stopping:\n",
      "File \u001b[0;32m~/miniconda3/envs/metal/lib/python3.11/asyncio/base_events.py:1922\u001b[0m, in \u001b[0;36m_run_once\u001b[0;34m()\u001b[0m\n\u001b[1;32m   1921\u001b[0m     \u001b[38;5;28;01melse\u001b[39;00m:\n\u001b[0;32m-> 1922\u001b[0m         handle\u001b[38;5;241m.\u001b[39m_run()\n\u001b[1;32m   1923\u001b[0m handle \u001b[38;5;241m=\u001b[39m \u001b[38;5;28;01mNone\u001b[39;00m\n",
      "File \u001b[0;32m~/miniconda3/envs/metal/lib/python3.11/asyncio/events.py:80\u001b[0m, in \u001b[0;36m_run\u001b[0;34m()\u001b[0m\n\u001b[1;32m     79\u001b[0m \u001b[38;5;28;01mtry\u001b[39;00m:\n\u001b[0;32m---> 80\u001b[0m     \u001b[38;5;28mself\u001b[39m\u001b[38;5;241m.\u001b[39m_context\u001b[38;5;241m.\u001b[39mrun(\u001b[38;5;28mself\u001b[39m\u001b[38;5;241m.\u001b[39m_callback, \u001b[38;5;241m*\u001b[39m\u001b[38;5;28mself\u001b[39m\u001b[38;5;241m.\u001b[39m_args)\n\u001b[1;32m     81\u001b[0m \u001b[38;5;28;01mexcept\u001b[39;00m (\u001b[38;5;167;01mSystemExit\u001b[39;00m, \u001b[38;5;167;01mKeyboardInterrupt\u001b[39;00m):\n",
      "File \u001b[0;32m~/miniconda3/envs/metal/lib/python3.11/site-packages/ipykernel/kernelbase.py:534\u001b[0m, in \u001b[0;36mdispatch_queue\u001b[0;34m()\u001b[0m\n\u001b[1;32m    533\u001b[0m \u001b[38;5;28;01mtry\u001b[39;00m:\n\u001b[0;32m--> 534\u001b[0m     \u001b[38;5;28;01mawait\u001b[39;00m \u001b[38;5;28mself\u001b[39m\u001b[38;5;241m.\u001b[39mprocess_one()\n\u001b[1;32m    535\u001b[0m \u001b[38;5;28;01mexcept\u001b[39;00m \u001b[38;5;167;01mException\u001b[39;00m:\n",
      "File \u001b[0;32m~/miniconda3/envs/metal/lib/python3.11/site-packages/ipykernel/kernelbase.py:523\u001b[0m, in \u001b[0;36mprocess_one\u001b[0;34m()\u001b[0m\n\u001b[1;32m    522\u001b[0m         \u001b[38;5;28;01mreturn\u001b[39;00m\n\u001b[0;32m--> 523\u001b[0m \u001b[38;5;28;01mawait\u001b[39;00m dispatch(\u001b[38;5;241m*\u001b[39margs)\n",
      "File \u001b[0;32m~/miniconda3/envs/metal/lib/python3.11/site-packages/ipykernel/kernelbase.py:429\u001b[0m, in \u001b[0;36mdispatch_shell\u001b[0;34m()\u001b[0m\n\u001b[1;32m    428\u001b[0m     \u001b[38;5;28;01mif\u001b[39;00m inspect\u001b[38;5;241m.\u001b[39misawaitable(result):\n\u001b[0;32m--> 429\u001b[0m         \u001b[38;5;28;01mawait\u001b[39;00m result\n\u001b[1;32m    430\u001b[0m \u001b[38;5;28;01mexcept\u001b[39;00m \u001b[38;5;167;01mException\u001b[39;00m:\n",
      "File \u001b[0;32m~/miniconda3/envs/metal/lib/python3.11/site-packages/ipykernel/kernelbase.py:767\u001b[0m, in \u001b[0;36mexecute_request\u001b[0;34m()\u001b[0m\n\u001b[1;32m    766\u001b[0m \u001b[38;5;28;01mif\u001b[39;00m inspect\u001b[38;5;241m.\u001b[39misawaitable(reply_content):\n\u001b[0;32m--> 767\u001b[0m     reply_content \u001b[38;5;241m=\u001b[39m \u001b[38;5;28;01mawait\u001b[39;00m reply_content\n\u001b[1;32m    769\u001b[0m \u001b[38;5;66;03m# Flush output before sending the reply.\u001b[39;00m\n",
      "File \u001b[0;32m~/miniconda3/envs/metal/lib/python3.11/site-packages/ipykernel/ipkernel.py:429\u001b[0m, in \u001b[0;36mdo_execute\u001b[0;34m()\u001b[0m\n\u001b[1;32m    428\u001b[0m \u001b[38;5;28;01mif\u001b[39;00m accepts_params[\u001b[38;5;124m\"\u001b[39m\u001b[38;5;124mcell_id\u001b[39m\u001b[38;5;124m\"\u001b[39m]:\n\u001b[0;32m--> 429\u001b[0m     res \u001b[38;5;241m=\u001b[39m shell\u001b[38;5;241m.\u001b[39mrun_cell(\n\u001b[1;32m    430\u001b[0m         code,\n\u001b[1;32m    431\u001b[0m         store_history\u001b[38;5;241m=\u001b[39mstore_history,\n\u001b[1;32m    432\u001b[0m         silent\u001b[38;5;241m=\u001b[39msilent,\n\u001b[1;32m    433\u001b[0m         cell_id\u001b[38;5;241m=\u001b[39mcell_id,\n\u001b[1;32m    434\u001b[0m     )\n\u001b[1;32m    435\u001b[0m \u001b[38;5;28;01melse\u001b[39;00m:\n",
      "File \u001b[0;32m~/miniconda3/envs/metal/lib/python3.11/site-packages/ipykernel/zmqshell.py:549\u001b[0m, in \u001b[0;36mrun_cell\u001b[0;34m()\u001b[0m\n\u001b[1;32m    548\u001b[0m \u001b[38;5;28mself\u001b[39m\u001b[38;5;241m.\u001b[39m_last_traceback \u001b[38;5;241m=\u001b[39m \u001b[38;5;28;01mNone\u001b[39;00m\n\u001b[0;32m--> 549\u001b[0m \u001b[38;5;28;01mreturn\u001b[39;00m \u001b[38;5;28msuper\u001b[39m()\u001b[38;5;241m.\u001b[39mrun_cell(\u001b[38;5;241m*\u001b[39margs, \u001b[38;5;241m*\u001b[39m\u001b[38;5;241m*\u001b[39mkwargs)\n",
      "File \u001b[0;32m~/miniconda3/envs/metal/lib/python3.11/site-packages/IPython/core/interactiveshell.py:3051\u001b[0m, in \u001b[0;36mrun_cell\u001b[0;34m()\u001b[0m\n\u001b[1;32m   3050\u001b[0m \u001b[38;5;28;01mtry\u001b[39;00m:\n\u001b[0;32m-> 3051\u001b[0m     result \u001b[38;5;241m=\u001b[39m \u001b[38;5;28mself\u001b[39m\u001b[38;5;241m.\u001b[39m_run_cell(\n\u001b[1;32m   3052\u001b[0m         raw_cell, store_history, silent, shell_futures, cell_id\n\u001b[1;32m   3053\u001b[0m     )\n\u001b[1;32m   3054\u001b[0m \u001b[38;5;28;01mfinally\u001b[39;00m:\n",
      "File \u001b[0;32m~/miniconda3/envs/metal/lib/python3.11/site-packages/IPython/core/interactiveshell.py:3106\u001b[0m, in \u001b[0;36m_run_cell\u001b[0;34m()\u001b[0m\n\u001b[1;32m   3105\u001b[0m \u001b[38;5;28;01mtry\u001b[39;00m:\n\u001b[0;32m-> 3106\u001b[0m     result \u001b[38;5;241m=\u001b[39m runner(coro)\n\u001b[1;32m   3107\u001b[0m \u001b[38;5;28;01mexcept\u001b[39;00m \u001b[38;5;167;01mBaseException\u001b[39;00m \u001b[38;5;28;01mas\u001b[39;00m e:\n",
      "File \u001b[0;32m~/miniconda3/envs/metal/lib/python3.11/site-packages/IPython/core/async_helpers.py:129\u001b[0m, in \u001b[0;36m_pseudo_sync_runner\u001b[0;34m()\u001b[0m\n\u001b[1;32m    128\u001b[0m \u001b[38;5;28;01mtry\u001b[39;00m:\n\u001b[0;32m--> 129\u001b[0m     coro\u001b[38;5;241m.\u001b[39msend(\u001b[38;5;28;01mNone\u001b[39;00m)\n\u001b[1;32m    130\u001b[0m \u001b[38;5;28;01mexcept\u001b[39;00m \u001b[38;5;167;01mStopIteration\u001b[39;00m \u001b[38;5;28;01mas\u001b[39;00m exc:\n",
      "File \u001b[0;32m~/miniconda3/envs/metal/lib/python3.11/site-packages/IPython/core/interactiveshell.py:3311\u001b[0m, in \u001b[0;36mrun_cell_async\u001b[0;34m()\u001b[0m\n\u001b[1;32m   3308\u001b[0m interactivity \u001b[38;5;241m=\u001b[39m \u001b[38;5;124m\"\u001b[39m\u001b[38;5;124mnone\u001b[39m\u001b[38;5;124m\"\u001b[39m \u001b[38;5;28;01mif\u001b[39;00m silent \u001b[38;5;28;01melse\u001b[39;00m \u001b[38;5;28mself\u001b[39m\u001b[38;5;241m.\u001b[39mast_node_interactivity\n\u001b[0;32m-> 3311\u001b[0m has_raised \u001b[38;5;241m=\u001b[39m \u001b[38;5;28;01mawait\u001b[39;00m \u001b[38;5;28mself\u001b[39m\u001b[38;5;241m.\u001b[39mrun_ast_nodes(code_ast\u001b[38;5;241m.\u001b[39mbody, cell_name,\n\u001b[1;32m   3312\u001b[0m        interactivity\u001b[38;5;241m=\u001b[39minteractivity, compiler\u001b[38;5;241m=\u001b[39mcompiler, result\u001b[38;5;241m=\u001b[39mresult)\n\u001b[1;32m   3314\u001b[0m \u001b[38;5;28mself\u001b[39m\u001b[38;5;241m.\u001b[39mlast_execution_succeeded \u001b[38;5;241m=\u001b[39m \u001b[38;5;129;01mnot\u001b[39;00m has_raised\n",
      "File \u001b[0;32m~/miniconda3/envs/metal/lib/python3.11/site-packages/IPython/core/interactiveshell.py:3493\u001b[0m, in \u001b[0;36mrun_ast_nodes\u001b[0;34m()\u001b[0m\n\u001b[1;32m   3492\u001b[0m     asy \u001b[38;5;241m=\u001b[39m compare(code)\n\u001b[0;32m-> 3493\u001b[0m \u001b[38;5;28;01mif\u001b[39;00m \u001b[38;5;28;01mawait\u001b[39;00m \u001b[38;5;28mself\u001b[39m\u001b[38;5;241m.\u001b[39mrun_code(code, result, async_\u001b[38;5;241m=\u001b[39masy):\n\u001b[1;32m   3494\u001b[0m     \u001b[38;5;28;01mreturn\u001b[39;00m \u001b[38;5;28;01mTrue\u001b[39;00m\n",
      "File \u001b[0;32m~/miniconda3/envs/metal/lib/python3.11/site-packages/IPython/core/interactiveshell.py:3553\u001b[0m, in \u001b[0;36mrun_code\u001b[0;34m()\u001b[0m\n\u001b[1;32m   3552\u001b[0m     \u001b[38;5;28;01melse\u001b[39;00m:\n\u001b[0;32m-> 3553\u001b[0m         exec(code_obj, \u001b[38;5;28mself\u001b[39m\u001b[38;5;241m.\u001b[39muser_global_ns, \u001b[38;5;28mself\u001b[39m\u001b[38;5;241m.\u001b[39muser_ns)\n\u001b[1;32m   3554\u001b[0m \u001b[38;5;28;01mfinally\u001b[39;00m:\n\u001b[1;32m   3555\u001b[0m     \u001b[38;5;66;03m# Reset our crash handler in place\u001b[39;00m\n",
      "Cell \u001b[0;32mIn[13], line 39\u001b[0m\n\u001b[1;32m     38\u001b[0m \u001b[38;5;66;03m# Perform the update\u001b[39;00m\n\u001b[0;32m---> 39\u001b[0m updated_variables \u001b[38;5;241m=\u001b[39m model\u001b[38;5;241m.\u001b[39mapply(variables, colloc_physics, G_new, method\u001b[38;5;241m=\u001b[39mmodel\u001b[38;5;241m.\u001b[39mupdate_grids)\n\u001b[1;32m     40\u001b[0m variables \u001b[38;5;241m=\u001b[39m updated_variables\u001b[38;5;241m.\u001b[39mcopy()\n",
      "File \u001b[0;32m~/projects/jaxKAN/src/KAN.py:85\u001b[0m, in \u001b[0;36mupdate_grids\u001b[0;34m()\u001b[0m\n\u001b[1;32m     84\u001b[0m \u001b[38;5;66;03m# Call the update_grid method on the current layer\u001b[39;00m\n\u001b[0;32m---> 85\u001b[0m coeffs, updated_layer_state \u001b[38;5;241m=\u001b[39m layer\u001b[38;5;241m.\u001b[39mapply(layer_variables, x, G_new, method\u001b[38;5;241m=\u001b[39mlayer\u001b[38;5;241m.\u001b[39mupdate_grid, mutable\u001b[38;5;241m=\u001b[39m[\u001b[38;5;124m'\u001b[39m\u001b[38;5;124mstate\u001b[39m\u001b[38;5;124m'\u001b[39m])\n\u001b[1;32m     87\u001b[0m \u001b[38;5;66;03m# Update the state and parameters for the current layer\u001b[39;00m\n",
      "File \u001b[0;32m~/projects/jaxKAN/src/KANLayer.py:213\u001b[0m, in \u001b[0;36mupdate_grid\u001b[0;34m()\u001b[0m\n\u001b[1;32m    212\u001b[0m \u001b[38;5;66;03m# Based on the new grid, run the new_coeffs() function to re-initialize the coefficients' values\u001b[39;00m\n\u001b[0;32m--> 213\u001b[0m cj \u001b[38;5;241m=\u001b[39m \u001b[38;5;28mself\u001b[39m\u001b[38;5;241m.\u001b[39mnew_coeffs(x, ciBi)\n\u001b[1;32m    215\u001b[0m \u001b[38;5;66;03m# We don't update the coefficients \"automatically\" like in PyTorch, just pass them back\u001b[39;00m\n\u001b[1;32m    216\u001b[0m \u001b[38;5;66;03m# and handle the update by \"tampering\" with the variables dict which is inserted in the model\u001b[39;00m\n",
      "File \u001b[0;32m~/projects/jaxKAN/src/KANLayer.py:136\u001b[0m, in \u001b[0;36mnew_coeffs\u001b[0;34m()\u001b[0m\n\u001b[1;32m    135\u001b[0m \u001b[38;5;66;03m# Solve for the new coefficients\u001b[39;00m\n\u001b[0;32m--> 136\u001b[0m cj \u001b[38;5;241m=\u001b[39m solve_full_lstsq(Bj, ciBi)\n\u001b[1;32m    137\u001b[0m \u001b[38;5;66;03m# Cast into shape (n_in*n_out, G'+k)\u001b[39;00m\n",
      "File \u001b[0;32m~/projects/jaxKAN/src/utils.py:73\u001b[0m, in \u001b[0;36msolve_full_lstsq\u001b[0;34m()\u001b[0m\n\u001b[1;32m     72\u001b[0m \u001b[38;5;66;03m# Apply it to get back the coefficients\u001b[39;00m\n\u001b[0;32m---> 73\u001b[0m full_solution \u001b[38;5;241m=\u001b[39m solve_full(A_full, B_full)\n\u001b[1;32m     75\u001b[0m \u001b[38;5;28;01mreturn\u001b[39;00m full_solution\n",
      "File \u001b[0;32m~/projects/jaxKAN/src/utils.py:48\u001b[0m, in \u001b[0;36msolve_single_lstsq\u001b[0;34m()\u001b[0m\n\u001b[1;32m     46\u001b[0m \u001b[38;5;66;03m#AtA = jnp.dot(A_single.T, A_single)\u001b[39;00m\n\u001b[1;32m     47\u001b[0m \u001b[38;5;66;03m#AtB = jnp.dot(A_single.T, B_single)\u001b[39;00m\n\u001b[0;32m---> 48\u001b[0m single_solution \u001b[38;5;241m=\u001b[39m jnp\u001b[38;5;241m.\u001b[39mlinalg\u001b[38;5;241m.\u001b[39mlstsq(A_single, B_single)\u001b[38;5;66;03m#.solve(AtA, AtB, assume_a='pos')\u001b[39;00m\n\u001b[1;32m     50\u001b[0m \u001b[38;5;28;01mreturn\u001b[39;00m single_solution[\u001b[38;5;241m0\u001b[39m]\n",
      "File \u001b[0;32m~/miniconda3/envs/metal/lib/python3.11/site-packages/jax/_src/numpy/linalg.py:783\u001b[0m, in \u001b[0;36mlstsq\u001b[0;34m()\u001b[0m\n\u001b[1;32m    782\u001b[0m   \u001b[38;5;28;01mreturn\u001b[39;00m _lstsq(a, b, rcond, numpy_resid\u001b[38;5;241m=\u001b[39m\u001b[38;5;28;01mTrue\u001b[39;00m)\n\u001b[0;32m--> 783\u001b[0m \u001b[38;5;28;01mreturn\u001b[39;00m _jit_lstsq(a, b, rcond)\n",
      "File \u001b[0;32m~/miniconda3/envs/metal/lib/python3.11/site-packages/jax/_src/numpy/linalg.py:745\u001b[0m, in \u001b[0;36m_lstsq\u001b[0;34m()\u001b[0m\n\u001b[1;32m    744\u001b[0m   rcond \u001b[38;5;241m=\u001b[39m jnp\u001b[38;5;241m.\u001b[39mwhere(rcond \u001b[38;5;241m<\u001b[39m \u001b[38;5;241m0\u001b[39m, jnp\u001b[38;5;241m.\u001b[39mfinfo(dtype)\u001b[38;5;241m.\u001b[39meps, rcond)\n\u001b[0;32m--> 745\u001b[0m u, s, vt \u001b[38;5;241m=\u001b[39m svd(a, full_matrices\u001b[38;5;241m=\u001b[39m\u001b[38;5;28;01mFalse\u001b[39;00m)\n\u001b[1;32m    746\u001b[0m mask \u001b[38;5;241m=\u001b[39m s \u001b[38;5;241m>\u001b[39m\u001b[38;5;241m=\u001b[39m jnp\u001b[38;5;241m.\u001b[39marray(rcond, dtype\u001b[38;5;241m=\u001b[39ms\u001b[38;5;241m.\u001b[39mdtype) \u001b[38;5;241m*\u001b[39m s[\u001b[38;5;241m0\u001b[39m]\n",
      "File \u001b[0;32m~/miniconda3/envs/metal/lib/python3.11/site-packages/jax/_src/numpy/linalg.py:169\u001b[0m, in \u001b[0;36msvd\u001b[0;34m()\u001b[0m\n\u001b[1;32m    168\u001b[0m \u001b[38;5;28;01mif\u001b[39;00m compute_uv:\n\u001b[0;32m--> 169\u001b[0m   u, s, vh \u001b[38;5;241m=\u001b[39m lax_linalg\u001b[38;5;241m.\u001b[39msvd(\n\u001b[1;32m    170\u001b[0m       a,\n\u001b[1;32m    171\u001b[0m       full_matrices\u001b[38;5;241m=\u001b[39mfull_matrices,\n\u001b[1;32m    172\u001b[0m       compute_uv\u001b[38;5;241m=\u001b[39m\u001b[38;5;28;01mTrue\u001b[39;00m,\n\u001b[1;32m    173\u001b[0m       subset_by_index\u001b[38;5;241m=\u001b[39msubset_by_index,\n\u001b[1;32m    174\u001b[0m   )\n\u001b[1;32m    175\u001b[0m   \u001b[38;5;28;01mreturn\u001b[39;00m SVDResult(u, s, vh)\n",
      "\u001b[0;31mJaxStackTraceBeforeTransformation\u001b[0m: NotImplementedError: MLIR translation rule for primitive 'eigh' not found for platform METAL\n\nThe preceding stack trace is the source of the JAX operation that, once transformed by JAX, triggered the following exception.\n\n--------------------",
      "\nThe above exception was the direct cause of the following exception:\n",
      "\u001b[0;31mNotImplementedError\u001b[0m                       Traceback (most recent call last)",
      "Cell \u001b[0;32mIn[13], line 39\u001b[0m\n\u001b[1;32m     37\u001b[0m G_new \u001b[38;5;241m=\u001b[39m grid_upds[step]\n\u001b[1;32m     38\u001b[0m \u001b[38;5;66;03m# Perform the update\u001b[39;00m\n\u001b[0;32m---> 39\u001b[0m updated_variables \u001b[38;5;241m=\u001b[39m \u001b[43mmodel\u001b[49m\u001b[38;5;241;43m.\u001b[39;49m\u001b[43mapply\u001b[49m\u001b[43m(\u001b[49m\u001b[43mvariables\u001b[49m\u001b[43m,\u001b[49m\u001b[43m \u001b[49m\u001b[43mcolloc_physics\u001b[49m\u001b[43m,\u001b[49m\u001b[43m \u001b[49m\u001b[43mG_new\u001b[49m\u001b[43m,\u001b[49m\u001b[43m \u001b[49m\u001b[43mmethod\u001b[49m\u001b[38;5;241;43m=\u001b[39;49m\u001b[43mmodel\u001b[49m\u001b[38;5;241;43m.\u001b[39;49m\u001b[43mupdate_grids\u001b[49m\u001b[43m)\u001b[49m\n\u001b[1;32m     40\u001b[0m variables \u001b[38;5;241m=\u001b[39m updated_variables\u001b[38;5;241m.\u001b[39mcopy()\n\u001b[1;32m     41\u001b[0m \u001b[38;5;66;03m# Re-initialize optimizer smoothly when using optax - Adam\u001b[39;00m\n",
      "    \u001b[0;31m[... skipping hidden 6 frame]\u001b[0m\n",
      "File \u001b[0;32m~/projects/jaxKAN/src/KAN.py:85\u001b[0m, in \u001b[0;36mKAN.update_grids\u001b[0;34m(self, x, G_new)\u001b[0m\n\u001b[1;32m     79\u001b[0m layer_variables \u001b[38;5;241m=\u001b[39m {\n\u001b[1;32m     80\u001b[0m     \u001b[38;5;124m'\u001b[39m\u001b[38;5;124mparams\u001b[39m\u001b[38;5;124m'\u001b[39m: updated_params[\u001b[38;5;124mf\u001b[39m\u001b[38;5;124m'\u001b[39m\u001b[38;5;124mlayers_\u001b[39m\u001b[38;5;132;01m{\u001b[39;00mi\u001b[38;5;132;01m}\u001b[39;00m\u001b[38;5;124m'\u001b[39m],\n\u001b[1;32m     81\u001b[0m     \u001b[38;5;124m'\u001b[39m\u001b[38;5;124mstate\u001b[39m\u001b[38;5;124m'\u001b[39m: updated_state[\u001b[38;5;124mf\u001b[39m\u001b[38;5;124m'\u001b[39m\u001b[38;5;124mlayers_\u001b[39m\u001b[38;5;132;01m{\u001b[39;00mi\u001b[38;5;132;01m}\u001b[39;00m\u001b[38;5;124m'\u001b[39m]\n\u001b[1;32m     82\u001b[0m }\n\u001b[1;32m     84\u001b[0m \u001b[38;5;66;03m# Call the update_grid method on the current layer\u001b[39;00m\n\u001b[0;32m---> 85\u001b[0m coeffs, updated_layer_state \u001b[38;5;241m=\u001b[39m \u001b[43mlayer\u001b[49m\u001b[38;5;241;43m.\u001b[39;49m\u001b[43mapply\u001b[49m\u001b[43m(\u001b[49m\u001b[43mlayer_variables\u001b[49m\u001b[43m,\u001b[49m\u001b[43m \u001b[49m\u001b[43mx\u001b[49m\u001b[43m,\u001b[49m\u001b[43m \u001b[49m\u001b[43mG_new\u001b[49m\u001b[43m,\u001b[49m\u001b[43m \u001b[49m\u001b[43mmethod\u001b[49m\u001b[38;5;241;43m=\u001b[39;49m\u001b[43mlayer\u001b[49m\u001b[38;5;241;43m.\u001b[39;49m\u001b[43mupdate_grid\u001b[49m\u001b[43m,\u001b[49m\u001b[43m \u001b[49m\u001b[43mmutable\u001b[49m\u001b[38;5;241;43m=\u001b[39;49m\u001b[43m[\u001b[49m\u001b[38;5;124;43m'\u001b[39;49m\u001b[38;5;124;43mstate\u001b[39;49m\u001b[38;5;124;43m'\u001b[39;49m\u001b[43m]\u001b[49m\u001b[43m)\u001b[49m\n\u001b[1;32m     87\u001b[0m \u001b[38;5;66;03m# Update the state and parameters for the current layer\u001b[39;00m\n\u001b[1;32m     88\u001b[0m updated_params[\u001b[38;5;124mf\u001b[39m\u001b[38;5;124m'\u001b[39m\u001b[38;5;124mlayers_\u001b[39m\u001b[38;5;132;01m{\u001b[39;00mi\u001b[38;5;132;01m}\u001b[39;00m\u001b[38;5;124m'\u001b[39m][\u001b[38;5;124m'\u001b[39m\u001b[38;5;124mc_basis\u001b[39m\u001b[38;5;124m'\u001b[39m] \u001b[38;5;241m=\u001b[39m coeffs\n",
      "    \u001b[0;31m[... skipping hidden 6 frame]\u001b[0m\n",
      "File \u001b[0;32m~/projects/jaxKAN/src/KANLayer.py:213\u001b[0m, in \u001b[0;36mKANLayer.update_grid\u001b[0;34m(self, x, G_new)\u001b[0m\n\u001b[1;32m    211\u001b[0m \u001b[38;5;28mself\u001b[39m\u001b[38;5;241m.\u001b[39mgrid\u001b[38;5;241m.\u001b[39mvalue \u001b[38;5;241m=\u001b[39m grid\n\u001b[1;32m    212\u001b[0m \u001b[38;5;66;03m# Based on the new grid, run the new_coeffs() function to re-initialize the coefficients' values\u001b[39;00m\n\u001b[0;32m--> 213\u001b[0m cj \u001b[38;5;241m=\u001b[39m \u001b[38;5;28;43mself\u001b[39;49m\u001b[38;5;241;43m.\u001b[39;49m\u001b[43mnew_coeffs\u001b[49m\u001b[43m(\u001b[49m\u001b[43mx\u001b[49m\u001b[43m,\u001b[49m\u001b[43m \u001b[49m\u001b[43mciBi\u001b[49m\u001b[43m)\u001b[49m\n\u001b[1;32m    215\u001b[0m \u001b[38;5;66;03m# We don't update the coefficients \"automatically\" like in PyTorch, just pass them back\u001b[39;00m\n\u001b[1;32m    216\u001b[0m \u001b[38;5;66;03m# and handle the update by \"tampering\" with the variables dict which is inserted in the model\u001b[39;00m\n\u001b[1;32m    218\u001b[0m \u001b[38;5;28;01mreturn\u001b[39;00m cj\n",
      "    \u001b[0;31m[... skipping hidden 2 frame]\u001b[0m\n",
      "File \u001b[0;32m~/projects/jaxKAN/src/KANLayer.py:136\u001b[0m, in \u001b[0;36mKANLayer.new_coeffs\u001b[0;34m(self, x, ciBi)\u001b[0m\n\u001b[1;32m    133\u001b[0m ciBi \u001b[38;5;241m=\u001b[39m jnp\u001b[38;5;241m.\u001b[39mexpand_dims(ciBi, axis\u001b[38;5;241m=\u001b[39m\u001b[38;5;241m-\u001b[39m\u001b[38;5;241m1\u001b[39m)\n\u001b[1;32m    135\u001b[0m \u001b[38;5;66;03m# Solve for the new coefficients\u001b[39;00m\n\u001b[0;32m--> 136\u001b[0m cj \u001b[38;5;241m=\u001b[39m \u001b[43msolve_full_lstsq\u001b[49m\u001b[43m(\u001b[49m\u001b[43mBj\u001b[49m\u001b[43m,\u001b[49m\u001b[43m \u001b[49m\u001b[43mciBi\u001b[49m\u001b[43m)\u001b[49m\n\u001b[1;32m    137\u001b[0m \u001b[38;5;66;03m# Cast into shape (n_in*n_out, G'+k)\u001b[39;00m\n\u001b[1;32m    138\u001b[0m cj \u001b[38;5;241m=\u001b[39m jnp\u001b[38;5;241m.\u001b[39msqueeze(cj, axis\u001b[38;5;241m=\u001b[39m\u001b[38;5;241m-\u001b[39m\u001b[38;5;241m1\u001b[39m)\n",
      "    \u001b[0;31m[... skipping hidden 25 frame]\u001b[0m\n",
      "    \u001b[0;31m[... skipping similar frames: jaxpr_subcomp at line 1615 (1 times), lower_jaxpr_to_fun at line 1431 (1 times), lower_per_platform at line 1723 (1 times)]\u001b[0m\n",
      "    \u001b[0;31m[... skipping hidden 17 frame]\u001b[0m\n",
      "    \u001b[0;31m[... skipping similar frames: jaxpr_subcomp at line 1615 (1 times)]\u001b[0m\n",
      "    \u001b[0;31m[... skipping hidden 5 frame]\u001b[0m\n",
      "File \u001b[0;32m~/miniconda3/envs/metal/lib/python3.11/site-packages/jax/_src/interpreters/mlir.py:1696\u001b[0m, in \u001b[0;36mlower_per_platform\u001b[0;34m(ctx, description, platform_rules, default_rule, effects, *rule_args, **rule_kwargs)\u001b[0m\n\u001b[1;32m   1694\u001b[0m   rule \u001b[38;5;241m=\u001b[39m platform_rules\u001b[38;5;241m.\u001b[39mget(platforms[\u001b[38;5;241m0\u001b[39m], default_rule)\n\u001b[1;32m   1695\u001b[0m   \u001b[38;5;28;01mif\u001b[39;00m rule \u001b[38;5;129;01mis\u001b[39;00m \u001b[38;5;28;01mNone\u001b[39;00m:\n\u001b[0;32m-> 1696\u001b[0m     \u001b[38;5;28;01mraise\u001b[39;00m \u001b[38;5;167;01mNotImplementedError\u001b[39;00m(\n\u001b[1;32m   1697\u001b[0m       \u001b[38;5;124mf\u001b[39m\u001b[38;5;124m\"\u001b[39m\u001b[38;5;124mMLIR translation rule for primitive \u001b[39m\u001b[38;5;124m'\u001b[39m\u001b[38;5;132;01m{\u001b[39;00mdescription\u001b[38;5;132;01m}\u001b[39;00m\u001b[38;5;124m'\u001b[39m\u001b[38;5;124m not \u001b[39m\u001b[38;5;124m\"\u001b[39m\n\u001b[1;32m   1698\u001b[0m       \u001b[38;5;124mf\u001b[39m\u001b[38;5;124m\"\u001b[39m\u001b[38;5;124mfound for platform \u001b[39m\u001b[38;5;132;01m{\u001b[39;00mplatforms[\u001b[38;5;241m0\u001b[39m]\u001b[38;5;132;01m}\u001b[39;00m\u001b[38;5;124m\"\u001b[39m)\n\u001b[1;32m   1700\u001b[0m \u001b[38;5;66;03m# Multi-platform lowering\u001b[39;00m\n\u001b[1;32m   1701\u001b[0m kept_rules: \u001b[38;5;28mlist\u001b[39m[LoweringRule] \u001b[38;5;241m=\u001b[39m []  \u001b[38;5;66;03m# Only the rules for the platforms of interest\u001b[39;00m\n",
      "\u001b[0;31mNotImplementedError\u001b[0m: MLIR translation rule for primitive 'eigh' not found for platform METAL"
     ]
    }
   ],
   "source": [
    "learning_rate = 5e-4\n",
    "steps = 8000\n",
    "grid_upds = {0 : 3, 500: 5, 1500: 10, 3000: 50}\n",
    "print_step =100 \n",
    "plot_step = 500\n",
    "optimizer = optax.adam(learning_rate=learning_rate)\n",
    "opt_state = optimizer.init(variables)\n",
    "losses_test=[]\n",
    "losses_val=[]\n",
    "W=W0\n",
    "losses_train = np.zeros((steps,len(W)))\n",
    "\n",
    "L,L_no_W,L_W = create_los_mean(losses,datas,sigmas)\n",
    "\n",
    "#@jax.jit\n",
    "def train_step(params, opt_state, collocs, W, state):\n",
    "    \n",
    "    loss, grads = jax.value_and_grad(L)(params, collocs, W, state)\n",
    "    \n",
    "    updates, opt_state = optimizer.update(grads, opt_state, params)\n",
    "    params = optax.apply_updates(params, updates)\n",
    "    \n",
    "    new_variables = {'params': params, 'state': state}\n",
    "    \n",
    "    return new_variables, opt_state, loss\n",
    "\n",
    "for step in range(steps):\n",
    "        #print(collocs)\n",
    "        # loss_val, grads = jax.value_and_grad(L)(params,collocs,W)\n",
    "\n",
    "        # updates, opt_state = optimizer.update(grads, opt_state)\n",
    "        # params = optax.apply_updates(params, updates)\n",
    "\n",
    "        if step in grid_upds.keys():\n",
    "                print(f\"Epoch {step+1}: Performing grid update\")\n",
    "                # Get grid size\n",
    "                G_new = grid_upds[step]\n",
    "                # Perform the update\n",
    "                updated_variables = model.apply(variables, colloc_physics, G_new, method=model.update_grids)\n",
    "                variables = updated_variables.copy()\n",
    "                # Re-initialize optimizer smoothly when using optax - Adam\n",
    "                opt_state = smooth_state_transition(opt_state, variables)\n",
    "\n",
    "        params, state = variables['params'], variables['state']\n",
    "        variables, opt_state, loss = train_step(params, opt_state, collocs, W, state)\n",
    "\n",
    "        val_loss = jnp.sum(L_no_W(variables,collocs_val))\n",
    "        losses_train[step,:] = L_no_W(variables,collocs)\n",
    "        #losses_test.append(test_loss)\n",
    "        losses_val.append(val_loss)\n",
    "\n",
    "        if step % print_step == 0:\n",
    "                #comps = np.array(loss_components(params,colloc_physics,BC_colloc, BC_data1,BC_sigma1, BC_colloc,BC_data2,BC_sigma2))\n",
    "                print(f\"step {step}/{steps}:  Loss: {loss:.3E} ({np.array2string(losses_train[step,:],separator=',', formatter={'float_kind':lambda x: '%.2E' % x})}), val: {val_loss:.3f} | ({np.array2string(W,separator=',', formatter={'float_kind':lambda x: '%.2E' % x})})\")\n",
    "\n",
    "\n",
    "        if (step % plot_step ==0):\n",
    "                fig = plt.figure(layout=\"constrained\",figsize=(10,10))\n",
    "                ax = fig.subplot_mosaic(\n",
    "                [\n",
    "                        [\"loss\", \"test\"],\n",
    "                        [\"sol\", \"p\"],\n",
    "                        ['res', 'ntk']\n",
    "                ],\n",
    "                )\n",
    "                if step>0:\n",
    "                        ax['loss'].plot(losses_train[:step,:],label=names)\n",
    "                        ax['loss'].plot(np.sum(losses_train[:step,:],axis=1),linewidth=2, color='black',label='Loss')\n",
    "                        ax['loss'].legend()\n",
    "\n",
    "                        ax['test'].plot(losses_val,label='Validation loss')\n",
    "                        ax['test'].plot(losses_test,label='Test loss')\n",
    "                        ax['test'].legend()\n",
    "\n",
    "                \n",
    "                        ax['loss'].set(yscale='log',title='Train losses')\n",
    "                        ax['test'].set(yscale='log',title=\"Validation and test\")\n",
    "\n",
    "                x=model.apply(params,colloc_physics)[0]\n",
    "                ax['sol'].plot(colloc_physics,x.flatten(),'.',label=\"Train\")\n",
    "\n",
    "        #     x=model.apply(params,colloc_physics_test)\n",
    "        #     ax['sol'].plot(colloc_physics_test,x.flatten(),'.',label='Test')\n",
    "\n",
    "                x=model.apply(params,colloc_physics_val)[0]\n",
    "                ax['sol'].plot(colloc_physics_val,x.flatten(),'.',label='Validation')\n",
    "\n",
    "                true_sol_t=np.linspace(0,7*np.pi)\n",
    "                true_sol=np.cos(true_sol_t)\n",
    "                ax['sol'].plot(true_sol_t,true_sol,label=\"True solution\")\n",
    "                ax['sol'].legend()\n",
    "                for (los,colloc,name,data,sigma) in zip(losses,collocs,names,datas,sigmas):\n",
    "                        if name != 'Penalty':\n",
    "                                _loss_points=los(params,colloc,data,sigma)\n",
    "                                ax['res'].plot(colloc,_loss_points,'.',label=f\"{name}^2 = {jnp.mean(_loss_points):.3f}\")\n",
    "                                if name == \"Physics\":\n",
    "                                        ax['res'].axhline(np.quantile(_loss_points,q=[0.9]))\n",
    "\n",
    "                ax['res'].set(title=\"Residuals\")\n",
    "                ax['res'].legend()\n",
    "\n",
    "                # for p in trace_params:\n",
    "                #         ax['p'].plot(params_log[p],label=p)\n",
    "                ax['p'].set(title=\"Parameters\")\n",
    "                ax['p'].legend()\n",
    "\n",
    "                plt.show()"
   ]
  },
  {
   "cell_type": "code",
   "execution_count": 21,
   "metadata": {},
   "outputs": [
    {
     "data": {
      "text/plain": [
       "[<matplotlib.lines.Line2D at 0x32070ec50>,\n",
       " <matplotlib.lines.Line2D at 0x31f820550>,\n",
       " <matplotlib.lines.Line2D at 0x330c67d90>]"
      ]
     },
     "execution_count": 21,
     "metadata": {},
     "output_type": "execute_result"
    },
    {
     "data": {
      "image/png": "[encoded data removed]",
      "text/plain": [
       "<Figure size 640x480 with 1 Axes>"
      ]
     },
     "metadata": {},
     "output_type": "display_data"
    }
   ],
   "source": [
    "plt.plot(losses_train)"
   ]
  },
  {
   "cell_type": "code",
   "execution_count": 23,
   "metadata": {},
   "outputs": [
    {
     "data": {
      "text/plain": [
       "[<matplotlib.lines.Line2D at 0x3aa87db10>]"
      ]
     },
     "execution_count": 23,
     "metadata": {},
     "output_type": "execute_result"
    },
    {
     "data": {
      "image/png": "[encoded data removed]",
      "text/plain": [
       "<Figure size 640x480 with 1 Axes>"
      ]
     },
     "metadata": {},
     "output_type": "display_data"
    }
   ],
   "source": [
    "tt=jnp.linspace(0,3,50).reshape(-1,1)\n",
    "plt.plot(tt, model.apply(params,tt)[0])"
   ]
  }
 ],
 "metadata": {
  "kernelspec": {
   "display_name": "metal",
   "language": "python",
   "name": "python3"
  },
  "language_info": {
   "codemirror_mode": {
    "name": "ipython",
    "version": 3
   },
   "file_extension": ".py",
   "mimetype": "text/x-python",
   "name": "python",
   "nbconvert_exporter": "python",
   "pygments_lexer": "ipython3",
   "version": "3.11.5"
  }
 },
 "nbformat": 4,
 "nbformat_minor": 2
}
