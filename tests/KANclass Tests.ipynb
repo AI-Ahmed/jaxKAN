{
 "cells": [
  {
   "cell_type": "code",
   "execution_count": 1,
   "metadata": {},
   "outputs": [],
   "source": [
    "from jax.nn import silu\n",
    "import jax.numpy as jnp\n",
    "import jax\n",
    "from jax import random\n",
    "\n",
    "import sys\n",
    "import os\n",
    "\n",
    "path_to_src = os.path.abspath(os.path.join(os.getcwd(), '../src'))\n",
    "if path_to_src not in sys.path:\n",
    "    sys.path.append(path_to_src)\n",
    "\n",
    "from bases.splines import get_spline_basis\n",
    "from KANLayer import KANLayer as kan\n",
    "from typing import Any, Callable, Sequence\n",
    "from flax import linen as nn\n"
   ]
  },
  {
   "cell_type": "code",
   "execution_count": 2,
   "metadata": {},
   "outputs": [
    {
     "name": "stderr",
     "output_type": "stream",
     "text": [
      "Platform 'METAL' is experimental and not all JAX functionality may be correctly supported!\n",
      "2024-05-20 18:25:33.524529: W pjrt_plugin/src/mps_client.cc:563] WARNING: JAX Apple GPU support is experimental and not all JAX functionality is correctly supported!\n"
     ]
    },
    {
     "name": "stdout",
     "output_type": "stream",
     "text": [
      "Metal device set to: Apple M1\n",
      "\n",
      "systemMemory: 16.00 GB\n",
      "maxCacheSize: 5.33 GB\n",
      "\n"
     ]
    },
    {
     "ename": "NameError",
     "evalue": "name 'kan_layer' is not defined",
     "output_type": "error",
     "traceback": [
      "\u001b[0;31m---------------------------------------------------------------------------\u001b[0m",
      "\u001b[0;31mNameError\u001b[0m                                 Traceback (most recent call last)",
      "Cell \u001b[0;32mIn[2], line 2\u001b[0m\n\u001b[1;32m      1\u001b[0m rng \u001b[38;5;241m=\u001b[39m jax\u001b[38;5;241m.\u001b[39mrandom\u001b[38;5;241m.\u001b[39mPRNGKey(\u001b[38;5;241m0\u001b[39m)\n\u001b[0;32m----> 2\u001b[0m variables \u001b[38;5;241m=\u001b[39m \u001b[43mkan_layer\u001b[49m\u001b[38;5;241m.\u001b[39minit(rng, jnp\u001b[38;5;241m.\u001b[39mones((\u001b[38;5;241m2\u001b[39m, \u001b[38;5;241m3\u001b[39m)))\n",
      "\u001b[0;31mNameError\u001b[0m: name 'kan_layer' is not defined"
     ]
    }
   ],
   "source": [
    "rng = jax.random.PRNGKey(0)\n",
    "variables = kan_layer.init(rng, jnp.ones((2, 3)))"
   ]
  },
  {
   "cell_type": "code",
   "execution_count": 2,
   "metadata": {},
   "outputs": [],
   "source": [
    "# class KAN(nn.Module):\n",
    "#     features: Sequence[int]\n",
    "#     grid_range: Sequence[float] =(-1,1)\n",
    "#     k: int = 3\n",
    "#     G: int = 5\n",
    "#     def setup(self):\n",
    "#         N = len(self.features) - 1\n",
    "#         layers = [None] * N\n",
    "#         for i in range(N):\n",
    "#             layers[i] = kan(n_in=self.features[i], n_out=self.features[i+1], G=self.G, grid_range=self.grid_range, k=self.k)\n",
    "#         self.layers = layers\n",
    "#     def __call__(self, inputs):\n",
    "#         x = inputs\n",
    "#         for i, lyr in enumerate(self.layers):\n",
    "#             x = lyr(x)\n",
    "#         return x\n"
   ]
  },
  {
   "cell_type": "code",
   "execution_count": 3,
   "metadata": {},
   "outputs": [
    {
     "name": "stderr",
     "output_type": "stream",
     "text": [
      "Platform 'METAL' is experimental and not all JAX functionality may be correctly supported!\n",
      "2024-05-20 18:23:50.789801: W pjrt_plugin/src/mps_client.cc:563] WARNING: JAX Apple GPU support is experimental and not all JAX functionality is correctly supported!\n"
     ]
    },
    {
     "name": "stdout",
     "output_type": "stream",
     "text": [
      "Metal device set to: Apple M1\n",
      "\n",
      "systemMemory: 16.00 GB\n",
      "maxCacheSize: 5.33 GB\n",
      "\n",
      "[[1. 1.]\n",
      " [1. 1.]]\n"
     ]
    },
    {
     "ename": "TypeError",
     "evalue": "KANLayer.__init__() got an unexpected keyword argument 'G'",
     "output_type": "error",
     "traceback": [
      "\u001b[0;31m---------------------------------------------------------------------------\u001b[0m",
      "\u001b[0;31mTypeError\u001b[0m                                 Traceback (most recent call last)",
      "Cell \u001b[0;32mIn[3], line 5\u001b[0m\n\u001b[1;32m      3\u001b[0m x \u001b[38;5;241m=\u001b[39m jnp\u001b[38;5;241m.\u001b[39mones((\u001b[38;5;241m2\u001b[39m,\u001b[38;5;241m2\u001b[39m)) \u001b[38;5;66;03m# Dummy input data\u001b[39;00m\n\u001b[1;32m      4\u001b[0m \u001b[38;5;28mprint\u001b[39m(x)\n\u001b[0;32m----> 5\u001b[0m params \u001b[38;5;241m=\u001b[39m \u001b[43mmodel\u001b[49m\u001b[38;5;241;43m.\u001b[39;49m\u001b[43minit\u001b[49m\u001b[43m(\u001b[49m\u001b[43mkey2\u001b[49m\u001b[43m,\u001b[49m\u001b[43m \u001b[49m\u001b[43mx\u001b[49m\u001b[43m)\u001b[49m\n",
      "    \u001b[0;31m[... skipping hidden 12 frame]\u001b[0m\n",
      "Cell \u001b[0;32mIn[2], line 10\u001b[0m, in \u001b[0;36mKAN.setup\u001b[0;34m(self)\u001b[0m\n\u001b[1;32m      8\u001b[0m layers \u001b[38;5;241m=\u001b[39m [\u001b[38;5;28;01mNone\u001b[39;00m] \u001b[38;5;241m*\u001b[39m N\n\u001b[1;32m      9\u001b[0m \u001b[38;5;28;01mfor\u001b[39;00m i \u001b[38;5;129;01min\u001b[39;00m \u001b[38;5;28mrange\u001b[39m(N):\n\u001b[0;32m---> 10\u001b[0m     layers[i] \u001b[38;5;241m=\u001b[39m \u001b[43mkan\u001b[49m\u001b[43m(\u001b[49m\u001b[43mn_in\u001b[49m\u001b[38;5;241;43m=\u001b[39;49m\u001b[38;5;28;43mself\u001b[39;49m\u001b[38;5;241;43m.\u001b[39;49m\u001b[43mfeatures\u001b[49m\u001b[43m[\u001b[49m\u001b[43mi\u001b[49m\u001b[43m]\u001b[49m\u001b[43m,\u001b[49m\u001b[43m \u001b[49m\u001b[43mn_out\u001b[49m\u001b[38;5;241;43m=\u001b[39;49m\u001b[38;5;28;43mself\u001b[39;49m\u001b[38;5;241;43m.\u001b[39;49m\u001b[43mfeatures\u001b[49m\u001b[43m[\u001b[49m\u001b[43mi\u001b[49m\u001b[38;5;241;43m+\u001b[39;49m\u001b[38;5;241;43m1\u001b[39;49m\u001b[43m]\u001b[49m\u001b[43m,\u001b[49m\u001b[43m \u001b[49m\u001b[43mG\u001b[49m\u001b[38;5;241;43m=\u001b[39;49m\u001b[38;5;28;43mself\u001b[39;49m\u001b[38;5;241;43m.\u001b[39;49m\u001b[43mG\u001b[49m\u001b[43m,\u001b[49m\u001b[43m \u001b[49m\u001b[43mgrid_range\u001b[49m\u001b[38;5;241;43m=\u001b[39;49m\u001b[38;5;28;43mself\u001b[39;49m\u001b[38;5;241;43m.\u001b[39;49m\u001b[43mgrid_range\u001b[49m\u001b[43m,\u001b[49m\u001b[43m \u001b[49m\u001b[43mk\u001b[49m\u001b[38;5;241;43m=\u001b[39;49m\u001b[38;5;28;43mself\u001b[39;49m\u001b[38;5;241;43m.\u001b[39;49m\u001b[43mk\u001b[49m\u001b[43m)\u001b[49m\n\u001b[1;32m     11\u001b[0m \u001b[38;5;28mself\u001b[39m\u001b[38;5;241m.\u001b[39mlayers \u001b[38;5;241m=\u001b[39m layers\n",
      "File \u001b[0;32m~/miniconda3/envs/metal/lib/python3.11/site-packages/flax/linen/kw_only_dataclasses.py:233\u001b[0m, in \u001b[0;36m_process_class.<locals>.init_wrapper\u001b[0;34m(self, *args, **kwargs)\u001b[0m\n\u001b[1;32m    225\u001b[0m \u001b[38;5;28;01mif\u001b[39;00m num_args \u001b[38;5;241m>\u001b[39m expected_num_args:\n\u001b[1;32m    226\u001b[0m   \u001b[38;5;66;03m# we add + 1 to each to account for `self`, matching python's\u001b[39;00m\n\u001b[1;32m    227\u001b[0m   \u001b[38;5;66;03m# default error message\u001b[39;00m\n\u001b[1;32m    228\u001b[0m   \u001b[38;5;28;01mraise\u001b[39;00m \u001b[38;5;167;01mTypeError\u001b[39;00m(\n\u001b[1;32m    229\u001b[0m       \u001b[38;5;124mf\u001b[39m\u001b[38;5;124m'\u001b[39m\u001b[38;5;124m__init__() takes \u001b[39m\u001b[38;5;132;01m{\u001b[39;00mexpected_num_args\u001b[38;5;250m \u001b[39m\u001b[38;5;241m+\u001b[39m\u001b[38;5;250m \u001b[39m\u001b[38;5;241m1\u001b[39m\u001b[38;5;132;01m}\u001b[39;00m\u001b[38;5;124m positional \u001b[39m\u001b[38;5;124m'\u001b[39m\n\u001b[1;32m    230\u001b[0m       \u001b[38;5;124mf\u001b[39m\u001b[38;5;124m'\u001b[39m\u001b[38;5;124marguments but \u001b[39m\u001b[38;5;132;01m{\u001b[39;00mnum_args\u001b[38;5;250m \u001b[39m\u001b[38;5;241m+\u001b[39m\u001b[38;5;250m \u001b[39m\u001b[38;5;241m1\u001b[39m\u001b[38;5;132;01m}\u001b[39;00m\u001b[38;5;124m were given\u001b[39m\u001b[38;5;124m'\u001b[39m\n\u001b[1;32m    231\u001b[0m   )\n\u001b[0;32m--> 233\u001b[0m \u001b[43mdataclass_init\u001b[49m\u001b[43m(\u001b[49m\u001b[38;5;28;43mself\u001b[39;49m\u001b[43m,\u001b[49m\u001b[43m \u001b[49m\u001b[38;5;241;43m*\u001b[39;49m\u001b[43margs\u001b[49m\u001b[43m,\u001b[49m\u001b[43m \u001b[49m\u001b[38;5;241;43m*\u001b[39;49m\u001b[38;5;241;43m*\u001b[39;49m\u001b[43mkwargs\u001b[49m\u001b[43m)\u001b[49m\n",
      "\u001b[0;31mTypeError\u001b[0m: KANLayer.__init__() got an unexpected keyword argument 'G'"
     ]
    }
   ],
   "source": [
    "model = KAN(features=[1,3,4,1])\n",
    "key1, key2 = random.split(random.key(0))\n",
    "x = jnp.ones((2,2)) # Dummy input data\n",
    "print(x)\n",
    "params = model.init(key2, x)"
   ]
  },
  {
   "cell_type": "code",
   "execution_count": 124,
   "metadata": {},
   "outputs": [
    {
     "ename": "TypeError",
     "evalue": "argument of type 'NoneType' is not iterable",
     "output_type": "error",
     "traceback": [
      "\u001b[0;31m---------------------------------------------------------------------------\u001b[0m",
      "\u001b[0;31mTypeError\u001b[0m                                 Traceback (most recent call last)",
      "Cell \u001b[0;32mIn[124], line 1\u001b[0m\n\u001b[0;32m----> 1\u001b[0m \u001b[38;5;28mprint\u001b[39m(\u001b[43mnn\u001b[49m\u001b[38;5;241;43m.\u001b[39;49m\u001b[43mtabulate\u001b[49m\u001b[43m(\u001b[49m\u001b[43mmodel\u001b[49m\u001b[43m,\u001b[49m\u001b[43mjax\u001b[49m\u001b[38;5;241;43m.\u001b[39;49m\u001b[43mrandom\u001b[49m\u001b[38;5;241;43m.\u001b[39;49m\u001b[43mkey\u001b[49m\u001b[43m(\u001b[49m\u001b[38;5;241;43m0\u001b[39;49m\u001b[43m)\u001b[49m\u001b[43m,\u001b[49m\u001b[43m \u001b[49m\u001b[43mcompute_flops\u001b[49m\u001b[38;5;241;43m=\u001b[39;49m\u001b[38;5;28;43;01mTrue\u001b[39;49;00m\u001b[43m,\u001b[49m\u001b[43m \u001b[49m\u001b[43mcompute_vjp_flops\u001b[49m\u001b[38;5;241;43m=\u001b[39;49m\u001b[38;5;28;43;01mTrue\u001b[39;49;00m\u001b[43m)\u001b[49m\u001b[43m(\u001b[49m\u001b[43mx\u001b[49m\u001b[43m)\u001b[49m)\n",
      "File \u001b[0;32m~/miniconda3/envs/metal/lib/python3.11/site-packages/flax/linen/summary.py:302\u001b[0m, in \u001b[0;36mtabulate.<locals>._tabulate_fn\u001b[0;34m(*fn_args, **fn_kwargs)\u001b[0m\n\u001b[1;32m    293\u001b[0m \u001b[38;5;28;01mdef\u001b[39;00m \u001b[38;5;21m_tabulate_fn\u001b[39m(\u001b[38;5;241m*\u001b[39mfn_args, \u001b[38;5;241m*\u001b[39m\u001b[38;5;241m*\u001b[39mfn_kwargs):\n\u001b[1;32m    294\u001b[0m   table_fn \u001b[38;5;241m=\u001b[39m _get_module_table(\n\u001b[1;32m    295\u001b[0m       module,\n\u001b[1;32m    296\u001b[0m       depth\u001b[38;5;241m=\u001b[39mdepth,\n\u001b[0;32m   (...)\u001b[0m\n\u001b[1;32m    299\u001b[0m       compute_vjp_flops\u001b[38;5;241m=\u001b[39mcompute_vjp_flops,\n\u001b[1;32m    300\u001b[0m   )\n\u001b[0;32m--> 302\u001b[0m   table \u001b[38;5;241m=\u001b[39m \u001b[43mtable_fn\u001b[49m\u001b[43m(\u001b[49m\u001b[43mrngs\u001b[49m\u001b[43m,\u001b[49m\u001b[43m \u001b[49m\u001b[38;5;241;43m*\u001b[39;49m\u001b[43mfn_args\u001b[49m\u001b[43m,\u001b[49m\u001b[43m \u001b[49m\u001b[38;5;241;43m*\u001b[39;49m\u001b[38;5;241;43m*\u001b[39;49m\u001b[43mfn_kwargs\u001b[49m\u001b[43m,\u001b[49m\u001b[43m \u001b[49m\u001b[38;5;241;43m*\u001b[39;49m\u001b[38;5;241;43m*\u001b[39;49m\u001b[43mkwargs\u001b[49m\u001b[43m)\u001b[49m\n\u001b[1;32m    304\u001b[0m   non_param_cols \u001b[38;5;241m=\u001b[39m [\n\u001b[1;32m    305\u001b[0m       \u001b[38;5;124m'\u001b[39m\u001b[38;5;124mpath\u001b[39m\u001b[38;5;124m'\u001b[39m,\n\u001b[1;32m    306\u001b[0m       \u001b[38;5;124m'\u001b[39m\u001b[38;5;124mmodule\u001b[39m\u001b[38;5;124m'\u001b[39m,\n\u001b[1;32m    307\u001b[0m       \u001b[38;5;124m'\u001b[39m\u001b[38;5;124minputs\u001b[39m\u001b[38;5;124m'\u001b[39m,\n\u001b[1;32m    308\u001b[0m       \u001b[38;5;124m'\u001b[39m\u001b[38;5;124moutputs\u001b[39m\u001b[38;5;124m'\u001b[39m,\n\u001b[1;32m    309\u001b[0m   ]\n\u001b[1;32m    311\u001b[0m   \u001b[38;5;28;01mif\u001b[39;00m compute_flops:\n",
      "File \u001b[0;32m~/miniconda3/envs/metal/lib/python3.11/site-packages/flax/linen/summary.py:475\u001b[0m, in \u001b[0;36m_get_module_table.<locals>._get_table_fn\u001b[0;34m(*args, **kwargs)\u001b[0m\n\u001b[1;32m    463\u001b[0m     counted_vars \u001b[38;5;241m=\u001b[39m module_vars\n\u001b[1;32m    465\u001b[0m   visited_paths\u001b[38;5;241m.\u001b[39madd(c\u001b[38;5;241m.\u001b[39mpath)\n\u001b[1;32m    466\u001b[0m   rows\u001b[38;5;241m.\u001b[39mappend(\n\u001b[1;32m    467\u001b[0m       Row(\n\u001b[1;32m    468\u001b[0m           c\u001b[38;5;241m.\u001b[39mpath,\n\u001b[1;32m    469\u001b[0m           \u001b[38;5;28mtype\u001b[39m(c\u001b[38;5;241m.\u001b[39mmodule),\n\u001b[1;32m    470\u001b[0m           c\u001b[38;5;241m.\u001b[39mmethod,\n\u001b[1;32m    471\u001b[0m           inputs,\n\u001b[1;32m    472\u001b[0m           c\u001b[38;5;241m.\u001b[39moutputs,\n\u001b[1;32m    473\u001b[0m           module_vars,\n\u001b[1;32m    474\u001b[0m           counted_vars,\n\u001b[0;32m--> 475\u001b[0m           \u001b[38;5;241m*\u001b[39m\u001b[43m_get_call_flops\u001b[49m\u001b[43m(\u001b[49m\u001b[43mc\u001b[49m\u001b[43m,\u001b[49m\u001b[43m \u001b[49m\u001b[43mcompute_flops\u001b[49m\u001b[43m,\u001b[49m\u001b[43m \u001b[49m\u001b[43mcompute_vjp_flops\u001b[49m\u001b[43m)\u001b[49m,\n\u001b[1;32m    476\u001b[0m       )\n\u001b[1;32m    477\u001b[0m   )\n\u001b[1;32m    479\u001b[0m \u001b[38;5;28;01mreturn\u001b[39;00m Table(module, \u001b[38;5;28mtuple\u001b[39m(collections), rows)\n",
      "File \u001b[0;32m~/miniconda3/envs/metal/lib/python3.11/site-packages/flax/linen/summary.py:401\u001b[0m, in \u001b[0;36m_get_call_flops\u001b[0;34m(c, compute_flops, compute_vjp_flops)\u001b[0m\n\u001b[1;32m    399\u001b[0m \u001b[38;5;66;03m# Forward pass FLOPs\u001b[39;00m\n\u001b[1;32m    400\u001b[0m \u001b[38;5;28;01mif\u001b[39;00m compute_flops:\n\u001b[0;32m--> 401\u001b[0m   flops \u001b[38;5;241m=\u001b[39m \u001b[43m_get_flops\u001b[49m\u001b[43m(\u001b[49m\u001b[43mapply\u001b[49m\u001b[43m,\u001b[49m\u001b[43m \u001b[49m\u001b[43mvariables\u001b[49m\u001b[43m,\u001b[49m\u001b[43m \u001b[49m\u001b[43mrngs\u001b[49m\u001b[43m,\u001b[49m\u001b[43m \u001b[49m\u001b[43mdynamic_leaves\u001b[49m\u001b[43m)\u001b[49m\n\u001b[1;32m    402\u001b[0m \u001b[38;5;28;01melse\u001b[39;00m:\n\u001b[1;32m    403\u001b[0m   flops \u001b[38;5;241m=\u001b[39m \u001b[38;5;241m-\u001b[39m\u001b[38;5;241m1\u001b[39m\n",
      "File \u001b[0;32m~/miniconda3/envs/metal/lib/python3.11/site-packages/flax/linen/summary.py:326\u001b[0m, in \u001b[0;36m_get_flops\u001b[0;34m(fn, *args, **kwargs)\u001b[0m\n\u001b[1;32m    324\u001b[0m e \u001b[38;5;241m=\u001b[39m jax\u001b[38;5;241m.\u001b[39mjit(fn)\u001b[38;5;241m.\u001b[39mlower(\u001b[38;5;241m*\u001b[39margs, \u001b[38;5;241m*\u001b[39m\u001b[38;5;241m*\u001b[39mkwargs)\n\u001b[1;32m    325\u001b[0m cost \u001b[38;5;241m=\u001b[39m e\u001b[38;5;241m.\u001b[39mcost_analysis()\n\u001b[0;32m--> 326\u001b[0m flops \u001b[38;5;241m=\u001b[39m \u001b[38;5;28mint\u001b[39m(cost[\u001b[38;5;124m'\u001b[39m\u001b[38;5;124mflops\u001b[39m\u001b[38;5;124m'\u001b[39m]) \u001b[38;5;28;01mif\u001b[39;00m \u001b[38;5;124;43m'\u001b[39;49m\u001b[38;5;124;43mflops\u001b[39;49m\u001b[38;5;124;43m'\u001b[39;49m\u001b[43m \u001b[49m\u001b[38;5;129;43;01min\u001b[39;49;00m\u001b[43m \u001b[49m\u001b[43mcost\u001b[49m \u001b[38;5;28;01melse\u001b[39;00m \u001b[38;5;241m0\u001b[39m\n\u001b[1;32m    327\u001b[0m \u001b[38;5;28;01mreturn\u001b[39;00m flops\n",
      "\u001b[0;31mTypeError\u001b[0m: argument of type 'NoneType' is not iterable"
     ]
    }
   ],
   "source": [
    "print(nn.tabulate(model,jax.random.key(0), compute_flops=True, compute_vjp_flops=True)(x))"
   ]
  },
  {
   "cell_type": "code",
   "execution_count": 119,
   "metadata": {},
   "outputs": [
    {
     "data": {
      "text/plain": [
       "KAN(\n",
       "    # attributes\n",
       "    features = [1, 3, 4, 1]\n",
       "    grid_range = (-1, 1)\n",
       "    k = 3\n",
       "    G = 5\n",
       ")"
      ]
     },
     "execution_count": 119,
     "metadata": {},
     "output_type": "execute_result"
    }
   ],
   "source": [
    "model"
   ]
  },
  {
   "cell_type": "code",
   "execution_count": 118,
   "metadata": {},
   "outputs": [
    {
     "data": {
      "text/plain": [
       "Array([[1., 1.],\n",
       "       [1., 1.]], dtype=float32)"
      ]
     },
     "execution_count": 118,
     "metadata": {},
     "output_type": "execute_result"
    }
   ],
   "source": [
    "model.apply(params,x)"
   ]
  },
  {
   "cell_type": "code",
   "execution_count": 20,
   "metadata": {},
   "outputs": [],
   "source": [
    "k=nn.Dense(1)"
   ]
  },
  {
   "cell_type": "code",
   "execution_count": 28,
   "metadata": {},
   "outputs": [],
   "source": [
    "key1, key2 = random.split(random.key(0))\n",
    "x = random.normal(key1, (10,)) # Dummy input data\n",
    "params = k.init(key2, x) # Initialization call"
   ]
  },
  {
   "cell_type": "code",
   "execution_count": 29,
   "metadata": {},
   "outputs": [
    {
     "data": {
      "text/plain": [
       "{'params': {'kernel': Array([[ 0.22283456],\n",
       "         [ 0.16464712],\n",
       "         [-0.27733588],\n",
       "         [ 0.59573436],\n",
       "         [-0.6149146 ],\n",
       "         [ 0.2603136 ],\n",
       "         [-0.06638081],\n",
       "         [-0.03938102],\n",
       "         [ 0.05205687],\n",
       "         [-0.49124944]], dtype=float32),\n",
       "  'bias': Array([0.], dtype=float32)}}"
      ]
     },
     "execution_count": 29,
     "metadata": {},
     "output_type": "execute_result"
    }
   ],
   "source": [
    "params"
   ]
  },
  {
   "cell_type": "code",
   "execution_count": 33,
   "metadata": {},
   "outputs": [
    {
     "data": {
      "text/plain": [
       "Array([-1.9557722], dtype=float32)"
      ]
     },
     "execution_count": 33,
     "metadata": {},
     "output_type": "execute_result"
    }
   ],
   "source": [
    "k.apply(params,x)"
   ]
  },
  {
   "cell_type": "code",
   "execution_count": 10,
   "metadata": {},
   "outputs": [
    {
     "data": {
      "text/plain": [
       "{'state': {'grid': Array([[-2.5, -2. , -1.5, -1. , -0.5,  0. ,  0.5,  1. ,  1.5,  2. ,  2.5,\n",
       "           3. ],\n",
       "         [-2.5, -2. , -1.5, -1. , -0.5,  0. ,  0.5,  1. ,  1.5,  2. ,  2.5,\n",
       "           3. ],\n",
       "         [-2.5, -2. , -1.5, -1. , -0.5,  0. ,  0.5,  1. ,  1.5,  2. ,  2.5,\n",
       "           3. ],\n",
       "         [-2.5, -2. , -1.5, -1. , -0.5,  0. ,  0.5,  1. ,  1.5,  2. ,  2.5,\n",
       "           3. ],\n",
       "         [-2.5, -2. , -1.5, -1. , -0.5,  0. ,  0.5,  1. ,  1.5,  2. ,  2.5,\n",
       "           3. ],\n",
       "         [-2.5, -2. , -1.5, -1. , -0.5,  0. ,  0.5,  1. ,  1.5,  2. ,  2.5,\n",
       "           3. ]], dtype=float32)},\n",
       " 'params': {'c_basis': Array([[-0.05878499, -0.04044762,  0.0966601 , -0.02147591, -0.15008697,\n",
       "           0.0857757 , -0.08825453,  0.10045116],\n",
       "         [ 0.03432265,  0.03363749, -0.08135502,  0.101026  ,  0.11995335,\n",
       "          -0.04523621,  0.03326587, -0.05388734],\n",
       "         [ 0.04840796, -0.18142097, -0.01694687,  0.22371416, -0.02857675,\n",
       "          -0.0291353 , -0.01134633,  0.17334732],\n",
       "         [ 0.28178525,  0.01005562,  0.05176816, -0.11373845, -0.02854323,\n",
       "          -0.10998972, -0.17879994,  0.02396875],\n",
       "         [ 0.10819942,  0.17803054, -0.09327563, -0.04450589, -0.02657964,\n",
       "          -0.05173166,  0.05715972, -0.06786953],\n",
       "         [-0.0756915 , -0.20348628,  0.0611831 ,  0.02816166, -0.10243791,\n",
       "          -0.01721132,  0.0206612 ,  0.13305552]], dtype=float32),\n",
       "  'c_spl': Array([1., 1., 1., 1., 1., 1.], dtype=float32),\n",
       "  'c_res': Array([1., 1., 1., 1., 1., 1.], dtype=float32)}}"
      ]
     },
     "execution_count": 10,
     "metadata": {},
     "output_type": "execute_result"
    }
   ],
   "source": [
    "variables"
   ]
  },
  {
   "cell_type": "code",
   "execution_count": 6,
   "metadata": {},
   "outputs": [
    {
     "name": "stdout",
     "output_type": "stream",
     "text": [
      "[1. 1. 1. 1.]\n"
     ]
    }
   ],
   "source": [
    "# Simple forward pass\n",
    "x, _ = kan_layer.apply(variables, jnp.ones((2,4)))\n",
    "\n",
    "print(x)"
   ]
  },
  {
   "cell_type": "code",
   "execution_count": 9,
   "metadata": {},
   "outputs": [
    {
     "data": {
      "text/plain": [
       "Array([1., 1., 1., 1.], dtype=float32)"
      ]
     },
     "execution_count": 9,
     "metadata": {},
     "output_type": "execute_result"
    }
   ],
   "source": [
    "kan_layer.apply(variables, jnp.ones((2,4)))\n"
   ]
  }
 ],
 "metadata": {
  "kernelspec": {
   "display_name": "metal",
   "language": "python",
   "name": "python3"
  },
  "language_info": {
   "codemirror_mode": {
    "name": "ipython",
    "version": 3
   },
   "file_extension": ".py",
   "mimetype": "text/x-python",
   "name": "python",
   "nbconvert_exporter": "python",
   "pygments_lexer": "ipython3",
   "version": "3.11.5"
  }
 },
 "nbformat": 4,
 "nbformat_minor": 2
}
