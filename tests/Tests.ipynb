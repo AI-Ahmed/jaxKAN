{
 "cells": [
  {
   "cell_type": "markdown",
   "id": "201a8cd9-421b-45a3-9ece-585bac140c43",
   "metadata": {},
   "source": [
    "# Tests Notebook\n",
    "\n",
    "This notebook is reserved for tests during development."
   ]
  },
  {
   "cell_type": "code",
   "execution_count": 1,
   "id": "4264f945-cb6c-440b-8b01-a627c2027a92",
   "metadata": {},
   "outputs": [
    {
     "name": "stdout",
     "output_type": "stream",
     "text": [
      "[0.        0.7310586 1.761594  2.8577223 3.928055 ]\n"
     ]
    }
   ],
   "source": [
    "# Successful installation of JAX test\n",
    "from jax.nn import silu\n",
    "import jax.numpy as jnp\n",
    "\n",
    "x = jnp.arange(5.0)\n",
    "print(silu(x))"
   ]
  },
  {
   "cell_type": "code",
   "execution_count": null,
   "id": "2a739459-acaf-4c53-909f-bc11aecb976f",
   "metadata": {},
   "outputs": [],
   "source": []
  }
 ],
 "metadata": {
  "kernelspec": {
   "display_name": "Python 3 (ipykernel)",
   "language": "python",
   "name": "python3"
  },
  "language_info": {
   "codemirror_mode": {
    "name": "ipython",
    "version": 3
   },
   "file_extension": ".py",
   "mimetype": "text/x-python",
   "name": "python",
   "nbconvert_exporter": "python",
   "pygments_lexer": "ipython3",
   "version": "3.11.4"
  }
 },
 "nbformat": 4,
 "nbformat_minor": 5
}
