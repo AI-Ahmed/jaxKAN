{
 "cells": [
  {
   "cell_type": "markdown",
   "id": "201a8cd9-421b-45a3-9ece-585bac140c43",
   "metadata": {},
   "source": [
    "# Tests Notebook\n",
    "\n",
    "This notebook is reserved for tests during development."
   ]
  },
  {
   "cell_type": "code",
   "execution_count": 2,
   "id": "4264f945-cb6c-440b-8b01-a627c2027a92",
   "metadata": {},
   "outputs": [
    {
     "name": "stdout",
     "output_type": "stream",
     "text": [
      "[0.        0.7310586 1.761594  2.8577223 3.928055 ]\n"
     ]
    }
   ],
   "source": [
    "# Successful installation of JAX test\n",
    "from jax.nn import silu\n",
    "import jax.numpy as jnp\n",
    "\n",
    "x = jnp.arange(5.0)\n",
    "print(silu(x))"
   ]
  },
  {
   "cell_type": "code",
   "execution_count": null,
   "id": "2a739459-acaf-4c53-909f-bc11aecb976f",
   "metadata": {},
   "outputs": [],
   "source": []
  },
  {
   "cell_type": "markdown",
   "id": "eae283b3-dd0a-4ee7-a09f-ca3a5a73f924",
   "metadata": {},
   "source": [
    "## Testing Splines\n",
    "\n",
    "Let's test the generation of spline basis functions."
   ]
  },
  {
   "cell_type": "code",
   "execution_count": 1,
   "id": "f48357b4-7000-487f-b358-fdc5ddd6ad94",
   "metadata": {},
   "outputs": [],
   "source": [
    "import sys\n",
    "import os\n",
    "\n",
    "path_to_src = os.path.abspath(os.path.join(os.getcwd(), '../src'))\n",
    "if path_to_src not in sys.path:\n",
    "    sys.path.append(path_to_src)\n",
    "\n",
    "from bases.splines import get_spline_basis"
   ]
  },
  {
   "cell_type": "code",
   "execution_count": null,
   "id": "655cb6b7-e665-454a-bc69-d9b174f255ac",
   "metadata": {},
   "outputs": [],
   "source": []
  },
  {
   "cell_type": "code",
   "execution_count": null,
   "id": "9dae57a2-dc61-49dc-b04a-05c7f7fc5b9d",
   "metadata": {},
   "outputs": [],
   "source": []
  },
  {
   "cell_type": "code",
   "execution_count": 1,
   "id": "f0a6de11-b138-4fe7-9638-5f238e6c5ff0",
   "metadata": {},
   "outputs": [],
   "source": [
    "import sys\n",
    "import os\n",
    "\n",
    "path_to_src = os.path.abspath(os.path.join(os.getcwd(), '../src'))\n",
    "if path_to_src not in sys.path:\n",
    "    sys.path.append(path_to_src)\n",
    "\n",
    "from KANLayer import KANLayer as kan\n",
    "from KAN import KAN\n",
    "import jax\n",
    "from jax import numpy as jnp"
   ]
  },
  {
   "cell_type": "code",
   "execution_count": 2,
   "id": "d7a5612e-b8dc-4402-84f2-802c195cf204",
   "metadata": {},
   "outputs": [],
   "source": [
    "def print_dict_hierarchy(d, indent=0):\n",
    "    for key, value in d.items():\n",
    "        if isinstance(value, dict):\n",
    "            print(' ' * indent + str(key))\n",
    "            print_dict_hierarchy(value, indent + 4)\n",
    "        else:\n",
    "            print(' ' * indent + f\"{key}: shape {value.shape}\")"
   ]
  },
  {
   "cell_type": "code",
   "execution_count": 3,
   "id": "0ed42fc7-446f-482b-b3d8-84ac94140455",
   "metadata": {},
   "outputs": [],
   "source": [
    "key = jax.random.PRNGKey(0)\n",
    "layer_dims = [4, 5, 2, 1]\n",
    "model = KAN(layer_dims=layer_dims, k=3, add_bias=True)\n",
    "\n",
    "x = jax.random.normal(key, (50, 4))\n",
    "\n",
    "variables = model.init(key, x)"
   ]
  },
  {
   "cell_type": "code",
   "execution_count": null,
   "id": "fc29160e-d114-41c6-8f60-fab011d6c313",
   "metadata": {},
   "outputs": [],
   "source": [
    "# Print the trainable parameters and non-trainable state\n",
    "print(\"Trainable parameters:\")\n",
    "print(variables['params'])\n",
    "\n",
    "print(\"\\nNon-trainable state variables:\")\n",
    "print(variables['state'])"
   ]
  },
  {
   "cell_type": "code",
   "execution_count": 4,
   "id": "09238923-c8cf-44d0-9d4e-b7b9594da790",
   "metadata": {},
   "outputs": [
    {
     "name": "stdout",
     "output_type": "stream",
     "text": [
      "params\n",
      "    bias_0: shape (5,)\n",
      "    bias_1: shape (2,)\n",
      "    bias_2: shape (1,)\n",
      "    layers_0\n",
      "        c_basis: shape (20, 6)\n",
      "        c_spl: shape (20,)\n",
      "        c_res: shape (20,)\n",
      "    layers_1\n",
      "        c_basis: shape (10, 6)\n",
      "        c_spl: shape (10,)\n",
      "        c_res: shape (10,)\n",
      "    layers_2\n",
      "        c_basis: shape (2, 6)\n",
      "        c_spl: shape (2,)\n",
      "        c_res: shape (2,)\n",
      "state\n",
      "    layers_0\n",
      "        grid: shape (20, 10)\n",
      "    layers_1\n",
      "        grid: shape (10, 10)\n",
      "    layers_2\n",
      "        grid: shape (2, 10)\n"
     ]
    }
   ],
   "source": [
    "print_dict_hierarchy(variables)"
   ]
  },
  {
   "cell_type": "code",
   "execution_count": 5,
   "id": "42b062c5-7013-4269-83ef-ee2674a54a1b",
   "metadata": {},
   "outputs": [
    {
     "data": {
      "text/plain": [
       "Array([[-0.21964498, -0.03216682, -0.02803302, -0.04404335,  0.10697184,\n",
       "         0.00917037],\n",
       "       [-0.07214645, -0.03873394, -0.09372874,  0.03438126,  0.07394429,\n",
       "        -0.19368024],\n",
       "       [ 0.144917  ,  0.07064237, -0.09206957,  0.09779473, -0.07791757,\n",
       "        -0.11313559],\n",
       "       [-0.08380805, -0.00183191,  0.01103233, -0.13060333, -0.03279752,\n",
       "         0.00528648],\n",
       "       [-0.03939278, -0.13313794, -0.02944968, -0.02043018,  0.04978757,\n",
       "         0.06520142],\n",
       "       [ 0.05189328, -0.07971673, -0.10149919,  0.08816522,  0.02823404,\n",
       "         0.14567198],\n",
       "       [-0.04320967,  0.00129707,  0.06899355,  0.01118089,  0.18311459,\n",
       "        -0.07600819],\n",
       "       [-0.07420332,  0.09264632,  0.02440042,  0.03857328,  0.01935199,\n",
       "        -0.12175804],\n",
       "       [ 0.01394208,  0.12633352,  0.11282189,  0.07304362, -0.09317457,\n",
       "        -0.00676571],\n",
       "       [-0.11424935,  0.07237625,  0.03601482,  0.12565634,  0.04958436,\n",
       "         0.19709854]], dtype=float32)"
      ]
     },
     "execution_count": 5,
     "metadata": {},
     "output_type": "execute_result"
    }
   ],
   "source": [
    "variables['params']['layers_1']['c_basis']"
   ]
  },
  {
   "cell_type": "code",
   "execution_count": 8,
   "id": "e7397c40-2551-4b6c-be39-333c758aa703",
   "metadata": {},
   "outputs": [],
   "source": []
  },
  {
   "cell_type": "code",
   "execution_count": 6,
   "id": "bafde131-58de-4fe9-bd7b-82a5cdd9d382",
   "metadata": {
    "scrolled": true
   },
   "outputs": [],
   "source": [
    "# Perform grid updates\n",
    "new_grid_size = 5\n",
    "updated_variables = model.apply(variables, x, new_grid_size, method=model.update_grids)"
   ]
  },
  {
   "cell_type": "code",
   "execution_count": 7,
   "id": "55961e63-fe47-434d-a22e-b0238991ff6c",
   "metadata": {},
   "outputs": [
    {
     "name": "stdout",
     "output_type": "stream",
     "text": [
      "params\n",
      "    bias_0: shape (5,)\n",
      "    bias_1: shape (2,)\n",
      "    bias_2: shape (1,)\n",
      "    layers_0\n",
      "        c_basis: shape (20, 8)\n",
      "        c_spl: shape (20,)\n",
      "        c_res: shape (20,)\n",
      "    layers_1\n",
      "        c_basis: shape (10, 8)\n",
      "        c_spl: shape (10,)\n",
      "        c_res: shape (10,)\n",
      "    layers_2\n",
      "        c_basis: shape (2, 8)\n",
      "        c_spl: shape (2,)\n",
      "        c_res: shape (2,)\n",
      "state\n",
      "    layers_0\n",
      "        grid: shape (20, 12)\n",
      "    layers_1\n",
      "        grid: shape (10, 12)\n",
      "    layers_2\n",
      "        grid: shape (2, 12)\n"
     ]
    }
   ],
   "source": [
    "print_dict_hierarchy(updated_variables)"
   ]
  },
  {
   "cell_type": "code",
   "execution_count": 8,
   "id": "a8b48da9-fa31-4b3e-9fe2-b2712807b531",
   "metadata": {},
   "outputs": [
    {
     "data": {
      "text/plain": [
       "Array([[-0.02999173, -0.03370977, -0.03347092, -0.02784294, -0.01343204,\n",
       "         0.02792049,  0.07179645,  0.06490941],\n",
       "       [-0.07054527, -0.0504249 , -0.02268857,  0.0041829 ,  0.02827478,\n",
       "         0.05501393,  0.04043134, -0.07338444],\n",
       "       [-0.04324958, -0.02404464,  0.00513026,  0.03018621,  0.04226551,\n",
       "         0.01231476, -0.05553922, -0.08770344],\n",
       "       [-0.00731817, -0.03688883, -0.06182383, -0.08282282, -0.09563003,\n",
       "        -0.08224212, -0.03881234, -0.017495  ],\n",
       "       [-0.04516727, -0.03153471, -0.02297354, -0.01604484, -0.00534422,\n",
       "         0.01625229,  0.04225967,  0.05475741],\n",
       "       [-0.07709993, -0.03993033, -0.00081709,  0.03031873,  0.05473555,\n",
       "         0.05968446,  0.0495641 ,  0.07461052],\n",
       "       [ 0.05258897,  0.04627253,  0.04096211,  0.04042412,  0.05307961,\n",
       "         0.09784878,  0.1403644 ,  0.03437333],\n",
       "       [ 0.03864328,  0.03307077,  0.03224307,  0.03306453,  0.0332961 ,\n",
       "         0.02891284,  0.00801342, -0.04001885],\n",
       "       [ 0.10859791,  0.10073279,  0.08819524,  0.07285822,  0.04660345,\n",
       "        -0.01140373, -0.06542934, -0.04511216],\n",
       "       [ 0.05236961,  0.0684239 ,  0.08531803,  0.09676848,  0.09964931,\n",
       "         0.08751094,  0.07598681,  0.1184814 ]], dtype=float32)"
      ]
     },
     "execution_count": 8,
     "metadata": {},
     "output_type": "execute_result"
    }
   ],
   "source": [
    "updated_variables['params']['layers_1']['c_basis']"
   ]
  },
  {
   "cell_type": "code",
   "execution_count": 9,
   "id": "35e8e7c8-f886-40f9-92e6-feb847ccda01",
   "metadata": {},
   "outputs": [
    {
     "data": {
      "text/plain": [
       "Array([[-0.21964498, -0.03216682, -0.02803302, -0.04404335,  0.10697184,\n",
       "         0.00917037],\n",
       "       [-0.07214645, -0.03873394, -0.09372874,  0.03438126,  0.07394429,\n",
       "        -0.19368024],\n",
       "       [ 0.144917  ,  0.07064237, -0.09206957,  0.09779473, -0.07791757,\n",
       "        -0.11313559],\n",
       "       [-0.08380805, -0.00183191,  0.01103233, -0.13060333, -0.03279752,\n",
       "         0.00528648],\n",
       "       [-0.03939278, -0.13313794, -0.02944968, -0.02043018,  0.04978757,\n",
       "         0.06520142],\n",
       "       [ 0.05189328, -0.07971673, -0.10149919,  0.08816522,  0.02823404,\n",
       "         0.14567198],\n",
       "       [-0.04320967,  0.00129707,  0.06899355,  0.01118089,  0.18311459,\n",
       "        -0.07600819],\n",
       "       [-0.07420332,  0.09264632,  0.02440042,  0.03857328,  0.01935199,\n",
       "        -0.12175804],\n",
       "       [ 0.01394208,  0.12633352,  0.11282189,  0.07304362, -0.09317457,\n",
       "        -0.00676571],\n",
       "       [-0.11424935,  0.07237625,  0.03601482,  0.12565634,  0.04958436,\n",
       "         0.19709854]], dtype=float32)"
      ]
     },
     "execution_count": 9,
     "metadata": {},
     "output_type": "execute_result"
    }
   ],
   "source": [
    "variables['params']['layers_1']['c_basis']"
   ]
  },
  {
   "cell_type": "code",
   "execution_count": 10,
   "id": "9459b9e8-07d9-4a99-86b6-eeb2651377c0",
   "metadata": {},
   "outputs": [],
   "source": [
    "y, spl_regs = model.apply(variables, x)"
   ]
  },
  {
   "cell_type": "code",
   "execution_count": 21,
   "id": "d3f01abb-3331-4a74-ab5b-c17acf031a66",
   "metadata": {},
   "outputs": [
    {
     "data": {
      "text/plain": [
       "[Array([[0.00683656, 0.00996755, 0.01660573, 0.00698722],\n",
       "        [0.01234719, 0.00844338, 0.01165444, 0.00359057],\n",
       "        [0.00864134, 0.00688513, 0.00845095, 0.01252255],\n",
       "        [0.00697956, 0.00756933, 0.00858223, 0.010777  ],\n",
       "        [0.01196445, 0.00689442, 0.00360187, 0.01110468]], dtype=float32),\n",
       " Array([[0.00437403, 0.00439544, 0.00362973, 0.01215728, 0.00293692],\n",
       "        [0.00585498, 0.00946443, 0.00511737, 0.00995341, 0.01484072]],      dtype=float32),\n",
       " Array([[0.00335365, 0.01805771]], dtype=float32)]"
      ]
     },
     "execution_count": 21,
     "metadata": {},
     "output_type": "execute_result"
    }
   ],
   "source": [
    "spl_regs"
   ]
  },
  {
   "cell_type": "code",
   "execution_count": null,
   "id": "47908625-4b6e-459a-9bf7-7c14295e9f56",
   "metadata": {},
   "outputs": [],
   "source": []
  },
  {
   "cell_type": "code",
   "execution_count": null,
   "id": "c735c373-122c-4d3d-a18c-4e69e9e6ae92",
   "metadata": {},
   "outputs": [],
   "source": []
  },
  {
   "cell_type": "code",
   "execution_count": 8,
   "id": "507677dc-de20-4260-a715-b9ea4537f17a",
   "metadata": {},
   "outputs": [],
   "source": [
    "out = kan_layer.apply(variables, x, 3, method=kan_layer.update_grid, mutable=['state'])"
   ]
  },
  {
   "cell_type": "code",
   "execution_count": 8,
   "id": "a4eb435a-6fdd-48dc-8dc2-7492638e6ea2",
   "metadata": {},
   "outputs": [],
   "source": [
    "k = 3\n",
    "n_in = 2\n",
    "n_out = 3\n",
    "\n",
    "init_G = 3\n",
    "init_knot = (-1, 1)\n",
    "\n",
    "# Calculate the step size for the knot vector based on its end values\n",
    "h = (init_knot[1] - init_knot[0]) / init_G\n",
    "\n",
    "# Create the initial knot vector and perform augmentation\n",
    "# Now it is expanded from G+1 points to G+1 + 2k points, because k points are appended at each of its ends\n",
    "grid = jnp.arange(-k, init_G + k + 1, dtype=jnp.float32) * h + init_knot[0]\n",
    "\n",
    "# Expand for broadcasting - the shape becomes (n_in*n_out, G + 2k + 1), so that the grid\n",
    "# can be passed in all n_in*n_out spline basis functions simultaneously\n",
    "grid = jnp.expand_dims(grid, axis=0)\n",
    "grid = jnp.tile(grid, (n_in*n_out, 1))"
   ]
  },
  {
   "cell_type": "code",
   "execution_count": 11,
   "id": "610d5938-0923-4c91-bed0-d8940b2053de",
   "metadata": {},
   "outputs": [
    {
     "data": {
      "text/plain": [
       "3"
      ]
     },
     "execution_count": 11,
     "metadata": {},
     "output_type": "execute_result"
    }
   ],
   "source": [
    "grid.shape[1]-1-2*k"
   ]
  },
  {
   "cell_type": "code",
   "execution_count": null,
   "id": "afe4704a-8bc1-45a3-b75e-e0c43dc5cdbe",
   "metadata": {},
   "outputs": [],
   "source": []
  },
  {
   "cell_type": "code",
   "execution_count": 90,
   "id": "47e0052f-48db-4a2b-8c82-0b41bf401c81",
   "metadata": {},
   "outputs": [],
   "source": [
    "from flax import linen as nn\n",
    "\n",
    "n_in = 2\n",
    "n_out = 5\n",
    "G = 3\n",
    "k = 3\n",
    "residual = nn.swish\n",
    "\n",
    "rng = jax.random.PRNGKey(0)\n",
    "\n",
    "x = jax.random.normal(rng, (50,n_in))\n",
    "c_spl = jnp.ones(n_in*n_out) * 1.0\n",
    "c_res = jnp.ones(n_in*n_out) * 1.0\n",
    "c_basis = jax.random.normal(rng, (n_in * n_out, G + k))\n",
    "\n",
    "#basis(x) -> (n_in*n_out, G+k, batch_size)"
   ]
  },
  {
   "cell_type": "code",
   "execution_count": 85,
   "id": "c1eec675-f36d-4fc8-b0c7-606454c6edad",
   "metadata": {},
   "outputs": [
    {
     "data": {
      "text/plain": [
       "(1, 10)"
      ]
     },
     "execution_count": 85,
     "metadata": {},
     "output_type": "execute_result"
    }
   ],
   "source": [
    "jnp.expand_dims(c_spl, axis=0).shape"
   ]
  },
  {
   "cell_type": "code",
   "execution_count": null,
   "id": "350dc191-f489-470b-ab56-937b55a0dca9",
   "metadata": {},
   "outputs": [],
   "source": []
  },
  {
   "cell_type": "code",
   "execution_count": null,
   "id": "04a005d7-8155-4aa7-9faa-739953a7fadd",
   "metadata": {},
   "outputs": [],
   "source": []
  },
  {
   "cell_type": "code",
   "execution_count": null,
   "id": "8a96eced-d511-4c4e-b850-0a25d1c8b606",
   "metadata": {},
   "outputs": [],
   "source": []
  },
  {
   "cell_type": "code",
   "execution_count": null,
   "id": "373e4251-313a-4234-95e8-284b0b5723b5",
   "metadata": {},
   "outputs": [],
   "source": []
  },
  {
   "cell_type": "code",
   "execution_count": null,
   "id": "06e0fe88-fb98-42a5-87bc-4b8bb6a20acc",
   "metadata": {},
   "outputs": [],
   "source": []
  },
  {
   "cell_type": "code",
   "execution_count": null,
   "id": "56c94a24-d796-49b0-8d80-157e195dcc48",
   "metadata": {},
   "outputs": [],
   "source": []
  },
  {
   "cell_type": "code",
   "execution_count": null,
   "id": "af9cc983-3fd7-4653-b44a-213b2421b130",
   "metadata": {},
   "outputs": [],
   "source": []
  },
  {
   "cell_type": "code",
   "execution_count": null,
   "id": "8a70d336-e1a5-437b-b4a0-f62fa8ab6935",
   "metadata": {},
   "outputs": [],
   "source": []
  },
  {
   "cell_type": "code",
   "execution_count": null,
   "id": "5beaea5b-e470-4aff-8341-4a3cb56a7c72",
   "metadata": {},
   "outputs": [],
   "source": []
  },
  {
   "cell_type": "code",
   "execution_count": null,
   "id": "f44deaac-b461-4a67-b3de-bca1d77ab2cc",
   "metadata": {},
   "outputs": [],
   "source": []
  },
  {
   "cell_type": "code",
   "execution_count": null,
   "id": "df8a3067-8dab-4091-a13f-9725832c6e5a",
   "metadata": {},
   "outputs": [],
   "source": []
  },
  {
   "cell_type": "code",
   "execution_count": 18,
   "id": "af6f8ac6-c47f-4d12-aaf4-201071231f10",
   "metadata": {},
   "outputs": [],
   "source": [
    "from jax import numpy as jnp\n",
    "\n",
    "from flax import linen as nn\n",
    "\n",
    "from KANLayer import KANLayer\n",
    "\n",
    "\n",
    "layer_dims = [3, 5, 1]\n",
    "\n",
    "k = 3\n",
    "const_spl = False\n",
    "const_res = False\n",
    "residual = nn.swish\n",
    "noise_std = 0.1\n",
    "grid_e = 0.15\n",
    "\n",
    "\n",
    "layers = [KANLayer(n_in=layer_dims[i],\n",
    "                            n_out=layer_dims[i + 1],\n",
    "                            k=k,\n",
    "                            const_spl=const_spl,\n",
    "                            const_res=const_res,\n",
    "                            residual=residual,\n",
    "                            noise_std=noise_std,\n",
    "                            grid_e=grid_e) for i in range(len(layer_dims) - 1)]\n",
    "\n"
   ]
  },
  {
   "cell_type": "code",
   "execution_count": 19,
   "id": "f0c317eb-1970-4805-807d-01adb7d7b9b6",
   "metadata": {},
   "outputs": [
    {
     "data": {
      "text/plain": [
       "[KANLayer(\n",
       "     # attributes\n",
       "     n_in = 3\n",
       "     n_out = 5\n",
       "     k = 3\n",
       "     const_spl = False\n",
       "     const_res = False\n",
       "     residual = silu\n",
       "     noise_std = 0.1\n",
       "     grid_e = 0.15\n",
       " ),\n",
       " KANLayer(\n",
       "     # attributes\n",
       "     n_in = 5\n",
       "     n_out = 1\n",
       "     k = 3\n",
       "     const_spl = False\n",
       "     const_res = False\n",
       "     residual = silu\n",
       "     noise_std = 0.1\n",
       "     grid_e = 0.15\n",
       " )]"
      ]
     },
     "execution_count": 19,
     "metadata": {},
     "output_type": "execute_result"
    }
   ],
   "source": [
    "updated_params = self.scope.variables()['params']\n",
    "updated_state = self.scope.variables()['state']\n",
    "\n",
    "for i, layer in enumerate(self.layers):\n",
    "    # Extract the variables for the current layer\n",
    "    layer_variables = {\n",
    "        'params': updated_params[f'layers_{i}'],\n",
    "        'state': updated_state[f'layers_{i}']\n",
    "    }\n",
    "    \n",
    "    # Call the update_grid method on the current layer\n",
    "    coeffs, updated_layer_state = layer.apply(layer_variables, x, new_grid_size, method=layer.update_grid, mutable=['state'])\n",
    "    \n",
    "    # Update the state and parameters for the current layer\n",
    "    updated_state[f'layers_{i}'] = updated_layer_state['state']\n",
    "    updated_params[f'layers_{i}']['c_basis'] = coeffs\n",
    "\n",
    "return {'params': updated_params, 'state': updated_state}"
   ]
  },
  {
   "cell_type": "code",
   "execution_count": null,
   "id": "7dc66b72-2e60-4cb0-9103-23dd803f62f9",
   "metadata": {},
   "outputs": [],
   "source": []
  },
  {
   "cell_type": "code",
   "execution_count": null,
   "id": "fb9dbbd2-b561-4140-8c84-1624a92277d2",
   "metadata": {},
   "outputs": [],
   "source": []
  },
  {
   "cell_type": "code",
   "execution_count": null,
   "id": "9baa4c0c-98aa-4ce5-91f3-f78127efe20c",
   "metadata": {},
   "outputs": [],
   "source": [
    "def update_grids(self, x, G_new):\n",
    "    \"\"\"\n",
    "    Performs the grid update for each layer of the KAN architecture.\n",
    "\n",
    "    Args:\n",
    "    -----\n",
    "        x (jnp.array): inputs for the first layer\n",
    "            shape (batch, self.layers[0])\n",
    "        G_new (int): Size of the new grid (in terms of intervals)\n",
    "\n",
    "    \"\"\"\n",
    "    # Here we must perform a loop over all layers and perform the update for each layer, while also tweaking the variables dict\n",
    "    # Note that between consecutive layers we must perform a forward pass to get the new value of x\n",
    "\n",
    "\n",
    "def __call__(self, x):\n",
    "    for i, layer in enumerate(self.layers):\n",
    "        x, spl_reshaped = layer(x)\n",
    "        if self.add_bias:\n",
    "            x += self.biases[i]\n",
    "    return x, spl_reshaped"
   ]
  }
 ],
 "metadata": {
  "kernelspec": {
   "display_name": "Python 3 (ipykernel)",
   "language": "python",
   "name": "python3"
  },
  "language_info": {
   "codemirror_mode": {
    "name": "ipython",
    "version": 3
   },
   "file_extension": ".py",
   "mimetype": "text/x-python",
   "name": "python",
   "nbconvert_exporter": "python",
   "pygments_lexer": "ipython3",
   "version": "3.11.4"
  }
 },
 "nbformat": 4,
 "nbformat_minor": 5
}
