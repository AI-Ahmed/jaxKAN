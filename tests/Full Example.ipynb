{
 "cells": [
  {
   "cell_type": "markdown",
   "id": "8bbfd580-3381-4f9c-a5cd-8a6a6a627be8",
   "metadata": {},
   "source": [
    "# Full Example"
   ]
  },
  {
   "cell_type": "markdown",
   "id": "9b25e86d-1419-4c35-b543-a15b926b77ac",
   "metadata": {},
   "source": [
    "This notebook contains a full example of training and evaluating a KAN model for a task. The task at hand is learning a multivariate function, namely\n",
    "\n",
    "$$ f\\left(x_1,x_2\\right) = \\exp\\left(\\sin\\left(\\pi x_1\\right) + x_2\\right) $$\n",
    "\n",
    "To do so, we will first generate some training samples, i.e. create an artificial dataset."
   ]
  },
  {
   "cell_type": "markdown",
   "id": "5671ea0f-096b-4824-a6bd-2f629342abc4",
   "metadata": {},
   "source": [
    "## Dataset Creation"
   ]
  },
  {
   "cell_type": "markdown",
   "id": "bea58be3-4050-44f3-a7e6-3bf2885a9ec3",
   "metadata": {},
   "source": [
    "We randomly sample $N$ points from this function in the $\\left[-2,2\\right] \\times \\left[-2,2\\right]$ range. Some of them are retained for training, while the rest are used for evaluation."
   ]
  },
  {
   "cell_type": "code",
   "execution_count": 1,
   "id": "1c685320-0c63-41d7-9d9c-8af55b2e11a9",
   "metadata": {},
   "outputs": [],
   "source": [
    "import jax\n",
    "import jax.numpy as jnp\n",
    "\n",
    "# Define the true function\n",
    "def true_f(x_1,x_2):\n",
    "    return jnp.exp(jnp.sin(jnp.pi*x_1)+x_2)\n",
    "\n",
    "N = 5000\n",
    "\n",
    "# Randomly selected x_1, x_2 in [-2,2]\n",
    "x_1 = 4*jax.random.uniform(jax.random.PRNGKey(42), (N,)) - 2\n",
    "x_2 = 4*jax.random.uniform(jax.random.PRNGKey(43), (N,)) - 2\n",
    "\n",
    "# Get back ys\n",
    "y = true_f(x_1,x_2)"
   ]
  },
  {
   "cell_type": "markdown",
   "id": "6e9c2cbc-c436-4f03-b302-ec8d07231842",
   "metadata": {},
   "source": [
    "We then use sklearn's built-in methods to split the \"dataset\" for training and testing. Of course this can be handled manually, but we're lazy. To run the following cell, we used `scikit-learn==1.4.2`."
   ]
  },
  {
   "cell_type": "code",
   "execution_count": 2,
   "id": "55689393-574b-4b37-89fd-7e42e0dee773",
   "metadata": {},
   "outputs": [],
   "source": [
    "from sklearn.model_selection import train_test_split\n",
    "\n",
    "# Combine x_1 and x_2 into a single array\n",
    "X = jnp.stack((x_1, x_2), axis=-1)\n",
    "\n",
    "# Split the dataset into training and evaluation sets\n",
    "X_train, X_eval, y_train, y_eval = train_test_split(X, y, test_size=0.2, random_state=42)"
   ]
  },
  {
   "cell_type": "markdown",
   "id": "78a72496-dd36-4e4d-90a6-0561e55ae973",
   "metadata": {},
   "source": [
    "## Data Loader"
   ]
  },
  {
   "cell_type": "markdown",
   "id": "7db1757f-c49b-4661-b52e-46e183f28618",
   "metadata": {},
   "source": [
    "We then define our data loaders to yield batches of data during training and evaluation."
   ]
  },
  {
   "cell_type": "code",
   "execution_count": 3,
   "id": "448423f3-3d69-4b5b-b22d-76bc3ebe1636",
   "metadata": {},
   "outputs": [],
   "source": [
    "def data_loader(X, y, batch_size, seed):\n",
    "    dataset_size = len(X)\n",
    "    indices = jax.random.permutation(jax.random.PRNGKey(seed), dataset_size)\n",
    "    \n",
    "    for start_idx in range(0, dataset_size, batch_size):\n",
    "        batch_indices = indices[start_idx:start_idx + batch_size]\n",
    "        yield X[batch_indices], y[batch_indices]"
   ]
  },
  {
   "cell_type": "code",
   "execution_count": 4,
   "id": "4f5b66ad-2580-4eb2-8541-f1c649895589",
   "metadata": {},
   "outputs": [],
   "source": [
    "batch_size = 500"
   ]
  },
  {
   "cell_type": "markdown",
   "id": "2fc5e877-5e17-4aff-92d2-d0591703384e",
   "metadata": {},
   "source": [
    "## Initialization"
   ]
  },
  {
   "cell_type": "markdown",
   "id": "2ec01d3b-1ff1-4aba-98f2-f0fccc38d18d",
   "metadata": {},
   "source": [
    "With the data at hand, we proceed with the initialization of the necessary items. For the optimization part we will be using `optax`."
   ]
  },
  {
   "cell_type": "code",
   "execution_count": 5,
   "id": "42c0b8f3-9e4d-416c-9619-80529c598eed",
   "metadata": {},
   "outputs": [],
   "source": [
    "import optax\n",
    "from flax import linen as nn\n",
    "\n",
    "import sys\n",
    "import os\n",
    "\n",
    "path_to_src = os.path.abspath(os.path.join(os.getcwd(), '../src'))\n",
    "if path_to_src not in sys.path:\n",
    "    sys.path.append(path_to_src)\n",
    "\n",
    "from KAN import KAN"
   ]
  },
  {
   "cell_type": "code",
   "execution_count": 11,
   "id": "332f9770-af4b-43ca-8e86-014edb6ec3ba",
   "metadata": {},
   "outputs": [],
   "source": [
    "# Initialize model\n",
    "key = jax.random.PRNGKey(0)\n",
    "\n",
    "layer_dims = [2, 5, 1]\n",
    "model = KAN(layer_dims=layer_dims, k=3, add_bias=True)\n",
    "variables = model.init(key, jnp.ones([1, 2]))"
   ]
  },
  {
   "cell_type": "code",
   "execution_count": 12,
   "id": "25fd925d-215b-470c-8950-80a98a4fa602",
   "metadata": {},
   "outputs": [],
   "source": [
    "# Initialize optimizer\n",
    "learning_rate = 0.01\n",
    "optimizer = optax.adam(learning_rate)\n",
    "opt_state = optimizer.init(variables['params'])"
   ]
  },
  {
   "cell_type": "markdown",
   "id": "99061f4e-b294-4b7d-8b9b-f3140c9c0dbd",
   "metadata": {},
   "source": [
    "## Loss Function"
   ]
  },
  {
   "cell_type": "markdown",
   "id": "60d9d4b2-3ac7-4f5f-8ceb-912c198b31cc",
   "metadata": {},
   "source": [
    "This is the point where we need to define our loss function. For the predictions we simply use RMSE Loss, while for the regularization we follow the arXiv preprint's direction and use the layer norms and entropy."
   ]
  },
  {
   "cell_type": "code",
   "execution_count": 8,
   "id": "3b78aa8b-c967-4a42-8ffc-c15c14016075",
   "metadata": {},
   "outputs": [],
   "source": [
    "def loss_fn(variables, x, y):\n",
    "    # Forward pass to acquire predictions and spl_regs\n",
    "    preds, spl_regs = model.apply(variables, x)\n",
    "\n",
    "    # Define the prediction loss\n",
    "    loss_pred = jnp.sqrt(jnp.mean((preds-y)**2))\n",
    "\n",
    "    # Calculate the regularization loss\n",
    "    loss_reg = 0.0\n",
    "    for spl_reg in spl_regs:\n",
    "        # L1 regularization loss\n",
    "        phis = spl_reg.reshape(-1)\n",
    "        L1 = jnp.sum(phis)\n",
    "        # Entropy regularization loss\n",
    "        frac = phis/L1\n",
    "        Entropy = -jnp.sum(frac * jnp.log2(frac + 1e-4))\n",
    "        # Return full regularization loss\n",
    "        mu_1, mu_2 = 1.0, 1.0\n",
    "        loss_reg += (mu_1 * L1) + (mu_2 * Entropy)\n",
    "\n",
    "    # Return total loss\n",
    "    ell = 1.0\n",
    "    total_loss = loss_pred + (ell * loss_reg)\n",
    "    \n",
    "    return total_loss"
   ]
  },
  {
   "cell_type": "code",
   "execution_count": 8,
   "id": "64b1ee56-955e-4011-bb14-74a620afa19f",
   "metadata": {},
   "outputs": [],
   "source": [
    "def loss_fn(variables, x, y):\n",
    "    # Forward pass to acquire predictions and spl_regs\n",
    "    preds, _ = model.apply(variables, x)\n",
    "\n",
    "    # Define the prediction loss\n",
    "    total_loss = jnp.mean((preds-y)**2)\n",
    "    \n",
    "    return total_loss"
   ]
  },
  {
   "cell_type": "markdown",
   "id": "8cfb1c84-9b1b-4d32-a970-463fdf9ae32a",
   "metadata": {},
   "source": [
    "## Training"
   ]
  },
  {
   "cell_type": "markdown",
   "id": "5eb21d43-e146-448c-b4e2-b81dc233b8e5",
   "metadata": {},
   "source": [
    "All the pieces of the puzzle are ready, so we may define a `train_step` and start training."
   ]
  },
  {
   "cell_type": "code",
   "execution_count": 9,
   "id": "e0714b16-24ff-4ff1-8ae7-621a74b86cab",
   "metadata": {},
   "outputs": [],
   "source": [
    "@jax.jit\n",
    "def train_step(variables, opt_state, x, y):\n",
    "    \n",
    "    loss, grads = jax.value_and_grad(loss_fn)(variables, x, y)\n",
    "    \n",
    "    updates, opt_state = optimizer.update(grads['params'], opt_state, variables['params'])\n",
    "    params = optax.apply_updates(variables['params'], updates)\n",
    "    \n",
    "    new_variables = {'params': params, 'state': variables['state']}\n",
    "    \n",
    "    return new_variables, opt_state, loss"
   ]
  },
  {
   "cell_type": "markdown",
   "id": "86c4ac16-c1a0-4d19-af46-c1eb16d1df68",
   "metadata": {},
   "source": [
    "Of course, we must also define a `grid_values` list and perform updates periodically between epochs. The first value is always 3, because this corresponds to the first initialization and occurs at the first epoch."
   ]
  },
  {
   "cell_type": "code",
   "execution_count": 13,
   "id": "9fc32ff5-f4b3-4de5-85ee-32c5c9b0e561",
   "metadata": {},
   "outputs": [
    {
     "name": "stdout",
     "output_type": "stream",
     "text": [
      "Epoch 1: Performing grid update\n",
      "Epoch 1, Loss: 117.2675\n",
      "Epoch 11, Loss: 107.8856\n",
      "Epoch 21: Performing grid update\n",
      "Epoch 21, Loss: 99.0604\n",
      "Epoch 31, Loss: 91.6570\n",
      "Epoch 41: Performing grid update\n",
      "Epoch 41, Loss: 86.6623\n",
      "Epoch 51, Loss: 83.3055\n",
      "Epoch 61, Loss: 81.9056\n",
      "Epoch 71, Loss: 81.4573\n",
      "Epoch 81, Loss: 81.3411\n",
      "Epoch 91: Performing grid update\n",
      "Epoch 91, Loss: 81.3171\n",
      "Epoch 101, Loss: 81.3018\n",
      "Epoch 111, Loss: 81.2990\n",
      "Epoch 121, Loss: 81.2960\n",
      "Epoch 131, Loss: 81.2926\n",
      "Epoch 141: Performing grid update\n",
      "Epoch 141, Loss: 81.2940\n",
      "Epoch 151, Loss: 81.2810\n",
      "Epoch 161, Loss: 81.2738\n",
      "Epoch 171, Loss: 81.2677\n",
      "Epoch 181, Loss: 81.2632\n",
      "Epoch 191, Loss: 81.2591\n",
      "Epoch 201, Loss: 81.2556\n"
     ]
    }
   ],
   "source": [
    "# Training epochs\n",
    "num_epochs = 201\n",
    "# Grid sizes for updates and epochs to occur in. Format = epoch : value\n",
    "grid_upds = {0 : 3, 20: 10, 40: 20, 90: 50, 140: 100}\n",
    "\n",
    "losses = []\n",
    "for epoch in range(num_epochs):\n",
    "    # Check if we're in an update epoch\n",
    "    if epoch in grid_upds.keys():\n",
    "        print(f\"Epoch {epoch+1}: Performing grid update\")\n",
    "        # Get grid size\n",
    "        G_new = grid_upds[epoch]\n",
    "        # Perform the update\n",
    "        updated_variables = model.apply(variables, X_train, G_new, method=model.update_grids)\n",
    "        variables = updated_variables.copy()\n",
    "        # Re-initialize optimizer when using optax - Adam\n",
    "        opt_state = optimizer.init(variables['params'])\n",
    "    \n",
    "    # Batch training\n",
    "    epoch_loss = 0.0\n",
    "    for x_batch, y_batch in data_loader(X_train, y_train, batch_size, 42):\n",
    "        # Calculate the loss\n",
    "        variables, opt_state, loss = train_step(variables, opt_state, x_batch, y_batch)\n",
    "        epoch_loss += loss\n",
    "    \n",
    "    losses.append(epoch_loss)\n",
    "    if epoch % 10 == 0:\n",
    "        print(f\"Epoch {epoch+1}, Loss: {epoch_loss:.4f}\")"
   ]
  },
  {
   "cell_type": "markdown",
   "id": "9c6ead83-0ee1-4d13-aa63-aee5c8fdb630",
   "metadata": {},
   "source": [
    "## Evaluation"
   ]
  },
  {
   "cell_type": "markdown",
   "id": "ff45363e-e983-4a11-aadc-ed38a7507905",
   "metadata": {},
   "source": [
    "With the trained model available (i.e. the `variables` dict) we may proceed with evaluation."
   ]
  },
  {
   "cell_type": "code",
   "execution_count": 14,
   "id": "fecfa9e7-e6cc-4fb8-8600-8aff2497e349",
   "metadata": {},
   "outputs": [],
   "source": [
    "@jax.jit\n",
    "def eval_step(variables, x, y):\n",
    "    predictions, _ = model.apply(variables, x)\n",
    "    mse_loss = jnp.mean((predictions - y) ** 2)\n",
    "    return mse_loss, predictions"
   ]
  },
  {
   "cell_type": "code",
   "execution_count": 15,
   "id": "5c951c88-30ef-4ed3-9fc8-7aa45840dc37",
   "metadata": {},
   "outputs": [
    {
     "name": "stdout",
     "output_type": "stream",
     "text": [
      "Evaluation Loss: 19.8850\n"
     ]
    }
   ],
   "source": [
    "# Evaluation loop\n",
    "eval_loss = 0\n",
    "all_predictions = []\n",
    "\n",
    "for x_batch, y_batch in data_loader(X_eval, y_eval, batch_size, 42):\n",
    "    loss, predictions = eval_step(variables, x_batch, y_batch)\n",
    "    eval_loss += loss\n",
    "    all_predictions.append(predictions)\n",
    "\n",
    "eval_preds = jnp.concatenate(all_predictions)\n",
    "\n",
    "print(f\"Evaluation Loss: {eval_loss:.4f}\")"
   ]
  },
  {
   "cell_type": "markdown",
   "id": "820d2d2e-8a67-46e6-ad49-eb84df4155ee",
   "metadata": {},
   "source": [
    "Let's plot the results and compare them with the ground truth."
   ]
  },
  {
   "cell_type": "code",
   "execution_count": 16,
   "id": "6681ad64-d8a0-4c50-a9b1-f745d18b7521",
   "metadata": {},
   "outputs": [
    {
     "data": {
      "image/png": "[encoded data removed]",
      "text/plain": [
       "<Figure size 1000x600 with 1 Axes>"
      ]
     },
     "metadata": {},
     "output_type": "display_data"
    }
   ],
   "source": [
    "import matplotlib.pyplot as plt\n",
    "\n",
    "# Plot the evaluation results\n",
    "plt.figure(figsize=(10, 6))\n",
    "\n",
    "plt.scatter(y_eval, eval_preds, label='Predictions vs Actual', alpha=0.6)\n",
    "\n",
    "plt.plot([y_eval.min(), y_eval.max()], [y_eval.min(), y_eval.max()], 'r--', lw=2, label='Ideal Fit')\n",
    "\n",
    "plt.xlabel('True Values')\n",
    "plt.ylabel('Predictions')\n",
    "plt.title('Evaluation Results')\n",
    "\n",
    "plt.legend()\n",
    "plt.grid(True)\n",
    "\n",
    "plt.show()"
   ]
  },
  {
   "cell_type": "code",
   "execution_count": null,
   "id": "42e639c2-ca5b-496b-a0df-c8bf4df4e767",
   "metadata": {},
   "outputs": [],
   "source": []
  },
  {
   "cell_type": "code",
   "execution_count": null,
   "id": "860d60aa-2322-474e-b9db-c2026004dab8",
   "metadata": {},
   "outputs": [],
   "source": []
  },
  {
   "cell_type": "code",
   "execution_count": null,
   "id": "ffc94860-0472-41a4-81cc-118c31275617",
   "metadata": {},
   "outputs": [],
   "source": [
    "# $$ f\\left(x_1,x_2,x_3\\right) = \\left(x_1^2 + x_2^2\\right)^3\\cdot\\exp\\left(x_1 \\cdot x_3\\right) $$"
   ]
  }
 ],
 "metadata": {
  "kernelspec": {
   "display_name": "Python 3 (ipykernel)",
   "language": "python",
   "name": "python3"
  },
  "language_info": {
   "codemirror_mode": {
    "name": "ipython",
    "version": 3
   },
   "file_extension": ".py",
   "mimetype": "text/x-python",
   "name": "python",
   "nbconvert_exporter": "python",
   "pygments_lexer": "ipython3",
   "version": "3.11.4"
  }
 },
 "nbformat": 4,
 "nbformat_minor": 5
}
