{
 "cells": [
  {
   "cell_type": "markdown",
   "id": "201a8cd9-421b-45a3-9ece-585bac140c43",
   "metadata": {},
   "source": [
    "# Tests Notebook\n",
    "\n",
    "This notebook is reserved for tests during development."
   ]
  },
  {
   "cell_type": "code",
   "execution_count": 1,
   "id": "4264f945-cb6c-440b-8b01-a627c2027a92",
   "metadata": {},
   "outputs": [
    {
     "name": "stdout",
     "output_type": "stream",
     "text": [
      "[0.        0.7310586 1.761594  2.8577223 3.928055 ]\n"
     ]
    }
   ],
   "source": [
    "# Successful installation of JAX test\n",
    "from jax.nn import silu\n",
    "import jax.numpy as jnp\n",
    "\n",
    "x = jnp.arange(5.0)\n",
    "print(silu(x))"
   ]
  },
  {
   "cell_type": "code",
   "execution_count": null,
   "id": "2a739459-acaf-4c53-909f-bc11aecb976f",
   "metadata": {},
   "outputs": [],
   "source": []
  },
  {
   "cell_type": "markdown",
   "id": "1f3962bf-6c3a-42a8-93df-fbaf9e8e51c5",
   "metadata": {},
   "source": [
    "## pykan & efficientkan tests\n",
    "\n",
    "Debugging and testing the codebases to get a better understanding of used modules. We also installed PyTorch for this purpose, however it will not be necessary for the final version."
   ]
  },
  {
   "cell_type": "code",
   "execution_count": 2,
   "id": "9ee65f54-1316-4dbf-9953-e6e854282b64",
   "metadata": {},
   "outputs": [],
   "source": [
    "import torch\n",
    "\n",
    "import torch.nn as nn\n",
    "import numpy as np"
   ]
  },
  {
   "cell_type": "markdown",
   "id": "70c7b81c-78df-4883-bd4c-1e111ddcefdc",
   "metadata": {},
   "source": [
    "### Spline base functions tests\n",
    "\n",
    "Note to self: we should be performing grid augmentation outside of the function call, unlike what they do in pykan."
   ]
  },
  {
   "cell_type": "code",
   "execution_count": 3,
   "id": "8e079623-0b59-484a-845b-6f1fdcb0a3a8",
   "metadata": {},
   "outputs": [],
   "source": [
    "in_dim=3\n",
    "out_dim=2\n",
    "G=10\n",
    "k=3\n",
    "grid_range=[-1, 1]"
   ]
  },
  {
   "cell_type": "code",
   "execution_count": 4,
   "id": "95ed331b-abf4-4ee2-a02f-ea05a9c36f15",
   "metadata": {},
   "outputs": [],
   "source": [
    "import torch\n",
    "\n",
    "# pykan implementation\n",
    "def B_batch(x, grid, k=3):\n",
    "\n",
    "    grid = grid.unsqueeze(dim=2)\n",
    "    x = x.unsqueeze(dim=1)\n",
    "\n",
    "    if k == 0:\n",
    "        value = (x >= grid[:, :-1]) * (x < grid[:, 1:])\n",
    "    else:\n",
    "        B_km1 = B_batch(x[:, 0], grid=grid[:, :, 0], k=k - 1)\n",
    "        value = (x - grid[:, :-(k + 1)]) / (grid[:, k:-1] - grid[:, :-(k + 1)]) * B_km1[:, :-1] + (grid[:, k + 1:] - x) / (grid[:, k + 1:] - grid[:, 1:(-k)]) * B_km1[:, 1:]\n",
    "    \n",
    "    return value\n",
    "\n",
    "# efficientkan implementation\n",
    "def b_splines(x, grid, K=3):\n",
    "    x = x.unsqueeze(-1)\n",
    "    bases = ((x >= grid[:, :-1]) & (x < grid[:, 1:])).float()\n",
    "    for k in range(1, K + 1):\n",
    "        bases = (\n",
    "            (x - grid[:, : -(k + 1)])\n",
    "            / (grid[:, k:-1] - grid[:, : -(k + 1)])\n",
    "            * bases[:, :, :-1]\n",
    "        ) + (\n",
    "            (grid[:, k + 1 :] - x)\n",
    "            / (grid[:, k + 1 :] - grid[:, 1:(-k)])\n",
    "            * bases[:, :, 1:]\n",
    "        )\n",
    "\n",
    "    return bases\n"
   ]
  },
  {
   "cell_type": "code",
   "execution_count": 6,
   "id": "4cd2d894-d646-434c-bad0-6d6166d0984e",
   "metadata": {},
   "outputs": [
    {
     "name": "stdout",
     "output_type": "stream",
     "text": [
      "torch.Size([6, 11])\n",
      "torch.Size([6, 17])\n"
     ]
    }
   ],
   "source": [
    "# Sample points\n",
    "x = torch.normal(0,1,size=(in_dim*out_dim, 100))\n",
    "# Sample grid\n",
    "grid = torch.einsum('i,j->ij', torch.ones(in_dim*out_dim), torch.linspace(grid_range[0], grid_range[1], steps=G + 1))\n",
    "print(grid.shape)\n",
    "k = 3\n",
    "# Grid augmentation\n",
    "h = (grid[:, [-1]] - grid[:, [0]]) / (grid.shape[1] - 1)\n",
    "for i in range(k):\n",
    "    grid = torch.cat([grid[:, [0]] - h, grid], dim=1)\n",
    "    grid = torch.cat([grid, grid[:, [-1]] + h], dim=1)\n",
    "print(grid.shape)"
   ]
  },
  {
   "cell_type": "code",
   "execution_count": 7,
   "id": "d2fe64fd-f38c-4f8c-b247-02c086bae37f",
   "metadata": {},
   "outputs": [
    {
     "name": "stdout",
     "output_type": "stream",
     "text": [
      "Shapes before permutation:\n",
      "torch.Size([6, 13, 100])\n",
      "torch.Size([100, 6, 13])\n",
      "Shape of second tensor after permutation:\n",
      "torch.Size([6, 13, 100])\n"
     ]
    }
   ],
   "source": [
    "method_1 = B_batch(x,grid,k)\n",
    "method_2 = b_splines(x.T,grid,k)\n",
    "\n",
    "print(\"Shapes before permutation:\")\n",
    "print(method_1.shape)\n",
    "print(method_2.shape)\n",
    "\n",
    "# Permute to get same shapes\n",
    "method_2 = method_2.permute(1, 2, 0)\n",
    "print(\"Shape of second tensor after permutation:\")\n",
    "print(method_2.shape)"
   ]
  },
  {
   "cell_type": "code",
   "execution_count": 8,
   "id": "c21bcc5a-8bad-4c7c-b9f2-e4694a6a54ef",
   "metadata": {},
   "outputs": [
    {
     "name": "stdout",
     "output_type": "stream",
     "text": [
      "The two object have 7800 out of 7800 values equal.\n"
     ]
    }
   ],
   "source": [
    "print(f\"The two object have {(method_1 == method_2).sum()} out of {method_2.flatten().shape[0]} values equal.\")"
   ]
  },
  {
   "cell_type": "markdown",
   "id": "295d80f9-f6be-4ed9-89ef-75b5d2300a8f",
   "metadata": {},
   "source": [
    "Timing to show why the second case is better, as it does not involve recursive function calls."
   ]
  },
  {
   "cell_type": "code",
   "execution_count": 15,
   "id": "d9b3160f-9745-44eb-a452-bdc4c6157199",
   "metadata": {},
   "outputs": [
    {
     "name": "stdout",
     "output_type": "stream",
     "text": [
      "pykan implementation: 7.190586400218308\n",
      "efficientkan implementation: 7.479282299987972\n"
     ]
    }
   ],
   "source": [
    "import timeit\n",
    "\n",
    "# Make bigger arrays\n",
    "x_big = torch.normal(0,1,size=(111, 1000))\n",
    "grid_big = torch.einsum('i,j->ij', torch.ones(111), torch.linspace(grid_range[0], grid_range[1], steps=15))\n",
    "kappa = 10\n",
    "h = (grid_big[:, [-1]] - grid_big[:, [0]]) / (grid_big.shape[1] - 1)\n",
    "for i in range(kappa):\n",
    "    grid_big = torch.cat([grid_big[:, [0]] - h, grid_big], dim=1)\n",
    "    grid_big = torch.cat([grid_big, grid_big[:, [-1]] + h], dim=1)\n",
    "\n",
    "# Wrappers for timing\n",
    "def timed_function1():\n",
    "    return B_batch(x_big, grid_big, kappa)\n",
    "\n",
    "def timed_function2():\n",
    "    return b_splines(x_big.T, grid_big, kappa)\n",
    "\n",
    "elapsed_time_1 = timeit.timeit(timed_function1, number=100)\n",
    "print(f\"pykan implementation: {elapsed_time_1}\")\n",
    "elapsed_time_2 = timeit.timeit(timed_function2, number=100)\n",
    "print(f\"efficientkan implementation: {elapsed_time_2}\")\n"
   ]
  },
  {
   "cell_type": "markdown",
   "id": "00b98d8c-1618-4305-9c1b-6e575e226f9e",
   "metadata": {},
   "source": [
    "For some reason it is not faster. In any case, let's try to write these in JAX."
   ]
  },
  {
   "cell_type": "code",
   "execution_count": null,
   "id": "9bdb6b0f-7156-4652-86ad-2384887e5c6c",
   "metadata": {},
   "outputs": [],
   "source": []
  },
  {
   "cell_type": "code",
   "execution_count": 48,
   "id": "8f437cbf-0cff-421a-9cd7-2597fa18de3e",
   "metadata": {},
   "outputs": [],
   "source": [
    "def jB_batch(x, grid, k=3):\n",
    "    grid = jnp.expand_dims(grid, axis=2)\n",
    "    x = jnp.expand_dims(x, axis=1)\n",
    "\n",
    "    if k == 0:\n",
    "        value = (x >= grid[:, :-1]) & (x < grid[:, 1:])\n",
    "    else:\n",
    "        B_km1 = jB_batch(x[:, 0], grid=grid[:, :, 0], k=k - 1)\n",
    "        value = ((x - grid[:, :-(k + 1)]) / (grid[:, k:-1] - grid[:, :-(k + 1)])) * B_km1[:, :-1] + ((grid[:, k + 1:] - x) / (grid[:, k + 1:] - grid[:, 1:(-k)])) * B_km1[:, 1:]\n",
    "    \n",
    "    return value.astype(float)"
   ]
  },
  {
   "cell_type": "code",
   "execution_count": 68,
   "id": "61757058-af35-4610-bbb7-b760ea43f3c7",
   "metadata": {},
   "outputs": [],
   "source": [
    "def jb_splines(x, grid, K=3):\n",
    "    x = jnp.expand_dims(x, axis=-1)\n",
    "    bases = ((x >= grid[:, :-1]) & (x < grid[:, 1:])).astype(float)\n",
    "    \n",
    "    for k in range(1, K + 1):\n",
    "        left_term = (x - grid[:, :-(k + 1)]) / (grid[:, k:-1] - grid[:, :-(k + 1)])\n",
    "        right_term = (grid[:, k + 1:] - x) / (grid[:, k + 1:] - grid[:, 1:(-k)])\n",
    "        \n",
    "        bases = left_term * bases[:, :, :-1] + right_term * bases[:, :, 1:]\n",
    "\n",
    "    return bases"
   ]
  },
  {
   "cell_type": "code",
   "execution_count": null,
   "id": "bca7424c-4bdd-477e-86a6-10c3773375ea",
   "metadata": {},
   "outputs": [],
   "source": []
  },
  {
   "cell_type": "code",
   "execution_count": 53,
   "id": "bf4a2e76-38e9-4909-846c-7c3db45b48bb",
   "metadata": {},
   "outputs": [
    {
     "name": "stdout",
     "output_type": "stream",
     "text": [
      "pykan - jax: 22.595613399986178\n"
     ]
    }
   ],
   "source": [
    "# Convert to jnp arrays\n",
    "jx_big = jnp.array(x_big.numpy())\n",
    "jgrid_big = jnp.array(grid_big.numpy())\n",
    "\n",
    "def jbatch_time():\n",
    "    return jB_batch(jx_big, jgrid_big, kappa)\n",
    "\n",
    "jelapsed_time_1 = timeit.timeit(jbatch_time, number=100)\n",
    "print(f\"pykan - jax: {jelapsed_time_1}\")"
   ]
  },
  {
   "cell_type": "code",
   "execution_count": 69,
   "id": "8111d2bb-4d76-40e7-9e8d-e8e9ca8464c8",
   "metadata": {},
   "outputs": [
    {
     "name": "stdout",
     "output_type": "stream",
     "text": [
      "efficientkan - jax: 20.94289659988135\n"
     ]
    }
   ],
   "source": [
    "def jsplines_time():\n",
    "    return jb_splines(jx_big.T, jgrid_big, kappa)\n",
    "\n",
    "jelapsed_time_2 = timeit.timeit(jsplines_time, number=100)\n",
    "print(f\"efficientkan - jax: {jelapsed_time_2}\")"
   ]
  },
  {
   "cell_type": "code",
   "execution_count": null,
   "id": "26db7079-a8b2-48cc-a71e-82ff2a0b6f47",
   "metadata": {},
   "outputs": [],
   "source": []
  },
  {
   "cell_type": "markdown",
   "id": "174ed75f-52a2-463e-aba6-a5ce172db1d4",
   "metadata": {},
   "source": [
    "Well, now we're getting the expected result that the loop is faster than the recursive call, however these times are prohibitive (3 times slower than pytorch on CPU)."
   ]
  },
  {
   "cell_type": "code",
   "execution_count": null,
   "id": "c8791fb6-9adf-4fdd-83d8-4261827baf2f",
   "metadata": {},
   "outputs": [],
   "source": []
  }
 ],
 "metadata": {
  "kernelspec": {
   "display_name": "Python 3 (ipykernel)",
   "language": "python",
   "name": "python3"
  },
  "language_info": {
   "codemirror_mode": {
    "name": "ipython",
    "version": 3
   },
   "file_extension": ".py",
   "mimetype": "text/x-python",
   "name": "python",
   "nbconvert_exporter": "python",
   "pygments_lexer": "ipython3",
   "version": "3.11.4"
  }
 },
 "nbformat": 4,
 "nbformat_minor": 5
}
